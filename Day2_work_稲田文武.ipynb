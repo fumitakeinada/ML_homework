{
 "cells": [
  {
   "cell_type": "markdown",
   "metadata": {},
   "source": [
    "# Day2 課題"
   ]
  },
  {
   "cell_type": "markdown",
   "metadata": {},
   "source": [
    "## 概要\n",
    "KaggleのKickstarterのデータを用いて、機械学習のモデルを作成する。\n",
    "\n",
    "Day1の内容から更に以下の内容についての実装および検証を行う。\n",
    "\n",
    "- 交差検証、ホールドアウト\n",
    "- 正規化、標準化、無相関化、白色化\n",
    "- ハイパーパラメータ探索"
   ]
  },
  {
   "cell_type": "markdown",
   "metadata": {},
   "source": [
    "## 内容\n",
    "以下の内容で検証を行う。\n",
    "\n",
    "1. Day1の内容の見直し\n",
    "2. 交差検証、ホールドアウト法の実施\n",
    "3. データの正規化、標準化、無相関化、白色化についての考察\n",
    "4. ハイパーパラメータ探索\n",
    "\n"
   ]
  },
  {
   "cell_type": "markdown",
   "metadata": {},
   "source": [
    "## Day1の内容の見直し\n",
    "Day1の課題で指摘のあった以下の内容について、見直しを行う。\n",
    "\n",
    "- ドル換算の目標金額のlog換算\n",
    "- 国による取捨選択\n",
    "- プロジェクト名"
   ]
  },
  {
   "cell_type": "markdown",
   "metadata": {},
   "source": [
    "### ライブラリ、データの読み込み、初期処理"
   ]
  },
  {
   "cell_type": "code",
   "execution_count": 211,
   "metadata": {},
   "outputs": [],
   "source": [
    "%matplotlib inline\n",
    "import pandas as pd\n",
    "import numpy as np\n",
    "import seaborn as sns\n",
    "import matplotlib.pyplot as plt\n",
    "from datetime import datetime as dt\n",
    "import math\n",
    "\n",
    "from sklearn.linear_model import SGDClassifier\n",
    "from sklearn.metrics import log_loss, accuracy_score, confusion_matrix\n",
    "from sklearn.linear_model import LinearRegression, SGDClassifier\n",
    "from sklearn.metrics import mean_squared_error, mean_absolute_error # 回帰問題における性能評価に関する関数\n",
    "from  sklearn.metrics import accuracy_score, precision_recall_fscore_support, confusion_matrix # 回帰問題における性能評価に関する関数\n",
    "from sklearn.model_selection import train_test_split # ホールドアウト法に関する関数\n",
    "from sklearn.model_selection import KFold # 交差検証法に関する関数\n",
    "from sklearn.metrics import mean_absolute_error # 回帰問題における性能評価に関する関数\n",
    "\n",
    "\n",
    "from sklearn.preprocessing import MinMaxScaler # 正規化関数\n",
    "from sklearn.preprocessing import StandardScaler # 標準化関数\n",
    "\n",
    "from sklearn.decomposition import PCA\n",
    "from sklearn.preprocessing import StandardScaler\n",
    "\n",
    "from sklearn.model_selection import GridSearchCV\n",
    "\n",
    "from sklearn.svm import SVC"
   ]
  },
  {
   "cell_type": "code",
   "execution_count": 212,
   "metadata": {},
   "outputs": [],
   "source": [
    "# グラフ表示用メソッド定義\n",
    "def plot_graph(df, item_name):\n",
    "    fig,ax = plt.subplots(1,2, figsize=(20,6))\n",
    "\n",
    "    # 項目のグラフ表示\n",
    "    sns_ax = ax[0]\n",
    "    sns_item=sns.countplot(df[item_name],order=np.sort(df[item_name].unique()), ax=sns_ax)\n",
    "    sns_item.set_xticklabels(sns_item.get_xticklabels(), rotation=90, ha=\"right\")  # 90度回転\n",
    "    \n",
    "    #　項目の成否の割合\n",
    "    cross_ax = ax[1]\n",
    "    cross_item = pd.crosstab(df[item_name],df['state'],normalize='index')\n",
    "    cross_item.plot.bar(stacked=True, ax=cross_ax)\n",
    "\n",
    "    plt.tight_layout()\n",
    "    plt.show()"
   ]
  },
  {
   "cell_type": "code",
   "execution_count": 213,
   "metadata": {},
   "outputs": [],
   "source": [
    "# 関数定義\n",
    "# sucessfulとfailed以外を削除する関数\n",
    "def remove_date_about_state(df_ks):\n",
    "    df_ks_result = df_ks[(df_ks[\"state\"] == \"successful\")|(df_ks[\"state\"] == \"failed\")].copy()\n",
    "    return df_ks_result\n",
    "\n",
    "# 期間、開始日時の月、終了日時の月を項目として加える関数\n",
    "def add_item_days_month(df_ks_result):\n",
    "    # 期間算出\n",
    "    #df_ks_result[\"days\"] = df_ks_result.apply(lambda x: (dt.strptime(x['deadline'], '%Y-%m-%d') - dt.strptime(x['launched'], '%Y-%m-%d %H:%M:%S')).days , axis=1)\n",
    "    df_ks_result.loc[df_ks_result[\"deadline\"].isnull() == False, \"days\"] = df_ks_result.apply(lambda x: (dt.strptime(x[\"deadline\"], '%Y-%m-%d') - dt.strptime(x[\"launched\"], '%Y-%m-%d %H:%M:%S')).days , axis=1)\n",
    "\n",
    "    # 月算出\n",
    "    launched_month_func = lambda launched : dt.strptime(launched, '%Y-%m-%d %H:%M:%S').month\n",
    "    #df_ks_result[\"launched_month\"] = df_ks_result['launched'].map( launched_month_func)\n",
    "    df_ks_result.loc[df_ks_result[\"launched\"].isnull()==False,\"launched_month\"] = df_ks_result[\"launched\"].map( launched_month_func)\n",
    "\n",
    "    deadline_month_func = lambda deadline : dt.strptime(deadline, '%Y-%m-%d').month\n",
    "    #df_ks_result[\"deadline_month\"] = df_ks_result['deadline'].map(deadline_month_func)\n",
    "    df_ks_result.loc[df_ks_result[\"deadline\"].isnull()==False,\"deadline_month\"] = df_ks_result[\"deadline\"].map( deadline_month_func)\n",
    "\n",
    "# successfulをTrueとし、それ以外をFalseに設定する関数\n",
    "def change_data_about_state(df_ks):\n",
    "    df_ks.loc[df_ks['state'] == 'successful', \"state_bool\"] = True\n",
    "    df_ks.loc[df_ks['state'] != 'successful',\"state_bool\"] = False\n"
   ]
  },
  {
   "cell_type": "code",
   "execution_count": 214,
   "metadata": {},
   "outputs": [],
   "source": [
    "# データ読み込み\n",
    "df_ks = pd.read_csv(\"../1_data/ks-projects-201801.csv\")"
   ]
  },
  {
   "cell_type": "code",
   "execution_count": 215,
   "metadata": {},
   "outputs": [],
   "source": [
    "# 削除する列の定義\n",
    "drop_list = (\"state\",\"goal\",\"ID\",\"name\",\"currency\",\"deadline\",\"launched\",\"pledged\",\"backers\",\"usd pledged\",\"usd_pledged_real\")\n",
    "\n",
    "# 使用する項目のリスト\n",
    "item_list = (\"state_bool\",\"usd_goal_real\",\"days\",\"lauched_month\",\"deadline_month\",\"country\",\"category\",\"main_category\")\n",
    "\n",
    "# ダミー変数化する項目\n",
    "dummy_items = ['launched_month','deadline_month','country','category','main_category']\n",
    "\n"
   ]
  },
  {
   "cell_type": "code",
   "execution_count": 216,
   "metadata": {},
   "outputs": [],
   "source": [
    "# \"state\"の\"successful\"と\"failed\"以外を削除\n",
    "df_ks_data = remove_date_about_state(df_ks)\n",
    "\n",
    "# successfulとfailedをTrue,Falseにする。\n",
    "change_data_about_state(df_ks_data)\n",
    "\n",
    "# 期間、開始月、終了月の算出\n",
    "add_item_days_month(df_ks_data)\n",
    "\n",
    "\n",
    "# 結果などの予測に使えないデータを予め削除\n",
    "for item in drop_list:\n",
    "        df_ks_data = df_ks_data.drop(item, axis=1)\n",
    "        "
   ]
  },
  {
   "cell_type": "code",
   "execution_count": 217,
   "metadata": {},
   "outputs": [
    {
     "data": {
      "text/html": [
       "<div>\n",
       "<style scoped>\n",
       "    .dataframe tbody tr th:only-of-type {\n",
       "        vertical-align: middle;\n",
       "    }\n",
       "\n",
       "    .dataframe tbody tr th {\n",
       "        vertical-align: top;\n",
       "    }\n",
       "\n",
       "    .dataframe thead th {\n",
       "        text-align: right;\n",
       "    }\n",
       "</style>\n",
       "<table border=\"1\" class=\"dataframe\">\n",
       "  <thead>\n",
       "    <tr style=\"text-align: right;\">\n",
       "      <th></th>\n",
       "      <th>category</th>\n",
       "      <th>main_category</th>\n",
       "      <th>country</th>\n",
       "      <th>usd_goal_real</th>\n",
       "      <th>state_bool</th>\n",
       "      <th>days</th>\n",
       "      <th>launched_month</th>\n",
       "      <th>deadline_month</th>\n",
       "    </tr>\n",
       "  </thead>\n",
       "  <tbody>\n",
       "    <tr>\n",
       "      <th>0</th>\n",
       "      <td>Poetry</td>\n",
       "      <td>Publishing</td>\n",
       "      <td>GB</td>\n",
       "      <td>1533.95</td>\n",
       "      <td>False</td>\n",
       "      <td>58</td>\n",
       "      <td>8</td>\n",
       "      <td>10</td>\n",
       "    </tr>\n",
       "    <tr>\n",
       "      <th>1</th>\n",
       "      <td>Narrative Film</td>\n",
       "      <td>Film &amp; Video</td>\n",
       "      <td>US</td>\n",
       "      <td>30000.00</td>\n",
       "      <td>False</td>\n",
       "      <td>59</td>\n",
       "      <td>9</td>\n",
       "      <td>11</td>\n",
       "    </tr>\n",
       "    <tr>\n",
       "      <th>2</th>\n",
       "      <td>Narrative Film</td>\n",
       "      <td>Film &amp; Video</td>\n",
       "      <td>US</td>\n",
       "      <td>45000.00</td>\n",
       "      <td>False</td>\n",
       "      <td>44</td>\n",
       "      <td>1</td>\n",
       "      <td>2</td>\n",
       "    </tr>\n",
       "    <tr>\n",
       "      <th>3</th>\n",
       "      <td>Music</td>\n",
       "      <td>Music</td>\n",
       "      <td>US</td>\n",
       "      <td>5000.00</td>\n",
       "      <td>False</td>\n",
       "      <td>29</td>\n",
       "      <td>3</td>\n",
       "      <td>4</td>\n",
       "    </tr>\n",
       "    <tr>\n",
       "      <th>5</th>\n",
       "      <td>Restaurants</td>\n",
       "      <td>Food</td>\n",
       "      <td>US</td>\n",
       "      <td>50000.00</td>\n",
       "      <td>True</td>\n",
       "      <td>34</td>\n",
       "      <td>2</td>\n",
       "      <td>4</td>\n",
       "    </tr>\n",
       "  </tbody>\n",
       "</table>\n",
       "</div>"
      ],
      "text/plain": [
       "         category main_category country  usd_goal_real  state_bool  days  \\\n",
       "0          Poetry    Publishing      GB        1533.95       False    58   \n",
       "1  Narrative Film  Film & Video      US       30000.00       False    59   \n",
       "2  Narrative Film  Film & Video      US       45000.00       False    44   \n",
       "3           Music         Music      US        5000.00       False    29   \n",
       "5     Restaurants          Food      US       50000.00        True    34   \n",
       "\n",
       "   launched_month  deadline_month  \n",
       "0               8              10  \n",
       "1               9              11  \n",
       "2               1               2  \n",
       "3               3               4  \n",
       "5               2               4  "
      ]
     },
     "metadata": {},
     "output_type": "display_data"
    }
   ],
   "source": [
    "# データの確認\n",
    "#display(df_ks_data_all.head())\n",
    "\n",
    "display(df_ks_data.head())"
   ]
  },
  {
   "cell_type": "markdown",
   "metadata": {},
   "source": [
    "### ドル換算の目標金額のlog換算\n",
    "ドル換算の目標金額については各プロジェクトの設定の違いが大きい。\n",
    "\n",
    "よって、log関数によって値の単位を変更し、それによるモデルの作成を行う。"
   ]
  },
  {
   "cell_type": "code",
   "execution_count": 218,
   "metadata": {},
   "outputs": [],
   "source": [
    "# ドル換算の目標金額をlog10で変換し、格納し、元の目的変数を削除\n",
    "def trans_log_usd_goal_real(df_arg):\n",
    "    log_usd_goal_real_func = lambda x : math.log10(x)\n",
    "    df_arg.loc[df_arg[\"usd_goal_real\"].isnull() == False, \"log_usd_goal_real\"]  \\\n",
    "        = df_arg[\"usd_goal_real\"].map( log_usd_goal_real_func)\n",
    "    df_arg_ret = df_arg.drop(\"usd_goal_real\",axis=1)\n",
    "    return df_arg_ret\n",
    "\n",
    "df_ks_data_log = trans_log_usd_goal_real(df_ks_data)"
   ]
  },
  {
   "cell_type": "code",
   "execution_count": 219,
   "metadata": {},
   "outputs": [
    {
     "data": {
      "text/html": [
       "<div>\n",
       "<style scoped>\n",
       "    .dataframe tbody tr th:only-of-type {\n",
       "        vertical-align: middle;\n",
       "    }\n",
       "\n",
       "    .dataframe tbody tr th {\n",
       "        vertical-align: top;\n",
       "    }\n",
       "\n",
       "    .dataframe thead th {\n",
       "        text-align: right;\n",
       "    }\n",
       "</style>\n",
       "<table border=\"1\" class=\"dataframe\">\n",
       "  <thead>\n",
       "    <tr style=\"text-align: right;\">\n",
       "      <th></th>\n",
       "      <th>category</th>\n",
       "      <th>main_category</th>\n",
       "      <th>country</th>\n",
       "      <th>state_bool</th>\n",
       "      <th>days</th>\n",
       "      <th>launched_month</th>\n",
       "      <th>deadline_month</th>\n",
       "      <th>log_usd_goal_real</th>\n",
       "    </tr>\n",
       "  </thead>\n",
       "  <tbody>\n",
       "    <tr>\n",
       "      <th>0</th>\n",
       "      <td>Poetry</td>\n",
       "      <td>Publishing</td>\n",
       "      <td>GB</td>\n",
       "      <td>False</td>\n",
       "      <td>58</td>\n",
       "      <td>8</td>\n",
       "      <td>10</td>\n",
       "      <td>3.185811</td>\n",
       "    </tr>\n",
       "    <tr>\n",
       "      <th>1</th>\n",
       "      <td>Narrative Film</td>\n",
       "      <td>Film &amp; Video</td>\n",
       "      <td>US</td>\n",
       "      <td>False</td>\n",
       "      <td>59</td>\n",
       "      <td>9</td>\n",
       "      <td>11</td>\n",
       "      <td>4.477121</td>\n",
       "    </tr>\n",
       "    <tr>\n",
       "      <th>2</th>\n",
       "      <td>Narrative Film</td>\n",
       "      <td>Film &amp; Video</td>\n",
       "      <td>US</td>\n",
       "      <td>False</td>\n",
       "      <td>44</td>\n",
       "      <td>1</td>\n",
       "      <td>2</td>\n",
       "      <td>4.653213</td>\n",
       "    </tr>\n",
       "    <tr>\n",
       "      <th>3</th>\n",
       "      <td>Music</td>\n",
       "      <td>Music</td>\n",
       "      <td>US</td>\n",
       "      <td>False</td>\n",
       "      <td>29</td>\n",
       "      <td>3</td>\n",
       "      <td>4</td>\n",
       "      <td>3.698970</td>\n",
       "    </tr>\n",
       "    <tr>\n",
       "      <th>5</th>\n",
       "      <td>Restaurants</td>\n",
       "      <td>Food</td>\n",
       "      <td>US</td>\n",
       "      <td>True</td>\n",
       "      <td>34</td>\n",
       "      <td>2</td>\n",
       "      <td>4</td>\n",
       "      <td>4.698970</td>\n",
       "    </tr>\n",
       "  </tbody>\n",
       "</table>\n",
       "</div>"
      ],
      "text/plain": [
       "         category main_category country  state_bool  days  launched_month  \\\n",
       "0          Poetry    Publishing      GB       False    58               8   \n",
       "1  Narrative Film  Film & Video      US       False    59               9   \n",
       "2  Narrative Film  Film & Video      US       False    44               1   \n",
       "3           Music         Music      US       False    29               3   \n",
       "5     Restaurants          Food      US        True    34               2   \n",
       "\n",
       "   deadline_month  log_usd_goal_real  \n",
       "0              10           3.185811  \n",
       "1              11           4.477121  \n",
       "2               2           4.653213  \n",
       "3               4           3.698970  \n",
       "5               4           4.698970  "
      ]
     },
     "metadata": {},
     "output_type": "display_data"
    }
   ],
   "source": [
    "display(df_ks_data_log.head())"
   ]
  },
  {
   "cell_type": "code",
   "execution_count": 220,
   "metadata": {},
   "outputs": [
    {
     "name": "stdout",
     "output_type": "stream",
     "text": [
      "平均:3.727\n",
      "中央値:3.699\n",
      "最大値:8.221\n",
      "最小値:-2.000\n",
      "分散:0.528\n",
      "標準偏差:0.727\n"
     ]
    },
    {
     "data": {
      "image/png": "[encoded data removed]",
      "text/plain": [
       "<Figure size 1008x360 with 2 Axes>"
      ]
     },
     "metadata": {
      "needs_background": "light"
     },
     "output_type": "display_data"
    }
   ],
   "source": [
    "# グラフの表示\n",
    "log_usd_goal_real_list = df_ks_data_log['log_usd_goal_real']\n",
    "\n",
    "print(\"平均:{:.3f}\".format(log_usd_goal_real_list.mean()))\n",
    "print(\"中央値:{:.3f}\".format(log_usd_goal_real_list.median()))\n",
    "print(\"最大値:{:.3f}\".format(log_usd_goal_real_list.max()))\n",
    "print(\"最小値:{:.3f}\".format(log_usd_goal_real_list.min()))\n",
    "print(\"分散:{:.3f}\".format(log_usd_goal_real_list.var()))\n",
    "print(\"標準偏差:{:.3f}\".format(log_usd_goal_real_list.std()))\n",
    "\n",
    "# 縦軸は対数で表す。\n",
    "fig,ax = plt.subplots(1,2,figsize = (14,5))\n",
    "ax[0].hist(log_usd_goal_real_list,log=True)\n",
    "ax[0].set_xlabel('log10(usd_goal_real)')\n",
    "ax[0].set_ylabel('number')\n",
    "\n",
    "# 箱髭図\n",
    "sns.boxplot(data=log_usd_goal_real_list,ax=ax[1])\n",
    "#ax[1].set(ylim=(0,50000)) # 上限を制限\n",
    "plt.show()"
   ]
  },
  {
   "cell_type": "code",
   "execution_count": 221,
   "metadata": {},
   "outputs": [],
   "source": [
    "# モデル作成\n",
    "def make_model(X, y):\n",
    "    clf = SGDClassifier(loss='log', penalty='none', max_iter=10000, fit_intercept=True, random_state=1234, tol=1e-3)\n",
    "    clf.fit(X, y)\n",
    "    return clf    \n",
    "\n",
    "\n",
    "# モデル作成(state_boolを目的変数、それいがいを説明変数に自動で分ける)\n",
    "def make_model_df(df_arg):\n",
    "    y = df_arg[\"state_bool\"].values\n",
    "    X = df_arg.drop('state_bool', axis=1)\n",
    "    clf = make_model(X, y)\n",
    "    return clf,X,y\n",
    "\n",
    "\n",
    "# 予測\n",
    "def run_model(clf,X):\n",
    "    # ラベルを予測\n",
    "    y_est = clf.predict(X)\n",
    "    return y_est\n",
    "\n",
    "# 結果の表示\n",
    "def print_result(y, y_est):\n",
    "    # 対数尤度を表示\n",
    "    print('対数尤度 = {:.3f}'.format(- log_loss(y, y_est)))\n",
    "\n",
    "    # 正答率を計算\n",
    "    accuracy =  accuracy_score(y, y_est)\n",
    "    print('正答率（Accuracy） = {:.3f}%'.format(100 * accuracy))\n",
    "\n",
    "    # Precision, Recall, F1-scoreを計算\n",
    "    precision, recall, f1_score, _ = precision_recall_fscore_support(y, y_est)\n",
    "\n",
    "    # state_book が Trueに関するPrecision, Recall, F1-scoreを表示\n",
    "    # precision[1],recall[1],f1_score[1]で取得しているため、修正の可能性あり。（0で取得かどうか不明）\n",
    "    print('適合率（Precision） = {:.3f}%'.format(100 * precision[1]))\n",
    "    print('再現率（Recall） = {:.3f}%'.format(100 * recall[1]))\n",
    "    print('F1値（F1-score） = {:.3f}%'.format(100 * f1_score[1]))\n",
    "    \n",
    "    \n",
    "# 予測値と正解のクロス集計\n",
    "def make_cross(y,y_est):\n",
    "    conf_mat = pd.DataFrame(confusion_matrix(y, y_est), \n",
    "                        index=['正解 = 失敗', '正解 = 成功'], \n",
    "                        columns=['予測 = 失敗', '予測 = 成功'])\n",
    "    return conf_mat\n",
    "\n",
    "\n",
    "# モデルから予測と予測結果の表示\n",
    "def run_model_and_print_result(X,y,clf):\n",
    "    # テスト用データで予測\n",
    "    y_est = run_model(clf, X)\n",
    "\n",
    "    # テスト用データと予測結果の内容を表示\n",
    "    print_result(y, y_est)\n",
    "    \n",
    "    # 予測値と正解のクロス集計\n",
    "    conf_mat = make_cross(y, y_est)\n",
    "    print(conf_mat)"
   ]
  },
  {
   "cell_type": "code",
   "execution_count": 222,
   "metadata": {},
   "outputs": [],
   "source": [
    "# ダミー変数化\n",
    "df_ks_data_log_all = pd.get_dummies(df_ks_data_log,  columns=dummy_items ,drop_first = True)"
   ]
  },
  {
   "cell_type": "code",
   "execution_count": 223,
   "metadata": {},
   "outputs": [
    {
     "data": {
      "text/html": [
       "<div>\n",
       "<style scoped>\n",
       "    .dataframe tbody tr th:only-of-type {\n",
       "        vertical-align: middle;\n",
       "    }\n",
       "\n",
       "    .dataframe tbody tr th {\n",
       "        vertical-align: top;\n",
       "    }\n",
       "\n",
       "    .dataframe thead th {\n",
       "        text-align: right;\n",
       "    }\n",
       "</style>\n",
       "<table border=\"1\" class=\"dataframe\">\n",
       "  <thead>\n",
       "    <tr style=\"text-align: right;\">\n",
       "      <th></th>\n",
       "      <th>state_bool</th>\n",
       "      <th>days</th>\n",
       "      <th>log_usd_goal_real</th>\n",
       "      <th>launched_month_2</th>\n",
       "      <th>launched_month_3</th>\n",
       "      <th>launched_month_4</th>\n",
       "      <th>launched_month_5</th>\n",
       "      <th>launched_month_6</th>\n",
       "      <th>launched_month_7</th>\n",
       "      <th>launched_month_8</th>\n",
       "      <th>...</th>\n",
       "      <th>main_category_Fashion</th>\n",
       "      <th>main_category_Film &amp; Video</th>\n",
       "      <th>main_category_Food</th>\n",
       "      <th>main_category_Games</th>\n",
       "      <th>main_category_Journalism</th>\n",
       "      <th>main_category_Music</th>\n",
       "      <th>main_category_Photography</th>\n",
       "      <th>main_category_Publishing</th>\n",
       "      <th>main_category_Technology</th>\n",
       "      <th>main_category_Theater</th>\n",
       "    </tr>\n",
       "  </thead>\n",
       "  <tbody>\n",
       "    <tr>\n",
       "      <th>0</th>\n",
       "      <td>False</td>\n",
       "      <td>58</td>\n",
       "      <td>3.185811</td>\n",
       "      <td>0</td>\n",
       "      <td>0</td>\n",
       "      <td>0</td>\n",
       "      <td>0</td>\n",
       "      <td>0</td>\n",
       "      <td>0</td>\n",
       "      <td>1</td>\n",
       "      <td>...</td>\n",
       "      <td>0</td>\n",
       "      <td>0</td>\n",
       "      <td>0</td>\n",
       "      <td>0</td>\n",
       "      <td>0</td>\n",
       "      <td>0</td>\n",
       "      <td>0</td>\n",
       "      <td>1</td>\n",
       "      <td>0</td>\n",
       "      <td>0</td>\n",
       "    </tr>\n",
       "    <tr>\n",
       "      <th>1</th>\n",
       "      <td>False</td>\n",
       "      <td>59</td>\n",
       "      <td>4.477121</td>\n",
       "      <td>0</td>\n",
       "      <td>0</td>\n",
       "      <td>0</td>\n",
       "      <td>0</td>\n",
       "      <td>0</td>\n",
       "      <td>0</td>\n",
       "      <td>0</td>\n",
       "      <td>...</td>\n",
       "      <td>0</td>\n",
       "      <td>1</td>\n",
       "      <td>0</td>\n",
       "      <td>0</td>\n",
       "      <td>0</td>\n",
       "      <td>0</td>\n",
       "      <td>0</td>\n",
       "      <td>0</td>\n",
       "      <td>0</td>\n",
       "      <td>0</td>\n",
       "    </tr>\n",
       "    <tr>\n",
       "      <th>2</th>\n",
       "      <td>False</td>\n",
       "      <td>44</td>\n",
       "      <td>4.653213</td>\n",
       "      <td>0</td>\n",
       "      <td>0</td>\n",
       "      <td>0</td>\n",
       "      <td>0</td>\n",
       "      <td>0</td>\n",
       "      <td>0</td>\n",
       "      <td>0</td>\n",
       "      <td>...</td>\n",
       "      <td>0</td>\n",
       "      <td>1</td>\n",
       "      <td>0</td>\n",
       "      <td>0</td>\n",
       "      <td>0</td>\n",
       "      <td>0</td>\n",
       "      <td>0</td>\n",
       "      <td>0</td>\n",
       "      <td>0</td>\n",
       "      <td>0</td>\n",
       "    </tr>\n",
       "    <tr>\n",
       "      <th>3</th>\n",
       "      <td>False</td>\n",
       "      <td>29</td>\n",
       "      <td>3.698970</td>\n",
       "      <td>0</td>\n",
       "      <td>1</td>\n",
       "      <td>0</td>\n",
       "      <td>0</td>\n",
       "      <td>0</td>\n",
       "      <td>0</td>\n",
       "      <td>0</td>\n",
       "      <td>...</td>\n",
       "      <td>0</td>\n",
       "      <td>0</td>\n",
       "      <td>0</td>\n",
       "      <td>0</td>\n",
       "      <td>0</td>\n",
       "      <td>1</td>\n",
       "      <td>0</td>\n",
       "      <td>0</td>\n",
       "      <td>0</td>\n",
       "      <td>0</td>\n",
       "    </tr>\n",
       "    <tr>\n",
       "      <th>5</th>\n",
       "      <td>True</td>\n",
       "      <td>34</td>\n",
       "      <td>4.698970</td>\n",
       "      <td>1</td>\n",
       "      <td>0</td>\n",
       "      <td>0</td>\n",
       "      <td>0</td>\n",
       "      <td>0</td>\n",
       "      <td>0</td>\n",
       "      <td>0</td>\n",
       "      <td>...</td>\n",
       "      <td>0</td>\n",
       "      <td>0</td>\n",
       "      <td>1</td>\n",
       "      <td>0</td>\n",
       "      <td>0</td>\n",
       "      <td>0</td>\n",
       "      <td>0</td>\n",
       "      <td>0</td>\n",
       "      <td>0</td>\n",
       "      <td>0</td>\n",
       "    </tr>\n",
       "  </tbody>\n",
       "</table>\n",
       "<p>5 rows × 219 columns</p>\n",
       "</div>"
      ],
      "text/plain": [
       "   state_bool  days  log_usd_goal_real  launched_month_2  launched_month_3  \\\n",
       "0       False    58           3.185811                 0                 0   \n",
       "1       False    59           4.477121                 0                 0   \n",
       "2       False    44           4.653213                 0                 0   \n",
       "3       False    29           3.698970                 0                 1   \n",
       "5        True    34           4.698970                 1                 0   \n",
       "\n",
       "   launched_month_4  launched_month_5  launched_month_6  launched_month_7  \\\n",
       "0                 0                 0                 0                 0   \n",
       "1                 0                 0                 0                 0   \n",
       "2                 0                 0                 0                 0   \n",
       "3                 0                 0                 0                 0   \n",
       "5                 0                 0                 0                 0   \n",
       "\n",
       "   launched_month_8  ...  main_category_Fashion  main_category_Film & Video  \\\n",
       "0                 1  ...                      0                           0   \n",
       "1                 0  ...                      0                           1   \n",
       "2                 0  ...                      0                           1   \n",
       "3                 0  ...                      0                           0   \n",
       "5                 0  ...                      0                           0   \n",
       "\n",
       "   main_category_Food  main_category_Games  main_category_Journalism  \\\n",
       "0                   0                    0                         0   \n",
       "1                   0                    0                         0   \n",
       "2                   0                    0                         0   \n",
       "3                   0                    0                         0   \n",
       "5                   1                    0                         0   \n",
       "\n",
       "   main_category_Music  main_category_Photography  main_category_Publishing  \\\n",
       "0                    0                          0                         1   \n",
       "1                    0                          0                         0   \n",
       "2                    0                          0                         0   \n",
       "3                    1                          0                         0   \n",
       "5                    0                          0                         0   \n",
       "\n",
       "   main_category_Technology  main_category_Theater  \n",
       "0                         0                      0  \n",
       "1                         0                      0  \n",
       "2                         0                      0  \n",
       "3                         0                      0  \n",
       "5                         0                      0  \n",
       "\n",
       "[5 rows x 219 columns]"
      ]
     },
     "metadata": {},
     "output_type": "display_data"
    }
   ],
   "source": [
    "display(df_ks_data_log_all.head())"
   ]
  },
  {
   "cell_type": "code",
   "execution_count": 224,
   "metadata": {},
   "outputs": [
    {
     "data": {
      "text/plain": [
       "SGDClassifier(alpha=0.0001, average=False, class_weight=None,\n",
       "       early_stopping=False, epsilon=0.1, eta0=0.0, fit_intercept=True,\n",
       "       l1_ratio=0.15, learning_rate='optimal', loss='log', max_iter=10000,\n",
       "       n_iter=None, n_iter_no_change=5, n_jobs=None, penalty='none',\n",
       "       power_t=0.5, random_state=1234, shuffle=True, tol=0.001,\n",
       "       validation_fraction=0.1, verbose=0, warm_start=False)"
      ]
     },
     "execution_count": 224,
     "metadata": {},
     "output_type": "execute_result"
    }
   ],
   "source": [
    "# モデル作成\n",
    "clf, X, y = make_model_df(df_ks_data_log_all)\n",
    "clf"
   ]
  },
  {
   "cell_type": "code",
   "execution_count": 225,
   "metadata": {},
   "outputs": [
    {
     "name": "stdout",
     "output_type": "stream",
     "text": [
      "対数尤度 = -13.603\n",
      "正答率（Accuracy） = 60.615%\n",
      "適合率（Precision） = 50.771%\n",
      "再現率（Recall） = 81.750%\n",
      "F1値（F1-score） = 62.639%\n",
      "         予測 = 失敗  予測 = 成功\n",
      "正解 = 失敗    91535   106184\n",
      "正解 = 成功    24447   109509\n"
     ]
    }
   ],
   "source": [
    "# 予測と表示\n",
    "run_model_and_print_result(X,y,clf)"
   ]
  },
  {
   "cell_type": "markdown",
   "metadata": {},
   "source": [
    "（考察）　全般的にlog関数を用いない場合に比べて、5%ほど上昇した。"
   ]
  },
  {
   "cell_type": "markdown",
   "metadata": {},
   "source": [
    "### 国による取捨選択"
   ]
  },
  {
   "cell_type": "markdown",
   "metadata": {},
   "source": [
    "国ごとのプロジェクト数を算出し比較する。"
   ]
  },
  {
   "cell_type": "code",
   "execution_count": 226,
   "metadata": {},
   "outputs": [
    {
     "data": {
      "text/plain": [
       "US      261360\n",
       "GB       29454\n",
       "CA       12370\n",
       "AU        6616\n",
       "DE        3436\n",
       "FR        2520\n",
       "NL        2411\n",
       "IT        2369\n",
       "ES        1873\n",
       "SE        1509\n",
       "MX        1411\n",
       "NZ        1274\n",
       "DK         926\n",
       "IE         683\n",
       "CH         652\n",
       "NO         582\n",
       "BE         523\n",
       "AT         485\n",
       "HK         477\n",
       "SG         454\n",
       "N,0\"       210\n",
       "LU          57\n",
       "JP          23\n",
       "Name: country, dtype: int64"
      ]
     },
     "execution_count": 226,
     "metadata": {},
     "output_type": "execute_result"
    }
   ],
   "source": [
    "# 国毎のプロジェクト数を算出する。\n",
    "df_ks_data[\"country\"].value_counts()"
   ]
  },
  {
   "cell_type": "markdown",
   "metadata": {},
   "source": [
    "（考察）LU,JPが少ないので、いったん外して、モデル作成、検証を行ってみる。"
   ]
  },
  {
   "cell_type": "code",
   "execution_count": 227,
   "metadata": {},
   "outputs": [],
   "source": [
    "df_ks_data_country = df_ks_data.copy()\n",
    "df_ks_data_country.drop(df_ks_data_country.loc[(df_ks_data_country[\"country\"]==\"JP\")|(df_ks_data_country[\"country\"]==\"LU\")].index, inplace=True)"
   ]
  },
  {
   "cell_type": "code",
   "execution_count": 228,
   "metadata": {},
   "outputs": [
    {
     "data": {
      "text/plain": [
       "US      261360\n",
       "GB       29454\n",
       "CA       12370\n",
       "AU        6616\n",
       "DE        3436\n",
       "FR        2520\n",
       "NL        2411\n",
       "IT        2369\n",
       "ES        1873\n",
       "SE        1509\n",
       "MX        1411\n",
       "NZ        1274\n",
       "DK         926\n",
       "IE         683\n",
       "CH         652\n",
       "NO         582\n",
       "BE         523\n",
       "AT         485\n",
       "HK         477\n",
       "SG         454\n",
       "N,0\"       210\n",
       "Name: country, dtype: int64"
      ]
     },
     "execution_count": 228,
     "metadata": {},
     "output_type": "execute_result"
    }
   ],
   "source": [
    "df_ks_data_country[\"country\"].value_counts()"
   ]
  },
  {
   "cell_type": "code",
   "execution_count": 229,
   "metadata": {},
   "outputs": [],
   "source": [
    "# ダミー変数化\n",
    "df_ks_data_country_all = pd.get_dummies(df_ks_data_country,  columns=dummy_items)"
   ]
  },
  {
   "cell_type": "code",
   "execution_count": 230,
   "metadata": {},
   "outputs": [
    {
     "data": {
      "text/plain": [
       "SGDClassifier(alpha=0.0001, average=False, class_weight=None,\n",
       "       early_stopping=False, epsilon=0.1, eta0=0.0, fit_intercept=True,\n",
       "       l1_ratio=0.15, learning_rate='optimal', loss='log', max_iter=10000,\n",
       "       n_iter=None, n_iter_no_change=5, n_jobs=None, penalty='none',\n",
       "       power_t=0.5, random_state=1234, shuffle=True, tol=0.001,\n",
       "       validation_fraction=0.1, verbose=0, warm_start=False)"
      ]
     },
     "execution_count": 230,
     "metadata": {},
     "output_type": "execute_result"
    }
   ],
   "source": [
    "# モデル作成\n",
    "clf, X, y = make_model_df(df_ks_data_country_all)\n",
    "clf"
   ]
  },
  {
   "cell_type": "code",
   "execution_count": 231,
   "metadata": {},
   "outputs": [
    {
     "name": "stdout",
     "output_type": "stream",
     "text": [
      "対数尤度 = -18.550\n",
      "正答率（Accuracy） = 46.292%\n",
      "適合率（Precision） = 42.708%\n",
      "再現率（Recall） = 96.565%\n",
      "F1値（F1-score） = 59.224%\n",
      "         予測 = 失敗  予測 = 成功\n",
      "正解 = 失敗    24173   173492\n",
      "正解 = 成功     4600   129330\n"
     ]
    }
   ],
   "source": [
    "# 予測と表示\n",
    "run_model_and_print_result(X,y,clf)"
   ]
  },
  {
   "cell_type": "markdown",
   "metadata": {},
   "source": [
    "（考察）　明確に良くなったとは言えない。"
   ]
  },
  {
   "cell_type": "markdown",
   "metadata": {},
   "source": [
    "### プロジェクト名の検討\n",
    "プロジェクト名について検討する。\n",
    "\n",
    "以下が検討対象として考える。\n",
    "\n",
    "- 長さ\n",
    "- 文字数\n"
   ]
  },
  {
   "cell_type": "code",
   "execution_count": 232,
   "metadata": {},
   "outputs": [],
   "source": [
    "def trans_name(df_arg):\n",
    "    # name でnan値が入っているので、空白で置換え\n",
    "    df_arg['name'] = df_arg['name'].fillna(\" \")\n",
    "    # 名前の長さの算出\n",
    "    df_arg.loc[:,\"name_len\"] = df_arg[\"name\"].map(lambda name: len(name))\n",
    "    # 名前の頭文字の算出\n",
    "    df_arg.loc[df_arg['name_len'] >= 1, \"name_init\"] = df_arg[\"name\"].map(lambda name: name[0:1])\n",
    "    return df_arg"
   ]
  },
  {
   "cell_type": "code",
   "execution_count": 233,
   "metadata": {},
   "outputs": [],
   "source": [
    "# \"state\"の\"successful\"と\"failed\"以外を削除\n",
    "df_ks_data_name = remove_date_about_state(df_ks)\n",
    "\n",
    "# successfulとfailedをTrue,Falseにする。\n",
    "change_data_about_state(df_ks_data_name)\n",
    "\n",
    "# 期間、開始月、終了月の算出\n",
    "add_item_days_month(df_ks_data_name)\n",
    "\n",
    "# 名前部分の長さと頭文字の算出\n",
    "df_ks_data_name = trans_name(df_ks_data_name)"
   ]
  },
  {
   "cell_type": "markdown",
   "metadata": {},
   "source": [
    "#### 文字数\n",
    "プロジェクト名の文字数について調べる。"
   ]
  },
  {
   "cell_type": "code",
   "execution_count": 234,
   "metadata": {},
   "outputs": [
    {
     "data": {
      "image/png": "[encoded data removed]",
      "text/plain": [
       "<Figure size 1440x432 with 2 Axes>"
      ]
     },
     "metadata": {
      "needs_background": "light"
     },
     "output_type": "display_data"
    }
   ],
   "source": [
    "plot_graph(df_ks_data_name,\"name_len\")"
   ]
  },
  {
   "cell_type": "markdown",
   "metadata": {},
   "source": [
    "#### 頭文字"
   ]
  },
  {
   "cell_type": "code",
   "execution_count": 235,
   "metadata": {},
   "outputs": [
    {
     "data": {
      "image/png": "[encoded data removed]",
      "text/plain": [
       "<Figure size 1440x432 with 2 Axes>"
      ]
     },
     "metadata": {
      "needs_background": "light"
     },
     "output_type": "display_data"
    }
   ],
   "source": [
    "plot_graph(df_ks_data_name,\"name_init\")"
   ]
  },
  {
   "cell_type": "markdown",
   "metadata": {},
   "source": [
    "#### 検証"
   ]
  },
  {
   "cell_type": "code",
   "execution_count": 236,
   "metadata": {},
   "outputs": [
    {
     "data": {
      "text/html": [
       "<div>\n",
       "<style scoped>\n",
       "    .dataframe tbody tr th:only-of-type {\n",
       "        vertical-align: middle;\n",
       "    }\n",
       "\n",
       "    .dataframe tbody tr th {\n",
       "        vertical-align: top;\n",
       "    }\n",
       "\n",
       "    .dataframe thead th {\n",
       "        text-align: right;\n",
       "    }\n",
       "</style>\n",
       "<table border=\"1\" class=\"dataframe\">\n",
       "  <thead>\n",
       "    <tr style=\"text-align: right;\">\n",
       "      <th></th>\n",
       "      <th>usd_goal_real</th>\n",
       "      <th>state_bool</th>\n",
       "      <th>days</th>\n",
       "      <th>name_len</th>\n",
       "      <th>name_init_!</th>\n",
       "      <th>name_init_\"</th>\n",
       "      <th>name_init_#</th>\n",
       "      <th>name_init_$</th>\n",
       "      <th>name_init_%</th>\n",
       "      <th>name_init_&amp;</th>\n",
       "      <th>...</th>\n",
       "      <th>main_category_Fashion</th>\n",
       "      <th>main_category_Film &amp; Video</th>\n",
       "      <th>main_category_Food</th>\n",
       "      <th>main_category_Games</th>\n",
       "      <th>main_category_Journalism</th>\n",
       "      <th>main_category_Music</th>\n",
       "      <th>main_category_Photography</th>\n",
       "      <th>main_category_Publishing</th>\n",
       "      <th>main_category_Technology</th>\n",
       "      <th>main_category_Theater</th>\n",
       "    </tr>\n",
       "  </thead>\n",
       "  <tbody>\n",
       "    <tr>\n",
       "      <th>0</th>\n",
       "      <td>1533.95</td>\n",
       "      <td>False</td>\n",
       "      <td>58</td>\n",
       "      <td>31</td>\n",
       "      <td>0</td>\n",
       "      <td>0</td>\n",
       "      <td>0</td>\n",
       "      <td>0</td>\n",
       "      <td>0</td>\n",
       "      <td>0</td>\n",
       "      <td>...</td>\n",
       "      <td>0</td>\n",
       "      <td>0</td>\n",
       "      <td>0</td>\n",
       "      <td>0</td>\n",
       "      <td>0</td>\n",
       "      <td>0</td>\n",
       "      <td>0</td>\n",
       "      <td>1</td>\n",
       "      <td>0</td>\n",
       "      <td>0</td>\n",
       "    </tr>\n",
       "    <tr>\n",
       "      <th>1</th>\n",
       "      <td>30000.00</td>\n",
       "      <td>False</td>\n",
       "      <td>59</td>\n",
       "      <td>45</td>\n",
       "      <td>0</td>\n",
       "      <td>0</td>\n",
       "      <td>0</td>\n",
       "      <td>0</td>\n",
       "      <td>0</td>\n",
       "      <td>0</td>\n",
       "      <td>...</td>\n",
       "      <td>0</td>\n",
       "      <td>1</td>\n",
       "      <td>0</td>\n",
       "      <td>0</td>\n",
       "      <td>0</td>\n",
       "      <td>0</td>\n",
       "      <td>0</td>\n",
       "      <td>0</td>\n",
       "      <td>0</td>\n",
       "      <td>0</td>\n",
       "    </tr>\n",
       "    <tr>\n",
       "      <th>2</th>\n",
       "      <td>45000.00</td>\n",
       "      <td>False</td>\n",
       "      <td>44</td>\n",
       "      <td>14</td>\n",
       "      <td>0</td>\n",
       "      <td>0</td>\n",
       "      <td>0</td>\n",
       "      <td>0</td>\n",
       "      <td>0</td>\n",
       "      <td>0</td>\n",
       "      <td>...</td>\n",
       "      <td>0</td>\n",
       "      <td>1</td>\n",
       "      <td>0</td>\n",
       "      <td>0</td>\n",
       "      <td>0</td>\n",
       "      <td>0</td>\n",
       "      <td>0</td>\n",
       "      <td>0</td>\n",
       "      <td>0</td>\n",
       "      <td>0</td>\n",
       "    </tr>\n",
       "    <tr>\n",
       "      <th>3</th>\n",
       "      <td>5000.00</td>\n",
       "      <td>False</td>\n",
       "      <td>29</td>\n",
       "      <td>49</td>\n",
       "      <td>0</td>\n",
       "      <td>0</td>\n",
       "      <td>0</td>\n",
       "      <td>0</td>\n",
       "      <td>0</td>\n",
       "      <td>0</td>\n",
       "      <td>...</td>\n",
       "      <td>0</td>\n",
       "      <td>0</td>\n",
       "      <td>0</td>\n",
       "      <td>0</td>\n",
       "      <td>0</td>\n",
       "      <td>1</td>\n",
       "      <td>0</td>\n",
       "      <td>0</td>\n",
       "      <td>0</td>\n",
       "      <td>0</td>\n",
       "    </tr>\n",
       "    <tr>\n",
       "      <th>5</th>\n",
       "      <td>50000.00</td>\n",
       "      <td>True</td>\n",
       "      <td>34</td>\n",
       "      <td>20</td>\n",
       "      <td>0</td>\n",
       "      <td>0</td>\n",
       "      <td>0</td>\n",
       "      <td>0</td>\n",
       "      <td>0</td>\n",
       "      <td>0</td>\n",
       "      <td>...</td>\n",
       "      <td>0</td>\n",
       "      <td>0</td>\n",
       "      <td>1</td>\n",
       "      <td>0</td>\n",
       "      <td>0</td>\n",
       "      <td>0</td>\n",
       "      <td>0</td>\n",
       "      <td>0</td>\n",
       "      <td>0</td>\n",
       "      <td>0</td>\n",
       "    </tr>\n",
       "  </tbody>\n",
       "</table>\n",
       "<p>5 rows × 354 columns</p>\n",
       "</div>"
      ],
      "text/plain": [
       "   usd_goal_real  state_bool  days  name_len  name_init_!  name_init_\"  \\\n",
       "0        1533.95       False    58        31            0            0   \n",
       "1       30000.00       False    59        45            0            0   \n",
       "2       45000.00       False    44        14            0            0   \n",
       "3        5000.00       False    29        49            0            0   \n",
       "5       50000.00        True    34        20            0            0   \n",
       "\n",
       "   name_init_#  name_init_$  name_init_%  name_init_&  ...  \\\n",
       "0            0            0            0            0  ...   \n",
       "1            0            0            0            0  ...   \n",
       "2            0            0            0            0  ...   \n",
       "3            0            0            0            0  ...   \n",
       "5            0            0            0            0  ...   \n",
       "\n",
       "   main_category_Fashion  main_category_Film & Video  main_category_Food  \\\n",
       "0                      0                           0                   0   \n",
       "1                      0                           1                   0   \n",
       "2                      0                           1                   0   \n",
       "3                      0                           0                   0   \n",
       "5                      0                           0                   1   \n",
       "\n",
       "   main_category_Games  main_category_Journalism  main_category_Music  \\\n",
       "0                    0                         0                    0   \n",
       "1                    0                         0                    0   \n",
       "2                    0                         0                    0   \n",
       "3                    0                         0                    1   \n",
       "5                    0                         0                    0   \n",
       "\n",
       "   main_category_Photography  main_category_Publishing  \\\n",
       "0                          0                         1   \n",
       "1                          0                         0   \n",
       "2                          0                         0   \n",
       "3                          0                         0   \n",
       "5                          0                         0   \n",
       "\n",
       "   main_category_Technology  main_category_Theater  \n",
       "0                         0                      0  \n",
       "1                         0                      0  \n",
       "2                         0                      0  \n",
       "3                         0                      0  \n",
       "5                         0                      0  \n",
       "\n",
       "[5 rows x 354 columns]"
      ]
     },
     "execution_count": 236,
     "metadata": {},
     "output_type": "execute_result"
    }
   ],
   "source": [
    "# 削除する列の定義\n",
    "drop_list = (\"state\",\"goal\",\"ID\",\"name\",\"currency\",\"deadline\",\"launched\",\"pledged\",\"backers\",\"usd pledged\",\"usd_pledged_real\")\n",
    "\n",
    "# 使用する項目のリスト\n",
    "item_list = (\"state_bool\",\"name_len\",\"name_init\",\"usd_goal_real\",\"days\",\"lauched_month\",\"deadline_month\",\"country\",\"category\",\"main_category\")\n",
    "\n",
    "# ダミー変数化する項目\n",
    "dummy_items = [\"name_init\",'launched_month','deadline_month','country','category','main_category']\n",
    "\n",
    "\n",
    "# 結果などの予測に使えないデータを予め削除\n",
    "for item in drop_list:\n",
    "        df_ks_data_name = df_ks_data_name.drop(item, axis=1)\n",
    "\n",
    "\n",
    "\n",
    "# ダミー変数化\n",
    "df_ks_data_name = pd.get_dummies(df_ks_data_name,  columns=dummy_items ,drop_first = True)\n",
    "\n",
    "df_ks_data_name.head()"
   ]
  },
  {
   "cell_type": "code",
   "execution_count": 237,
   "metadata": {},
   "outputs": [
    {
     "data": {
      "text/plain": [
       "SGDClassifier(alpha=0.0001, average=False, class_weight=None,\n",
       "       early_stopping=False, epsilon=0.1, eta0=0.0, fit_intercept=True,\n",
       "       l1_ratio=0.15, learning_rate='optimal', loss='log', max_iter=10000,\n",
       "       n_iter=None, n_iter_no_change=5, n_jobs=None, penalty='none',\n",
       "       power_t=0.5, random_state=1234, shuffle=True, tol=0.001,\n",
       "       validation_fraction=0.1, verbose=0, warm_start=False)"
      ]
     },
     "execution_count": 237,
     "metadata": {},
     "output_type": "execute_result"
    }
   ],
   "source": [
    "# モデル作成\n",
    "clf, X, y = make_model_df(df_ks_data_name)\n",
    "clf"
   ]
  },
  {
   "cell_type": "code",
   "execution_count": 238,
   "metadata": {},
   "outputs": [
    {
     "name": "stdout",
     "output_type": "stream",
     "text": [
      "対数尤度 = -15.142\n",
      "正答率（Accuracy） = 56.160%\n",
      "適合率（Precision） = 47.366%\n",
      "再現率（Recall） = 76.851%\n",
      "F1値（F1-score） = 58.609%\n",
      "         予測 = 失敗  予測 = 成功\n",
      "正解 = 失敗    83322   114397\n",
      "正解 = 成功    31010   102946\n"
     ]
    }
   ],
   "source": [
    "# 予測と表示\n",
    "run_model_and_print_result(X,y,clf)"
   ]
  },
  {
   "cell_type": "markdown",
   "metadata": {},
   "source": [
    "###  検討結果\n",
    "目的変数（ドル換算の目標金額)のlog換算は効果があった。\n",
    "\n",
    "プロジェクト名に関する長さと頭文字についても一応入れてみる。"
   ]
  },
  {
   "cell_type": "markdown",
   "metadata": {},
   "source": [
    "## 交差検証、ホールドアウト法の実施\n",
    "交差検証、ホールドアウト法を実施する。\n",
    "\n",
    "以下の手順で実施してみる。\n",
    "\n",
    "1. 対象データの4/5を訓練データ、1/5をテストデータとしてランダムに抽出し、分けておく。\n",
    "2. 訓練データを更に1/5ずつに分割して、それぞれごとのモデルを作成し、交差検証を行う。\n",
    "3. 上記で作成したモデルのうち、最も成績の良いものを使用して、最初に分けておいたテストデータを用いてホールドアウトによる検証を行う。"
   ]
  },
  {
   "cell_type": "markdown",
   "metadata": {},
   "source": [
    "### データの分割\n",
    "対象データの4/5を訓練データ、1/5をテストデータとしてランダムに抽出しする。"
   ]
  },
  {
   "cell_type": "code",
   "execution_count": 239,
   "metadata": {},
   "outputs": [],
   "source": [
    "# 対象データの作成\n",
    "# データ読み込み\n",
    "df_ks = pd.read_csv(\"../1_data/ks-projects-201801.csv\")\n",
    "\n",
    "# 削除する列の定義\n",
    "drop_list = (\"state\",\"goal\",\"ID\",\"name\",\"currency\",\"deadline\",\"launched\",\"pledged\",\"backers\",\"usd pledged\",\"usd_pledged_real\")\n",
    "\n",
    "# 使用する項目のリスト\n",
    "item_list = (\"state_bool\",\"name_len\",\"name_init\",\"log_usd_goal_real\",\"days\",\"lauched_month\",\"deadline_month\",\"country\",\"category\",\"main_category\")\n",
    "\n",
    "# ダミー変数化する項目\n",
    "dummy_items = [\"name_init\",'launched_month','deadline_month','country','category','main_category']\n",
    "\n",
    "# \"state\"の\"successful\"と\"failed\"以外を削除\n",
    "df_ks_data = remove_date_about_state(df_ks)\n",
    "\n",
    "# usd_goal_realのlog換算\n",
    "df_ks_data = trans_log_usd_goal_real(df_ks_data)\n",
    "\n",
    "# successfulとfailedをTrue,Falseにする。\n",
    "change_data_about_state(df_ks_data)\n",
    "\n",
    "# 期間、開始月、終了月の算出\n",
    "add_item_days_month(df_ks_data)\n",
    "\n",
    "# プロジェクト名の文字数と頭文字の算出\n",
    "df_ks_data = trans_name(df_ks_data)\n",
    "\n",
    "# 結果などの予測に使えないデータを予め削除\n",
    "for item in drop_list:\n",
    "        df_ks_data = df_ks_data.drop(item, axis=1)\n",
    "        \n",
    "# ダミー変数化\n",
    "df_ks_data = pd.get_dummies(df_ks_data,  columns=dummy_items ,drop_first = True)"
   ]
  },
  {
   "cell_type": "code",
   "execution_count": 240,
   "metadata": {},
   "outputs": [],
   "source": [
    "# 対象データのうち1/5をテストデータとする。\n",
    "y = df_ks_data[\"state_bool\"].values\n",
    "X = df_ks_data.drop('state_bool', axis=1)\n",
    "\n",
    "test_size = 0.2        # 全データのうち、何%をテストデータにするか（今回は20%に設定）\n",
    "X_train_hold, X_test_hold, y_train_hold, y_test_hold = train_test_split(X, y, test_size=test_size, random_state=1234) # ホールドアウト法を実行（テストデータはランダム選択）"
   ]
  },
  {
   "cell_type": "markdown",
   "metadata": {},
   "source": [
    "### 交差検証\n",
    "訓練データを1/5ずつに分割し、1/5の部分をテストデータ、残りを訓練データとして、交差検証を行う。\n",
    "そのうち、最も成績の良いモデルを採用する。"
   ]
  },
  {
   "cell_type": "code",
   "execution_count": 241,
   "metadata": {},
   "outputs": [
    {
     "name": "stdout",
     "output_type": "stream",
     "text": [
      "モデル0\n",
      "対数尤度 = -12.543\n",
      "正答率（Accuracy） = 63.684%\n",
      "適合率（Precision） = 53.593%\n",
      "再現率（Recall） = 77.746%\n",
      "F1値（F1-score） = 63.449%\n",
      "         予測 = 失敗  予測 = 成功\n",
      "正解 = 失敗    17069    14484\n",
      "正解 = 成功     4788    16727\n",
      "\n",
      "\n",
      "モデル1\n",
      "対数尤度 = -11.375\n",
      "正答率（Accuracy） = 67.065%\n",
      "適合率（Precision） = 60.737%\n",
      "再現率（Recall） = 54.272%\n",
      "F1値（F1-score） = 57.323%\n",
      "         予測 = 失敗  予測 = 成功\n",
      "正解 = 失敗    23852     7588\n",
      "正解 = 成功     9890    11738\n",
      "\n",
      "\n",
      "モデル2\n",
      "対数尤度 = -11.928\n",
      "正答率（Accuracy） = 65.465%\n",
      "適合率（Precision） = 68.586%\n",
      "再現率（Recall） = 26.775%\n",
      "F1値（F1-score） = 38.514%\n",
      "         予測 = 失敗  予測 = 成功\n",
      "正解 = 失敗    29001     2629\n",
      "正解 = 成功    15698     5740\n",
      "\n",
      "\n",
      "モデル3\n",
      "対数尤度 = -13.003\n",
      "正答率（Accuracy） = 62.354%\n",
      "適合率（Precision） = 52.230%\n",
      "再現率（Recall） = 79.946%\n",
      "F1値（F1-score） = 63.182%\n",
      "         予測 = 失敗  予測 = 成功\n",
      "正解 = 失敗    15948    15678\n",
      "正解 = 成功     4300    17142\n",
      "\n",
      "\n",
      "モデル4\n",
      "対数尤度 = -11.421\n",
      "正答率（Accuracy） = 66.933%\n",
      "適合率（Precision） = 60.560%\n",
      "再現率（Recall） = 50.797%\n",
      "F1値（F1-score） = 55.251%\n",
      "         予測 = 失敗  予測 = 成功\n",
      "正解 = 失敗    24687     7055\n",
      "正解 = 成功    10493    10833\n",
      "\n",
      "\n"
     ]
    }
   ],
   "source": [
    "n_split = 5 # グループ数を設定（今回は5分割）\n",
    "\n",
    "\n",
    "def cross_valid(X_train, y_train, n_split):\n",
    "    # モデル配列定義\n",
    "    clf_list = []\n",
    "    for i,[train_idx, test_idx] in enumerate(KFold(n_splits=n_split, shuffle=True, random_state=1234).split(X_train, y_train)):\n",
    "        X_train_tmp, y_train_tmp = X_train.iloc[train_idx], y_train[train_idx] #学習用データ\n",
    "        X_test_tmp, y_test_tmp = X_train.iloc[test_idx], y_train[test_idx]     #テスト用データ\n",
    "        # 学習用データでモデル作成\n",
    "        clf_list.append(make_model(X_train_tmp,y_train_tmp))\n",
    "        clf = clf_list[i]\n",
    "        \n",
    "        # 各モデルの予測と結果表示\n",
    "        print('モデル{0}'.format(i))\n",
    "        run_model_and_print_result(X_test_tmp,y_test_tmp,clf) \n",
    "        print(\"\\n\")\n",
    "    return clf_list\n",
    "\n",
    "clf_list = cross_valid(X_train_hold.copy(), y_train_hold.copy(), 5)"
   ]
  },
  {
   "cell_type": "markdown",
   "metadata": {},
   "source": [
    "（考察）　とりあえず、モデル0が平均的に良さそうなので、モデル0を使用する。"
   ]
  },
  {
   "cell_type": "markdown",
   "metadata": {},
   "source": [
    "### ホールドアウト法\n",
    "交差検証で採用したモデルを使用し、予め最初に分けておいたテストデータを用いて、ホールドアウト法による検証を行う。\n",
    "すでにモデルは作成済なので、テストデータで予想して比較検討する。"
   ]
  },
  {
   "cell_type": "code",
   "execution_count": 242,
   "metadata": {},
   "outputs": [
    {
     "name": "stdout",
     "output_type": "stream",
     "text": [
      "対数尤度 = -12.755\n",
      "正答率（Accuracy） = 63.072%\n",
      "適合率（Precision） = 52.717%\n",
      "再現率（Recall） = 76.980%\n",
      "F1値（F1-score） = 62.579%\n",
      "         予測 = 失敗  予測 = 成功\n",
      "正解 = 失敗    21357    18371\n",
      "正解 = 成功     6125    20482\n"
     ]
    }
   ],
   "source": [
    "# 使用するモデル\n",
    "model_no = 0\n",
    "\n",
    "clf = clf_list[model_no]    \n",
    "run_model_and_print_result(X_test_hold, y_test_hold, clf)"
   ]
  },
  {
   "cell_type": "markdown",
   "metadata": {},
   "source": [
    "（考察）　選択したモデルとほぼ同じ値がでた。"
   ]
  },
  {
   "cell_type": "markdown",
   "metadata": {},
   "source": [
    "## 正規化、標準化\n",
    "量的変数の正規化、標準化などを行う。\n",
    "\n",
    "量的変数は現在以下のものがある。\n",
    "- 期間\n",
    "- ドル換算の目標金額のlog換算"
   ]
  },
  {
   "cell_type": "markdown",
   "metadata": {},
   "source": [
    "### 正規化\n",
    "正規化してみる"
   ]
  },
  {
   "cell_type": "code",
   "execution_count": 243,
   "metadata": {},
   "outputs": [
    {
     "name": "stdout",
     "output_type": "stream",
     "text": [
      "期間の正規化\n",
      "[[0.63736264]\n",
      " [0.64835165]\n",
      " [0.48351648]\n",
      " ...\n",
      " [0.49450549]\n",
      " [0.32967033]\n",
      " [0.2967033 ]]\n",
      "\n",
      "\n",
      "ドル換算の目標金額のログ換算の正規化\n",
      "[[0.50736567]\n",
      " [0.63370394]\n",
      " [0.65093223]\n",
      " ...\n",
      " [0.60425198]\n",
      " [0.60425198]\n",
      " [0.51863837]]\n",
      "\n",
      "\n",
      "プロジェクト名の文字数の正規化\n",
      "[[0.35714286]\n",
      " [0.52380952]\n",
      " [0.1547619 ]\n",
      " ...\n",
      " [0.83333333]\n",
      " [0.27380952]\n",
      " [0.38095238]]\n"
     ]
    },
    {
     "name": "stderr",
     "output_type": "stream",
     "text": [
      "C:\\Users\\fumit\\Anaconda3\\lib\\site-packages\\sklearn\\utils\\validation.py:595: DataConversionWarning: Data with input dtype int64 was converted to float64 by MinMaxScaler.\n",
      "  warnings.warn(msg, DataConversionWarning)\n",
      "C:\\Users\\fumit\\Anaconda3\\lib\\site-packages\\sklearn\\utils\\validation.py:595: DataConversionWarning: Data with input dtype int64 was converted to float64 by MinMaxScaler.\n",
      "  warnings.warn(msg, DataConversionWarning)\n"
     ]
    }
   ],
   "source": [
    "mms = MinMaxScaler()\n",
    "\n",
    "# 期間\n",
    "days_ary = df_ks_data[\"days\"].to_numpy().reshape(-1,1)\n",
    "days_mms = mms.fit_transform(days_ary)\n",
    "print(\"期間の正規化\")\n",
    "print(days_mms)\n",
    "print(\"\\n\")\n",
    "\n",
    "# ドル換算の目標金額のlog換算\n",
    "log_usd_goal_real_ary = df_ks_data[\"log_usd_goal_real\"].to_numpy().reshape(-1,1)\n",
    "log_usd_goal_real_mms = mms.fit_transform(log_usd_goal_real_ary)\n",
    "print(\"ドル換算の目標金額のログ換算の正規化\")\n",
    "print(log_usd_goal_real_mms)\n",
    "print(\"\\n\")\n",
    "\n",
    "# プロジェクト名の文字数\n",
    "name_len_ary = df_ks_data[\"name_len\"].to_numpy().reshape(-1,1)\n",
    "name_len_mms = mms.fit_transform(name_len_ary)\n",
    "print(\"プロジェクト名の文字数の正規化\")\n",
    "print(name_len_mms)\n"
   ]
  },
  {
   "cell_type": "markdown",
   "metadata": {},
   "source": [
    "### 標準化"
   ]
  },
  {
   "cell_type": "code",
   "execution_count": 244,
   "metadata": {},
   "outputs": [
    {
     "name": "stdout",
     "output_type": "stream",
     "text": [
      "期間の標準化\n",
      "[[ 1.96999036]\n",
      " [ 2.04864808]\n",
      " [ 0.86878226]\n",
      " ...\n",
      " [ 0.94743998]\n",
      " [-0.23242583]\n",
      " [-0.46839899]]\n",
      "\n",
      "\n",
      "ドル換算の目標金額のログ換算の標準化\n",
      "[[-0.74417332]\n",
      " [ 1.03275053]\n",
      " [ 1.27506318]\n",
      " ...\n",
      " [ 0.61851432]\n",
      " [ 0.61851432]\n",
      " [-0.58562502]]\n",
      "\n",
      "\n",
      "プロジェクト名の文字数の標準化\n",
      "[[-0.20173484]\n",
      " [ 0.6753637 ]\n",
      " [-1.26678306]\n",
      " ...\n",
      " [ 2.30426099]\n",
      " [-0.64028411]\n",
      " [-0.07643504]]\n"
     ]
    },
    {
     "name": "stderr",
     "output_type": "stream",
     "text": [
      "C:\\Users\\fumit\\Anaconda3\\lib\\site-packages\\sklearn\\utils\\validation.py:595: DataConversionWarning: Data with input dtype int64 was converted to float64 by StandardScaler.\n",
      "  warnings.warn(msg, DataConversionWarning)\n",
      "C:\\Users\\fumit\\Anaconda3\\lib\\site-packages\\sklearn\\utils\\validation.py:595: DataConversionWarning: Data with input dtype int64 was converted to float64 by StandardScaler.\n",
      "  warnings.warn(msg, DataConversionWarning)\n",
      "C:\\Users\\fumit\\Anaconda3\\lib\\site-packages\\sklearn\\utils\\validation.py:595: DataConversionWarning: Data with input dtype int64 was converted to float64 by StandardScaler.\n",
      "  warnings.warn(msg, DataConversionWarning)\n",
      "C:\\Users\\fumit\\Anaconda3\\lib\\site-packages\\sklearn\\utils\\validation.py:595: DataConversionWarning: Data with input dtype int64 was converted to float64 by StandardScaler.\n",
      "  warnings.warn(msg, DataConversionWarning)\n"
     ]
    }
   ],
   "source": [
    "stdsc = StandardScaler()\n",
    "\n",
    "# 期間\n",
    "days_ary = df_ks_data[\"days\"].to_numpy().reshape(-1,1)\n",
    "days_stdsc = stdsc.fit_transform(days_ary)\n",
    "print(\"期間の標準化\")\n",
    "print(days_stdsc)\n",
    "print(\"\\n\")\n",
    "\n",
    "# ドル換算の目標金額のlog換算\n",
    "log_usd_goal_real_ary = df_ks_data[\"log_usd_goal_real\"].to_numpy().reshape(-1,1)\n",
    "log_usd_goal_real_stdsc = stdsc.fit_transform(log_usd_goal_real_ary)\n",
    "print(\"ドル換算の目標金額のログ換算の標準化\")\n",
    "print(log_usd_goal_real_stdsc)\n",
    "print(\"\\n\")\n",
    "\n",
    "# プロジェクト名の文字数\n",
    "name_len_ary = df_ks_data[\"name_len\"].to_numpy().reshape(-1,1)\n",
    "name_len_stdsc = stdsc.fit_transform(name_len_ary)\n",
    "print(\"プロジェクト名の文字数の標準化\")\n",
    "print(name_len_stdsc)\n"
   ]
  },
  {
   "cell_type": "markdown",
   "metadata": {},
   "source": [
    "### 正規化、標準化のグラフ表示"
   ]
  },
  {
   "cell_type": "code",
   "execution_count": 245,
   "metadata": {},
   "outputs": [
    {
     "data": {
      "image/png": "[encoded data removed]",
      "text/plain": [
       "<Figure size 1440x864 with 6 Axes>"
      ]
     },
     "metadata": {
      "needs_background": "light"
     },
     "output_type": "display_data"
    }
   ],
   "source": [
    "df_days_mms = pd.DataFrame(data=days_mms, columns=['days_mms'])\n",
    "df_log_usd_goal_real_mms = pd.DataFrame(data=log_usd_goal_real_mms, columns=['usd_goal_real_mms'])\n",
    "df_name_len_mms = pd.DataFrame(data=name_len_mms, columns=['name_len_mms'])\n",
    "\n",
    "df_days_stdsc = pd.DataFrame(data=days_stdsc, columns=['days_stdsc'])\n",
    "df_log_usd_goal_real_stdsc = pd.DataFrame(data=log_usd_goal_real_stdsc, columns=['usd_goal_real_stdsc'])\n",
    "df_name_len_stdsc = pd.DataFrame(data=name_len_stdsc, columns=['name_len_stdsc'])\n",
    "\n",
    "\n",
    "fig,ax = plt.subplots(2,3, figsize=(20,12))\n",
    "df_days_mms.hist(bins=np.arange(0,1,.05),ax=ax[0,0]) # 期間の正規化グラフ\n",
    "df_log_usd_goal_real_mms.hist(bins=np.arange(0,1,.05),ax=ax[0,1]) # 目標金額ログ換算の正規化グラフ\n",
    "df_name_len_mms.hist(bins=np.arange(0,1,.05),ax=ax[0,2]) # 期間の正規化グラフ\n",
    "\n",
    "df_days_stdsc.hist(bins=np.arange(-5,5,0.5),ax=ax[1,0]) # 期間の標準化\n",
    "df_log_usd_goal_real_stdsc.hist(bins=np.arange(-5,5,0.5),ax=ax[1,1]) # 目標金額ログ換算の標準化グラフ\n",
    "df_name_len_stdsc.hist(bins=np.arange(-5,5,0.5),ax=ax[1,2]) # 期間の標準化\n",
    "\n",
    "plt.show()"
   ]
  },
  {
   "cell_type": "markdown",
   "metadata": {},
   "source": [
    "（考察）　標準化の方が中央によっているので、良さそう。"
   ]
  },
  {
   "cell_type": "markdown",
   "metadata": {},
   "source": [
    "### 標準化でのモデルの検証\n",
    "\n",
    "量的変数を標準化し、モデルを作成して検証してみる。"
   ]
  },
  {
   "cell_type": "code",
   "execution_count": 246,
   "metadata": {},
   "outputs": [],
   "source": [
    "# 対象データのうち1/5をテストデータとする。\n",
    "y = df_ks_data[\"state_bool\"].values\n",
    "X = df_ks_data.drop('state_bool', axis=1)\n",
    "\n",
    "test_size = 0.2        # 全データのうち、何%をテストデータにするか（今回は20%に設定）\n",
    "X_train_hold, X_test_hold, y_train_hold, y_test_hold = train_test_split(X, y, test_size=test_size, random_state=1234) # ホールドアウト法を実行（テストデータはランダム選択）"
   ]
  },
  {
   "cell_type": "code",
   "execution_count": 247,
   "metadata": {},
   "outputs": [
    {
     "name": "stderr",
     "output_type": "stream",
     "text": [
      "C:\\Users\\fumit\\Anaconda3\\lib\\site-packages\\sklearn\\utils\\validation.py:595: DataConversionWarning: Data with input dtype int64 was converted to float64 by StandardScaler.\n",
      "  warnings.warn(msg, DataConversionWarning)\n",
      "C:\\Users\\fumit\\Anaconda3\\lib\\site-packages\\sklearn\\utils\\validation.py:595: DataConversionWarning: Data with input dtype int64 was converted to float64 by StandardScaler.\n",
      "  warnings.warn(msg, DataConversionWarning)\n",
      "C:\\Users\\fumit\\Anaconda3\\lib\\site-packages\\pandas\\core\\indexing.py:362: SettingWithCopyWarning: \n",
      "A value is trying to be set on a copy of a slice from a DataFrame.\n",
      "Try using .loc[row_indexer,col_indexer] = value instead\n",
      "\n",
      "See the caveats in the documentation: http://pandas.pydata.org/pandas-docs/stable/indexing.html#indexing-view-versus-copy\n",
      "  self.obj[key] = _infer_fill_value(value)\n",
      "C:\\Users\\fumit\\Anaconda3\\lib\\site-packages\\pandas\\core\\indexing.py:543: SettingWithCopyWarning: \n",
      "A value is trying to be set on a copy of a slice from a DataFrame.\n",
      "Try using .loc[row_indexer,col_indexer] = value instead\n",
      "\n",
      "See the caveats in the documentation: http://pandas.pydata.org/pandas-docs/stable/indexing.html#indexing-view-versus-copy\n",
      "  self.obj[item] = s\n",
      "C:\\Users\\fumit\\Anaconda3\\lib\\site-packages\\sklearn\\utils\\validation.py:595: DataConversionWarning: Data with input dtype int64 was converted to float64 by StandardScaler.\n",
      "  warnings.warn(msg, DataConversionWarning)\n",
      "C:\\Users\\fumit\\Anaconda3\\lib\\site-packages\\sklearn\\utils\\validation.py:595: DataConversionWarning: Data with input dtype int64 was converted to float64 by StandardScaler.\n",
      "  warnings.warn(msg, DataConversionWarning)\n"
     ]
    }
   ],
   "source": [
    "# 対象の項目を標準化し、標準化した項目を増やし、元の対象の項目を落とす。\n",
    "def trans_stdsc(df_arg, item, stdsc_item,stdsc,fit):\n",
    "    # fitする (train用)\n",
    "    if fit == True:\n",
    "        df_arg.loc[:,stdsc_item]  = stdsc.fit_transform(df_arg[item].to_numpy().reshape(-1,1))\n",
    "    # fitしない(test用)\n",
    "    else:\n",
    "        df_arg.loc[:,stdsc_item]  = stdsc.transform(df_arg[item].to_numpy().reshape(-1,1))        \n",
    "    df_arg = df_arg.drop(item, axis=1)\n",
    "    return df_arg\n",
    "\n",
    "\n",
    "\n",
    "# 量的変数を標準化し,データを作成する。\n",
    "stdsc_days = StandardScaler()\n",
    "stdsc_log_usd_goal_real = StandardScaler()\n",
    "stdsc_name_len = StandardScaler()\n",
    "\n",
    "# 期間の標準化を追加\n",
    "X_train_hold= trans_stdsc(X_train_hold,\"days\",\"days_stdsc\",stdsc_days,True)\n",
    "\n",
    "# ドル換算の目標金額のlog換算の標準化を追加\n",
    "X_train_hold = trans_stdsc(X_train_hold,\"log_usd_goal_real\",\"log_usd_goal_real_stdsc\",stdsc_log_usd_goal_real,True)\n",
    "\n",
    "# プロジェクト名の文字数の標準化を追加\n",
    "X_train_hold= trans_stdsc(X_train_hold,\"name_len\",\"name_len_stdsc\",stdsc_name_len,True)\n",
    "\n"
   ]
  },
  {
   "cell_type": "code",
   "execution_count": 248,
   "metadata": {},
   "outputs": [
    {
     "data": {
      "text/html": [
       "<div>\n",
       "<style scoped>\n",
       "    .dataframe tbody tr th:only-of-type {\n",
       "        vertical-align: middle;\n",
       "    }\n",
       "\n",
       "    .dataframe tbody tr th {\n",
       "        vertical-align: top;\n",
       "    }\n",
       "\n",
       "    .dataframe thead th {\n",
       "        text-align: right;\n",
       "    }\n",
       "</style>\n",
       "<table border=\"1\" class=\"dataframe\">\n",
       "  <thead>\n",
       "    <tr style=\"text-align: right;\">\n",
       "      <th></th>\n",
       "      <th>name_init_!</th>\n",
       "      <th>name_init_\"</th>\n",
       "      <th>name_init_#</th>\n",
       "      <th>name_init_$</th>\n",
       "      <th>name_init_%</th>\n",
       "      <th>name_init_&amp;</th>\n",
       "      <th>name_init_'</th>\n",
       "      <th>name_init_(</th>\n",
       "      <th>name_init_)</th>\n",
       "      <th>name_init_*</th>\n",
       "      <th>...</th>\n",
       "      <th>main_category_Games</th>\n",
       "      <th>main_category_Journalism</th>\n",
       "      <th>main_category_Music</th>\n",
       "      <th>main_category_Photography</th>\n",
       "      <th>main_category_Publishing</th>\n",
       "      <th>main_category_Technology</th>\n",
       "      <th>main_category_Theater</th>\n",
       "      <th>days_stdsc</th>\n",
       "      <th>log_usd_goal_real_stdsc</th>\n",
       "      <th>name_len_stdsc</th>\n",
       "    </tr>\n",
       "  </thead>\n",
       "  <tbody>\n",
       "    <tr>\n",
       "      <th>289768</th>\n",
       "      <td>0</td>\n",
       "      <td>0</td>\n",
       "      <td>0</td>\n",
       "      <td>0</td>\n",
       "      <td>0</td>\n",
       "      <td>0</td>\n",
       "      <td>0</td>\n",
       "      <td>0</td>\n",
       "      <td>0</td>\n",
       "      <td>0</td>\n",
       "      <td>...</td>\n",
       "      <td>0</td>\n",
       "      <td>0</td>\n",
       "      <td>0</td>\n",
       "      <td>0</td>\n",
       "      <td>0</td>\n",
       "      <td>0</td>\n",
       "      <td>0</td>\n",
       "      <td>-0.310477</td>\n",
       "      <td>-0.169959</td>\n",
       "      <td>1.429303</td>\n",
       "    </tr>\n",
       "    <tr>\n",
       "      <th>123513</th>\n",
       "      <td>0</td>\n",
       "      <td>0</td>\n",
       "      <td>0</td>\n",
       "      <td>0</td>\n",
       "      <td>0</td>\n",
       "      <td>0</td>\n",
       "      <td>0</td>\n",
       "      <td>0</td>\n",
       "      <td>0</td>\n",
       "      <td>0</td>\n",
       "      <td>...</td>\n",
       "      <td>0</td>\n",
       "      <td>0</td>\n",
       "      <td>0</td>\n",
       "      <td>0</td>\n",
       "      <td>0</td>\n",
       "      <td>0</td>\n",
       "      <td>0</td>\n",
       "      <td>-1.097825</td>\n",
       "      <td>-1.540128</td>\n",
       "      <td>-1.768677</td>\n",
       "    </tr>\n",
       "    <tr>\n",
       "      <th>176735</th>\n",
       "      <td>0</td>\n",
       "      <td>0</td>\n",
       "      <td>0</td>\n",
       "      <td>0</td>\n",
       "      <td>0</td>\n",
       "      <td>0</td>\n",
       "      <td>0</td>\n",
       "      <td>0</td>\n",
       "      <td>0</td>\n",
       "      <td>0</td>\n",
       "      <td>...</td>\n",
       "      <td>1</td>\n",
       "      <td>0</td>\n",
       "      <td>0</td>\n",
       "      <td>0</td>\n",
       "      <td>0</td>\n",
       "      <td>0</td>\n",
       "      <td>0</td>\n",
       "      <td>0.870545</td>\n",
       "      <td>0.926021</td>\n",
       "      <td>0.300604</td>\n",
       "    </tr>\n",
       "    <tr>\n",
       "      <th>21382</th>\n",
       "      <td>0</td>\n",
       "      <td>0</td>\n",
       "      <td>0</td>\n",
       "      <td>0</td>\n",
       "      <td>0</td>\n",
       "      <td>0</td>\n",
       "      <td>0</td>\n",
       "      <td>0</td>\n",
       "      <td>0</td>\n",
       "      <td>0</td>\n",
       "      <td>...</td>\n",
       "      <td>0</td>\n",
       "      <td>0</td>\n",
       "      <td>0</td>\n",
       "      <td>0</td>\n",
       "      <td>1</td>\n",
       "      <td>0</td>\n",
       "      <td>0</td>\n",
       "      <td>0.398136</td>\n",
       "      <td>0.072530</td>\n",
       "      <td>1.492008</td>\n",
       "    </tr>\n",
       "    <tr>\n",
       "      <th>54307</th>\n",
       "      <td>0</td>\n",
       "      <td>0</td>\n",
       "      <td>0</td>\n",
       "      <td>0</td>\n",
       "      <td>0</td>\n",
       "      <td>0</td>\n",
       "      <td>0</td>\n",
       "      <td>0</td>\n",
       "      <td>0</td>\n",
       "      <td>0</td>\n",
       "      <td>...</td>\n",
       "      <td>0</td>\n",
       "      <td>0</td>\n",
       "      <td>1</td>\n",
       "      <td>0</td>\n",
       "      <td>0</td>\n",
       "      <td>0</td>\n",
       "      <td>0</td>\n",
       "      <td>-1.334030</td>\n",
       "      <td>-1.171085</td>\n",
       "      <td>1.053070</td>\n",
       "    </tr>\n",
       "  </tbody>\n",
       "</table>\n",
       "<p>5 rows × 353 columns</p>\n",
       "</div>"
      ],
      "text/plain": [
       "        name_init_!  name_init_\"  name_init_#  name_init_$  name_init_%  \\\n",
       "289768            0            0            0            0            0   \n",
       "123513            0            0            0            0            0   \n",
       "176735            0            0            0            0            0   \n",
       "21382             0            0            0            0            0   \n",
       "54307             0            0            0            0            0   \n",
       "\n",
       "        name_init_&  name_init_'  name_init_(  name_init_)  name_init_*  ...  \\\n",
       "289768            0            0            0            0            0  ...   \n",
       "123513            0            0            0            0            0  ...   \n",
       "176735            0            0            0            0            0  ...   \n",
       "21382             0            0            0            0            0  ...   \n",
       "54307             0            0            0            0            0  ...   \n",
       "\n",
       "        main_category_Games  main_category_Journalism  main_category_Music  \\\n",
       "289768                    0                         0                    0   \n",
       "123513                    0                         0                    0   \n",
       "176735                    1                         0                    0   \n",
       "21382                     0                         0                    0   \n",
       "54307                     0                         0                    1   \n",
       "\n",
       "        main_category_Photography  main_category_Publishing  \\\n",
       "289768                          0                         0   \n",
       "123513                          0                         0   \n",
       "176735                          0                         0   \n",
       "21382                           0                         1   \n",
       "54307                           0                         0   \n",
       "\n",
       "        main_category_Technology  main_category_Theater  days_stdsc  \\\n",
       "289768                         0                      0   -0.310477   \n",
       "123513                         0                      0   -1.097825   \n",
       "176735                         0                      0    0.870545   \n",
       "21382                          0                      0    0.398136   \n",
       "54307                          0                      0   -1.334030   \n",
       "\n",
       "        log_usd_goal_real_stdsc  name_len_stdsc  \n",
       "289768                -0.169959        1.429303  \n",
       "123513                -1.540128       -1.768677  \n",
       "176735                 0.926021        0.300604  \n",
       "21382                  0.072530        1.492008  \n",
       "54307                 -1.171085        1.053070  \n",
       "\n",
       "[5 rows x 353 columns]"
      ]
     },
     "execution_count": 248,
     "metadata": {},
     "output_type": "execute_result"
    }
   ],
   "source": [
    "X_train_hold.head()"
   ]
  },
  {
   "cell_type": "code",
   "execution_count": 249,
   "metadata": {},
   "outputs": [
    {
     "name": "stdout",
     "output_type": "stream",
     "text": [
      "モデル0\n",
      "対数尤度 = -11.275\n",
      "正答率（Accuracy） = 67.355%\n",
      "適合率（Precision） = 61.664%\n",
      "再現率（Recall） = 51.490%\n",
      "F1値（F1-score） = 56.120%\n",
      "         予測 = 失敗  予測 = 成功\n",
      "正解 = 失敗    24666     6887\n",
      "正解 = 成功    10437    11078\n",
      "\n",
      "\n",
      "モデル1\n",
      "対数尤度 = -11.211\n",
      "正答率（Accuracy） = 67.540%\n",
      "適合率（Precision） = 61.795%\n",
      "再現率（Recall） = 53.315%\n",
      "F1値（F1-score） = 57.243%\n",
      "         予測 = 失敗  予測 = 成功\n",
      "正解 = 失敗    24311     7129\n",
      "正解 = 成功    10097    11531\n",
      "\n",
      "\n",
      "モデル2\n",
      "対数尤度 = -11.147\n",
      "正答率（Accuracy） = 67.726%\n",
      "適合率（Precision） = 62.569%\n",
      "再現率（Recall） = 50.051%\n",
      "F1値（F1-score） = 55.615%\n",
      "         予測 = 失敗  予測 = 成功\n",
      "正解 = 失敗    25211     6419\n",
      "正解 = 成功    10708    10730\n",
      "\n",
      "\n",
      "モデル3\n",
      "対数尤度 = -11.217\n",
      "正答率（Accuracy） = 67.525%\n",
      "適合率（Precision） = 61.986%\n",
      "再現率（Recall） = 50.746%\n",
      "F1値（F1-score） = 55.806%\n",
      "         予測 = 失敗  予測 = 成功\n",
      "正解 = 失敗    24953     6673\n",
      "正解 = 成功    10561    10881\n",
      "\n",
      "\n",
      "モデル4\n",
      "対数尤度 = -11.254\n",
      "正答率（Accuracy） = 67.417%\n",
      "適合率（Precision） = 62.093%\n",
      "再現率（Recall） = 48.575%\n",
      "F1値（F1-score） = 54.508%\n",
      "         予測 = 失敗  予測 = 成功\n",
      "正解 = 失敗    25418     6324\n",
      "正解 = 成功    10967    10359\n",
      "\n",
      "\n"
     ]
    }
   ],
   "source": [
    "# 交差検証\n",
    "n_split = 5 # グループ数を設定（今回は5分割）\n",
    "clf_list = cross_valid(X_train_hold.copy(), y_train_hold.copy(), 5)"
   ]
  },
  {
   "cell_type": "markdown",
   "metadata": {},
   "source": [
    "（考察）　ホールドアウトと交差検証を組み合わせる場合、交差検証部分では全部fitで良いのかどうか？\n",
    "交差検証部分は全部訓練と考えるならfit_transformだし、交差検証部分の中身を分割ごとに訓練とテストだと考えるなら、fit_transformとtransformを使い分けるべきだが、どっちか？\n",
    "（とりあえずは上記の交差検証部分は、fit_transformで統一）"
   ]
  },
  {
   "cell_type": "code",
   "execution_count": 250,
   "metadata": {},
   "outputs": [
    {
     "name": "stderr",
     "output_type": "stream",
     "text": [
      "C:\\Users\\fumit\\Anaconda3\\lib\\site-packages\\sklearn\\utils\\validation.py:595: DataConversionWarning: Data with input dtype int64 was converted to float64 by StandardScaler.\n",
      "  warnings.warn(msg, DataConversionWarning)\n",
      "C:\\Users\\fumit\\Anaconda3\\lib\\site-packages\\pandas\\core\\indexing.py:362: SettingWithCopyWarning: \n",
      "A value is trying to be set on a copy of a slice from a DataFrame.\n",
      "Try using .loc[row_indexer,col_indexer] = value instead\n",
      "\n",
      "See the caveats in the documentation: http://pandas.pydata.org/pandas-docs/stable/indexing.html#indexing-view-versus-copy\n",
      "  self.obj[key] = _infer_fill_value(value)\n",
      "C:\\Users\\fumit\\Anaconda3\\lib\\site-packages\\pandas\\core\\indexing.py:543: SettingWithCopyWarning: \n",
      "A value is trying to be set on a copy of a slice from a DataFrame.\n",
      "Try using .loc[row_indexer,col_indexer] = value instead\n",
      "\n",
      "See the caveats in the documentation: http://pandas.pydata.org/pandas-docs/stable/indexing.html#indexing-view-versus-copy\n",
      "  self.obj[item] = s\n",
      "C:\\Users\\fumit\\Anaconda3\\lib\\site-packages\\sklearn\\utils\\validation.py:595: DataConversionWarning: Data with input dtype int64 was converted to float64 by StandardScaler.\n",
      "  warnings.warn(msg, DataConversionWarning)\n"
     ]
    },
    {
     "name": "stdout",
     "output_type": "stream",
     "text": [
      "対数尤度 = -11.211\n",
      "正答率（Accuracy） = 67.542%\n",
      "適合率（Precision） = 60.983%\n",
      "再現率（Recall） = 52.964%\n",
      "F1値（F1-score） = 56.691%\n",
      "         予測 = 失敗  予測 = 成功\n",
      "正解 = 失敗    30712     9016\n",
      "正解 = 成功    12515    14092\n"
     ]
    }
   ],
   "source": [
    "#　モデル1を採用し、ホールドアウト法\n",
    "\n",
    "# 期間の標準化を追加\n",
    "X_test_hold= trans_stdsc(X_test_hold,\"days\",\"days_stdsc\",stdsc_days,False)\n",
    "\n",
    "\n",
    "# ドル換算の目標金額のlog換算の標準化を追加\n",
    "X_test_hold = trans_stdsc(X_test_hold,\"log_usd_goal_real\",\"log_usd_goal_real_stdsc\",stdsc_log_usd_goal_real,False)\n",
    "\n",
    "# 期間の標準化を追加\n",
    "X_test_hold= trans_stdsc(X_test_hold,\"name_len\",\"name_len_stdsc\",stdsc_name_len,False)\n",
    "\n",
    "\n",
    "# 使用するモデル\n",
    "model_no = 1\n",
    "\n",
    "clf = clf_list[model_no]    \n",
    "run_model_and_print_result(X_test_hold, y_test_hold, clf)"
   ]
  },
  {
   "cell_type": "markdown",
   "metadata": {},
   "source": [
    "(考察）　検証結果はともかく、標準化した場合、交差検証の出力が何もしない場合に比べて早い。"
   ]
  },
  {
   "cell_type": "markdown",
   "metadata": {},
   "source": [
    "## 無相関化、白色化"
   ]
  },
  {
   "cell_type": "markdown",
   "metadata": {},
   "source": [
    "とりあえず、量的変数のプロジェクt名の文字数、期間、ドル換算の目標金額のlog換算の間で相関があるかどうか確認してみる"
   ]
  },
  {
   "cell_type": "code",
   "execution_count": 251,
   "metadata": {},
   "outputs": [
    {
     "data": {
      "text/plain": [
       "<matplotlib.axes._subplots.AxesSubplot at 0x17810b240f0>"
      ]
     },
     "execution_count": 251,
     "metadata": {},
     "output_type": "execute_result"
    },
    {
     "data": {
      "image/png": "[encoded data removed]",
      "text/plain": [
       "<Figure size 432x288 with 2 Axes>"
      ]
     },
     "metadata": {
      "needs_background": "light"
     },
     "output_type": "display_data"
    }
   ],
   "source": [
    "sns.heatmap(df_ks_data[[\"name_len\",\"days\",\"log_usd_goal_real\"]].corr())"
   ]
  },
  {
   "cell_type": "markdown",
   "metadata": {},
   "source": [
    "（考察）　相関係数は低いので、相関はなさそう。"
   ]
  },
  {
   "cell_type": "markdown",
   "metadata": {},
   "source": [
    "## ハイパーパラメータ探索\n",
    "SGDClassifier関数の中でパラメータが存在する。\n",
    "\n",
    "| パラメータ | 内容 | 考察　| \n",
    "| --- | --- | --- | \n",
    "| loss | logでロジスティック回帰, hingeで　リニアSVM | アルゴリズムまで変えてしまうと別になるので変更しない |\n",
    "| penalty | l2,l1,elasticnet で正則化を選択、noneでなし | ハイパーパラメータとして使用してみる |\n",
    "| max_iter | エポック数の指定 | ハイパーパラメータと使用してみる |\n",
    "| fit_intercept | 切片 | ハイパーパラメータとして使用してみる |\n",
    "| random_state |　乱数のシード | シードを変えてしまうと比較しにくいので変えない |\n",
    "| tol | エポックに対する停止基準 | 停止基準なので、変えない |\n",
    "\n",
    "\n",
    "上記からpenalty,max_iter, fit_iterceptでグリッドサーチを行ってみる。"
   ]
  },
  {
   "cell_type": "code",
   "execution_count": 252,
   "metadata": {},
   "outputs": [],
   "source": [
    "parameters = { \\\n",
    "              'penalty':['none', 'l2','l1','elasticnet'], \\\n",
    "              'max_iter':[5000, 10000,50000], \\\n",
    "              'fit_intercept':[True, False] \\\n",
    "              #'loss':['log'], \\\n",
    "              #'random_state':[1234], \\\n",
    "             #'tol':[1e-3] \\\n",
    "             }"
   ]
  },
  {
   "cell_type": "code",
   "execution_count": 253,
   "metadata": {},
   "outputs": [],
   "source": [
    "# 対象データのうち1/5をテストデータとする。\n",
    "y = df_ks_data[\"state_bool\"].values\n",
    "X = df_ks_data.drop('state_bool', axis=1)\n",
    "\n",
    "test_size = 0.2        # 全データのうち、何%をテストデータにするか（今回は20%に設定）\n",
    "X_train_hold, X_test_hold, y_train_hold, y_test_hold = train_test_split(X, y, test_size=test_size, random_state=1234) # ホールドアウト法を実行（テストデータはランダム選択）"
   ]
  },
  {
   "cell_type": "code",
   "execution_count": 254,
   "metadata": {},
   "outputs": [
    {
     "name": "stderr",
     "output_type": "stream",
     "text": [
      "C:\\Users\\fumit\\Anaconda3\\lib\\site-packages\\sklearn\\utils\\validation.py:595: DataConversionWarning: Data with input dtype int64 was converted to float64 by StandardScaler.\n",
      "  warnings.warn(msg, DataConversionWarning)\n",
      "C:\\Users\\fumit\\Anaconda3\\lib\\site-packages\\sklearn\\utils\\validation.py:595: DataConversionWarning: Data with input dtype int64 was converted to float64 by StandardScaler.\n",
      "  warnings.warn(msg, DataConversionWarning)\n",
      "C:\\Users\\fumit\\Anaconda3\\lib\\site-packages\\pandas\\core\\indexing.py:362: SettingWithCopyWarning: \n",
      "A value is trying to be set on a copy of a slice from a DataFrame.\n",
      "Try using .loc[row_indexer,col_indexer] = value instead\n",
      "\n",
      "See the caveats in the documentation: http://pandas.pydata.org/pandas-docs/stable/indexing.html#indexing-view-versus-copy\n",
      "  self.obj[key] = _infer_fill_value(value)\n",
      "C:\\Users\\fumit\\Anaconda3\\lib\\site-packages\\pandas\\core\\indexing.py:543: SettingWithCopyWarning: \n",
      "A value is trying to be set on a copy of a slice from a DataFrame.\n",
      "Try using .loc[row_indexer,col_indexer] = value instead\n",
      "\n",
      "See the caveats in the documentation: http://pandas.pydata.org/pandas-docs/stable/indexing.html#indexing-view-versus-copy\n",
      "  self.obj[item] = s\n",
      "C:\\Users\\fumit\\Anaconda3\\lib\\site-packages\\sklearn\\utils\\validation.py:595: DataConversionWarning: Data with input dtype int64 was converted to float64 by StandardScaler.\n",
      "  warnings.warn(msg, DataConversionWarning)\n",
      "C:\\Users\\fumit\\Anaconda3\\lib\\site-packages\\sklearn\\utils\\validation.py:595: DataConversionWarning: Data with input dtype int64 was converted to float64 by StandardScaler.\n",
      "  warnings.warn(msg, DataConversionWarning)\n"
     ]
    }
   ],
   "source": [
    "# 量的変数を標準化し,データを作成する。\n",
    "stdsc_days = StandardScaler()\n",
    "stdsc_log_usd_goal_real = StandardScaler()\n",
    "stdsc_name_len = StandardScaler()\n",
    "\n",
    "# 期間の標準化を追加\n",
    "X_train_hold= trans_stdsc(X_train_hold,\"days\",\"days_stdsc\",stdsc_days,True)\n",
    "\n",
    "\n",
    "# ドル換算の目標金額のlog換算の標準化を追加\n",
    "X_train_hold = trans_stdsc(X_train_hold,\"log_usd_goal_real\",\"log_usd_goal_real_stdsc\",stdsc_log_usd_goal_real,True)\n",
    "\n",
    "# プロジェクト名の文字数の標準化を追加\n",
    "X_train_hold = trans_stdsc(X_train_hold,\"name_len\",\"name_len_stdsc\",stdsc_name_len,True)"
   ]
  },
  {
   "cell_type": "code",
   "execution_count": 255,
   "metadata": {},
   "outputs": [],
   "source": [
    "# モデル作成（グリッドサーチ）\n",
    "def make_model_grid(X, y):\n",
    "    model =  SGDClassifier(loss='log', random_state=1234, tol=1e-3)\n",
    "    clf = GridSearchCV(model, parameters, cv=3,)\n",
    "    clf.fit(X, y)\n",
    "    return clf    \n"
   ]
  },
  {
   "cell_type": "code",
   "execution_count": 256,
   "metadata": {},
   "outputs": [
    {
     "name": "stdout",
     "output_type": "stream",
     "text": [
      "{'fit_intercept': False, 'max_iter': 5000, 'penalty': 'elasticnet'} 0.6752430843446144\n"
     ]
    }
   ],
   "source": [
    "# グリッドサーチでモデルを作成\n",
    "clf = make_model_grid(X_train_hold, y_train_hold)\n",
    "print(clf.best_params_, clf.best_score_)"
   ]
  },
  {
   "cell_type": "markdown",
   "metadata": {},
   "source": [
    "（考察）　切片なし、エポック数 5000, 正則化 elasticnetがベストと判断された。"
   ]
  },
  {
   "cell_type": "code",
   "execution_count": 257,
   "metadata": {},
   "outputs": [
    {
     "name": "stdout",
     "output_type": "stream",
     "text": [
      "識別精度= 0.5988995251375594\n"
     ]
    }
   ],
   "source": [
    "# 最適パラメータを用いて識別する\n",
    "clf2 = SGDClassifier(**clf.best_params_, loss='log', random_state=1234, tol=1e-3)\n",
    "clf2.fit(X_train_hold, y_train_hold)\n",
    "print(\"識別精度=\",clf2.score(X_test_hold, y_test_hold))"
   ]
  },
  {
   "cell_type": "code",
   "execution_count": 258,
   "metadata": {},
   "outputs": [
    {
     "name": "stderr",
     "output_type": "stream",
     "text": [
      "C:\\Users\\fumit\\Anaconda3\\lib\\site-packages\\sklearn\\utils\\validation.py:595: DataConversionWarning: Data with input dtype int64 was converted to float64 by StandardScaler.\n",
      "  warnings.warn(msg, DataConversionWarning)\n",
      "C:\\Users\\fumit\\Anaconda3\\lib\\site-packages\\pandas\\core\\indexing.py:362: SettingWithCopyWarning: \n",
      "A value is trying to be set on a copy of a slice from a DataFrame.\n",
      "Try using .loc[row_indexer,col_indexer] = value instead\n",
      "\n",
      "See the caveats in the documentation: http://pandas.pydata.org/pandas-docs/stable/indexing.html#indexing-view-versus-copy\n",
      "  self.obj[key] = _infer_fill_value(value)\n",
      "C:\\Users\\fumit\\Anaconda3\\lib\\site-packages\\pandas\\core\\indexing.py:543: SettingWithCopyWarning: \n",
      "A value is trying to be set on a copy of a slice from a DataFrame.\n",
      "Try using .loc[row_indexer,col_indexer] = value instead\n",
      "\n",
      "See the caveats in the documentation: http://pandas.pydata.org/pandas-docs/stable/indexing.html#indexing-view-versus-copy\n",
      "  self.obj[item] = s\n",
      "C:\\Users\\fumit\\Anaconda3\\lib\\site-packages\\sklearn\\utils\\validation.py:595: DataConversionWarning: Data with input dtype int64 was converted to float64 by StandardScaler.\n",
      "  warnings.warn(msg, DataConversionWarning)\n"
     ]
    },
    {
     "name": "stdout",
     "output_type": "stream",
     "text": [
      "対数尤度 = -11.229\n",
      "正答率（Accuracy） = 67.489%\n",
      "適合率（Precision） = 61.540%\n",
      "再現率（Recall） = 50.517%\n",
      "F1値（F1-score） = 55.486%\n",
      "         予測 = 失敗  予測 = 成功\n",
      "正解 = 失敗    31328     8400\n",
      "正解 = 成功    13166    13441\n"
     ]
    }
   ],
   "source": [
    "# ホールドアウト法のテスト\n",
    "\n",
    "# 期間の標準化を追加\n",
    "X_test_hold= trans_stdsc(X_test_hold,\"days\",\"days_stdsc\",stdsc_days,False)\n",
    "\n",
    "\n",
    "# ドル換算の目標金額のlog換算の標準化を追加\n",
    "X_test_hold = trans_stdsc(X_test_hold,\"log_usd_goal_real\",\"log_usd_goal_real_stdsc\",stdsc_log_usd_goal_real,False)\n",
    "\n",
    "# プロジェクト名の文字数の標準化を追加\n",
    "X_test_hold = trans_stdsc(X_test_hold,\"name_len\",\"name_len_stdsc\",stdsc_name_len,False)\n",
    "\n",
    "run_model_and_print_result(X_test_hold, y_test_hold, clf2)\n"
   ]
  },
  {
   "cell_type": "markdown",
   "metadata": {},
   "source": [
    "（考察）　これをみる限り、劇的に改善されたとは考えにくいが、ロジスティック回帰の限界？"
   ]
  },
  {
   "cell_type": "code",
   "execution_count": null,
   "metadata": {},
   "outputs": [],
   "source": []
  }
 ],
 "metadata": {
  "kernelspec": {
   "display_name": "Python 3",
   "language": "python",
   "name": "python3"
  },
  "language_info": {
   "codemirror_mode": {
    "name": "ipython",
    "version": 3
   },
   "file_extension": ".py",
   "mimetype": "text/x-python",
   "name": "python",
   "nbconvert_exporter": "python",
   "pygments_lexer": "ipython3",
   "version": "3.7.3"
  }
 },
 "nbformat": 4,
 "nbformat_minor": 2
}
