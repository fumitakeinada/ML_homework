{
 "cells": [
  {
   "cell_type": "markdown",
   "metadata": {},
   "source": [
    "# Day3 課題"
   ]
  },
  {
   "cell_type": "markdown",
   "metadata": {},
   "source": [
    "## 1. 概要\n",
    "以下をそれぞれ行う。\n",
    "\n",
    "- 前回内容の再検討\n",
    "- 特徴量選択\n",
    "- 木モデル\n",
    "- ランダムフォレスト\n",
    "- アダブースト\n",
    "- ニューラルネットワーク\n",
    "\n"
   ]
  },
  {
   "cell_type": "markdown",
   "metadata": {},
   "source": [
    "## 2. 前回の内容の再検討\n",
    "前回の内容の間違っていた点の再検討を行い、比較用の結果を出しておく。"
   ]
  },
  {
   "cell_type": "markdown",
   "metadata": {},
   "source": [
    "### クラス定義"
   ]
  },
  {
   "cell_type": "code",
   "execution_count": 2,
   "metadata": {},
   "outputs": [],
   "source": [
    "%matplotlib inline\n",
    "import pandas as pd\n",
    "import numpy as np\n",
    "import seaborn as sns\n",
    "import matplotlib.pyplot as plt\n",
    "from datetime import datetime as dt\n",
    "import math\n",
    "\n",
    "from abc import ABCMeta, abstractmethod # 抽象クラス用\n",
    "\n",
    "from sklearn.preprocessing import MinMaxScaler # 正規化関数\n",
    "from sklearn.preprocessing import StandardScaler # 標準化関数\n",
    "\n",
    "from sklearn.linear_model import SGDClassifier\n",
    "from sklearn.metrics import log_loss, accuracy_score, confusion_matrix\n",
    "from sklearn.linear_model import LinearRegression, SGDClassifier\n",
    "\n",
    "\n",
    "from sklearn.model_selection import train_test_split # ホールドアウト法に関する関数\n",
    "from sklearn.model_selection import KFold # 交差検証法に関する関数\n",
    "from sklearn.metrics import mean_squared_error, mean_absolute_error # 回帰問題における性能評価に関する関数\n",
    "from  sklearn.metrics import accuracy_score, precision_recall_fscore_support, confusion_matrix # 回帰問題における性能評価に関する関数\n",
    "\n",
    "from sklearn.model_selection import GridSearchCV\n",
    "\n",
    "from sklearn.feature_selection import RFECV\n",
    "from sklearn.feature_selection import SelectFromModel\n",
    "from sklearn.linear_model import LassoCV\n",
    "\n",
    "import graphviz\n",
    "import pydotplus\n",
    "from IPython.display import Image\n",
    "from sklearn.externals.six import StringIO\n",
    "\n",
    "from sklearn.tree import DecisionTreeClassifier, export_graphviz\n",
    "from sklearn import preprocessing\n",
    "\n",
    "\n",
    "from tensorflow import keras  \n",
    "import tensorflow as tf\n",
    "\n",
    "from tensorflow.compat.v1.keras import Sequential\n",
    "from tensorflow.compat.v1.keras.layers import Dense, Dropout, Activation\n",
    "from tensorflow.compat.v1.keras.optimizers import SGD,RMSprop, Adagrad, Adadelta, Adam"
   ]
  },
  {
   "cell_type": "code",
   "execution_count": 3,
   "metadata": {},
   "outputs": [],
   "source": [
    "# Kickstarterデータのクラス化\n",
    "# ファイルを読み込み、使用する変数などを指定して、最終的にデータフレームを取得する。\n",
    "class Ks_data():\n",
    "    DATA_FILE = \"../1_data/ks-projects-201801.csv\" # 初期ファイル名\n",
    "    \n",
    "    OBJ_VAR_NAME = \"state_bool\" # 目的変数名\n",
    "    PRE_OBJ_VAR_NAME = \"state\" # 変換前の目的変数\n",
    "    PRE_OBJ_VAR_SUCC = \"successful\" # 成功\n",
    "    PRE_OBJ_VAR_FAIL = \"failed\" # 失敗\n",
    "    \n",
    "    USD_GOAL_REAL = \"usd_goal_real\" # ドル換算の目標金額\n",
    "    LOG_USD_GOAL_REAL = \"log_usd_goal_real\" # ドル換算の目標金額のlog\n",
    "    DAYS = \"days\" # 期間\n",
    "    LAUNCHED_MONTH = \"launched_month\" # 開始月\n",
    "    DEADLINE_MONTH = \"deadline_month\" # 終了月\n",
    "    LAUNCHED = \"launched\" # 開始日付\n",
    "    DEADLINE = \"deadline\" # 終了日付\n",
    "    \n",
    "    NAME = \"name\" # 名前\n",
    "    NAME_LEN = \"name_len\" # 名前の長さ\n",
    "    NAME_INIT = \"name_init\" # 　名前の頭文字\n",
    "    \n",
    "    COUNTRY = \"country\" # 国\n",
    "    US = \"US\" # US\n",
    "    \n",
    "    quant_var_list = [LOG_USD_GOAL_REAL, DAYS, NAME_LEN] # 量的変数のリスト\n",
    "    quality_var_list = [\"main_category\",\"category\",\"country\", LAUNCHED_MONTH, DEADLINE_MONTH, NAME_INIT] # 質的変数のリスト\n",
    "    disposal_item_list = [PRE_OBJ_VAR_NAME,\"goal\",\"ID\",NAME,\"currency\",DEADLINE, LAUNCHED, \"pledged\",\"backers\",\"usd pledged\", USD_GOAL_REAL,\"usd_pledged_real\"] #　初期廃棄項目のリスト\n",
    "    \n",
    "    # ドル換算の目標金額をlog10で変換し、格納し、元の目的変数を削除\n",
    "    def __trans_log_usd_goal_real(self,df_arg):\n",
    "        log_usd_goal_real_func = lambda x : math.log10(x)\n",
    "        df_arg.loc[df_arg[self.USD_GOAL_REAL].isnull() == False, self.LOG_USD_GOAL_REAL]  \\\n",
    "            = df_arg[self.USD_GOAL_REAL].map( log_usd_goal_real_func)\n",
    "        return df_arg\n",
    "\n",
    "    # 目的変数の変換\n",
    "    def __trans_obj_var(self,df_arg):\n",
    "        # stateがsuccessful,faild以外のものを削除\n",
    "        df_arg = \\\n",
    "            df_arg[ \\\n",
    "                       (df_arg[self.PRE_OBJ_VAR_NAME] == self.PRE_OBJ_VAR_SUCC)| \\\n",
    "                       (df_arg[self.PRE_OBJ_VAR_NAME] == self.PRE_OBJ_VAR_FAIL) ].copy()\n",
    "        \n",
    "        # 目的変数をTrue,Falseに変換\n",
    "        df_arg.loc[df_arg[self.PRE_OBJ_VAR_NAME] == self.PRE_OBJ_VAR_SUCC, self.OBJ_VAR_NAME] = True\n",
    "        df_arg.loc[df_arg[self.PRE_OBJ_VAR_NAME] != self.PRE_OBJ_VAR_SUCC, self.OBJ_VAR_NAME] = False\n",
    "        return df_arg\n",
    "    \n",
    "    # 期間、開始日時の月、終了日時の月を項目として加える関数\n",
    "    def __add_item_days_month(self,df_arg):\n",
    "        # 期間算出\n",
    "        df_arg.loc[df_arg[self.DEADLINE].isnull() == False, self.DAYS] \\\n",
    "            = df_arg.apply(lambda x: (dt.strptime(x[self.DEADLINE], '%Y-%m-%d') \\\n",
    "                - dt.strptime(x[self.LAUNCHED], '%Y-%m-%d %H:%M:%S')).days , axis=1)\n",
    "\n",
    "        # 月算出\n",
    "        launched_month_func = lambda launched : dt.strptime(launched, '%Y-%m-%d %H:%M:%S').month\n",
    "        df_arg.loc[df_arg[self.LAUNCHED].isnull()==False, self.LAUNCHED_MONTH] \\\n",
    "            = df_arg[self.LAUNCHED].map( launched_month_func)\n",
    "\n",
    "        deadline_month_func = lambda deadline : dt.strptime(deadline, '%Y-%m-%d').month\n",
    "        df_arg.loc[df_arg[self.DEADLINE].isnull()==False, self.DEADLINE_MONTH] \\\n",
    "            = df_arg[self.DEADLINE].map( deadline_month_func)\n",
    "        return df_arg\n",
    "    \n",
    "    def __trans_name(self, df_arg):\n",
    "        # name でnan値が入っているので、空白で置換え\n",
    "        df_arg[self.NAME] = df_arg[self.NAME].fillna(\" \")\n",
    "        # 名前の長さの算出\n",
    "        df_arg.loc[:,self.NAME_LEN] = df_arg[self.NAME].map(lambda name: len(name))\n",
    "        # 名前の頭文字の算出\n",
    "        df_arg.loc[df_arg[self.NAME_LEN] >= 1, self.NAME_INIT] = df_arg[self.NAME].map(lambda name: name[0:1])\n",
    "        return df_arg\n",
    "    \n",
    "    # コンストラクタ\n",
    "    def __init__(self):\n",
    "        # 初期ファイルの読み込み\n",
    "        self.df_ks = pd.read_csv(self.DATA_FILE)\n",
    "        \n",
    "        #　目的変数の処理\n",
    "        self.df_ks_result = self.__trans_obj_var(self.df_ks)\n",
    "        \n",
    "        # 目標金額の処理                                  \n",
    "        # ドル換算の目標金額のlog変換\n",
    "        self.df_ks_result = self.__trans_log_usd_goal_real(self.df_ks_result)\n",
    "        \n",
    "        # 開始日付、終了日付の処理\n",
    "        # 期間、開始月、終了月の処理\n",
    "        self.df_ks_result = self.__add_item_days_month(self.df_ks_result)\n",
    "        \n",
    "        # 名前の処理\n",
    "        self.df_ks_result = self.__trans_name(self.df_ks_result)\n",
    "        \n",
    "        # 不必要項目の一括削除\n",
    "        self.df_ks_result = self.df_ks_result.drop(self.disposal_item_list, axis=1)\n",
    "        \n",
    "        \n",
    "        \n",
    "    # 目的変数のアイテム名の取得\n",
    "    def get_obj_var_name(self):\n",
    "        return self.OBJ_VAR_NAME\n",
    "    \n",
    "    # 量的変数の項目名取得\n",
    "    def get_quant_var_list(self):\n",
    "        return self.quant_var_list\n",
    "    \n",
    "    # 量的変数の選択設定\n",
    "    def set_quant_var(self,quant_var_list):\n",
    "        quant_var_del_list = set(self.quant_var_list) -  set(quant_var_list)\n",
    "        self.quant_var_list = quant_var_list\n",
    "        \n",
    "        # 必要のない量的変数を削除\n",
    "        self.df_ks_result = self.df_ks_result.drop(quant_var_del_list, axis=1)\n",
    "        return\n",
    "    \n",
    "    # 質的変数の項目名取得\n",
    "    def get_quality_var_list(self):\n",
    "        return self.qunt_var_list\n",
    "    \n",
    "    # 質的変数の選択設定\n",
    "    def set_quality_var(self, quality_var_list):\n",
    "        quality_var_del_list = set(self.quality_var_list) -  set(quality_var_list)\n",
    "        self.quality_var_list = quality_var_list\n",
    "        \n",
    "        # 必要のない質的変数の削除\n",
    "        self.df_ks_result = self.df_ks_result.drop(quality_var_del_list, axis=1)\n",
    "        \n",
    "        return\n",
    "    \n",
    "    # 質的変数の全ダミー化\n",
    "    def set_dummy(self):\n",
    "        # 削除されていない質的変数をダミー化\n",
    "        self.df_ks_result = pd.get_dummies(self.df_ks_result,  columns=self.quality_var_list ,drop_first = True)\n",
    "        return\n",
    "    \n",
    "    # 質的変数のダミー化\n",
    "    # ただし、国のUSだけ突出しているため、countryはUSのみダミー変数とし、それ以外は全部まとめてダミー変数化しない\n",
    "    def set_dummy_country(self):\n",
    "        quality_var_list_tmp = self.quality_var_list\n",
    "        \n",
    "        # 質的変数にcountryが含まれているか？\n",
    "        if self.COUNTRY in self.quality_var_list:\n",
    "            # countryを一旦抜く\n",
    "            quality_var_list_tmp.remove(self.COUNTRY)\n",
    "            \n",
    "            # countryをUSのみダミー変数化(country_USの項目を追加)\n",
    "            item = self.COUNTRY + \"_\" + self.US\n",
    "            self.df_ks_result[item] = self.df_ks_result[self.COUNTRY].apply(lambda x: 1 if x== self.US else 0)\n",
    "            \n",
    "            # countryの項目を落とす。\n",
    "            self.df_ks_result = self.df_ks_result.drop(self.COUNTRY,axis=1)\n",
    "        \n",
    "        # country以外のダミー変数化\n",
    "        self.df_ks_result = pd.get_dummies(self.df_ks_result,  columns=quality_var_list_tmp ,drop_first = True)        \n",
    "        return\n",
    "    \n",
    "    # 質的変数のラベル化\n",
    "    def set_label(self):\n",
    "        self.label_dict = {}\n",
    "        for item in self.quality_var_list:\n",
    "            # ラベルエンコーディング\n",
    "            self.label_dict[item] =  preprocessing.LabelEncoder()\n",
    "            self.label_dict[item].fit(self.df_ks_result[item])\n",
    "            self.df_ks_result[item] = self.label_dict[item].transform(self.df_ks_result[item])\n",
    "            \n",
    "    # 質的変数のラベルのインデックス取得       \n",
    "    def get_label_index(self, item):\n",
    "        return self.label_dict[item].classes_\n",
    "    \n",
    "    # データフレームの戻し\n",
    "    def get_df(self):\n",
    "        return self.df_ks_result\n",
    "    "
   ]
  },
  {
   "cell_type": "code",
   "execution_count": 4,
   "metadata": {},
   "outputs": [],
   "source": [
    "# 検証用抽象クラス\n",
    "class Valid(metaclass=ABCMeta):\n",
    "\n",
    "    # コンストラクタ（必須）\n",
    "    @abstractmethod\n",
    "    def __init__(self):\n",
    "        pass\n",
    "\n",
    "    # 実行メソッド(必須)\n",
    "    @abstractmethod\n",
    "    def run(self):\n",
    "        pass\n",
    "    \n",
    "    \n",
    "    OBJ_VAR_NAME = \"state_bool\" # 目的変数名   \n",
    "    \n",
    "    # 標準化変数の辞書型配列の作成（量的変数毎の標準化変数をいれる枠）\n",
    "    def __make_stdsc_dict(self):            \n",
    "        stdsc_dict = {}\n",
    "        for item in self.quant_var_list:\n",
    "            stdsc_dict[item] = StandardScaler()\n",
    "        return stdsc_dict\n",
    "    \n",
    "    # 量的変数の標準化処理\n",
    "    # df　: 対象データフレーム\n",
    "    # stdsc :標準化\n",
    "    # fit_bool : fit_transformならTrue, transformならFalse\n",
    "    def __trans_stdsc(self, df, stdsc_dict,fit_bool):\n",
    "        for item in self.quant_var_list:\n",
    "            if fit_bool == True:    \n",
    "                df.loc[:,item]  = stdsc_dict[item].fit_transform(df[item].to_numpy().reshape(-1,1).astype('float64'))       \n",
    "            else:\n",
    "                df.loc[:,item]  = stdsc_dict[item].transform(df[item].to_numpy().reshape(-1,1).astype('float64'))\n",
    "        return df\n",
    "    \n",
    "    # 訓練（予め指定したモデルのアルゴリズムを使用）\n",
    "    def __train(self, X, y):\n",
    "        clf = self.model_alg\n",
    "        clf.fit(X, y)\n",
    "        \n",
    "        return clf\n",
    "\n",
    "    def __print_result(self, title, logloss, accuracy, precision, recall, f1_score):\n",
    "            print(title)\n",
    "            print('対数尤度 = {:.3f}'.format(logloss))\n",
    "            print('正答率（Accuracy） = {:.3f}%'.format(100 * accuracy))\n",
    "            print('適合率（Precision） = {:.3f}%'.format(100 * precision))\n",
    "            print('再現率（Recall） = {:.3f}%'.format(100 * recall))\n",
    "            print('F1値（F1-score） = {:.3f}%'.format(100 * f1_score))\n",
    "            print('\\n')\n",
    "            \n",
    "    # 結果の表示\n",
    "    def __get_result(self, y, y_est):\n",
    "        # 対数尤度を表示\n",
    "        logloss = - log_loss(y, y_est)\n",
    "              \n",
    "        # 正答率を計算\n",
    "        accuracy =  accuracy_score(y, y_est)\n",
    "\n",
    "        # Precision, Recall, F1-scoreを計算\n",
    "        precision, recall, f1_score, _ = precision_recall_fscore_support(y, y_est)\n",
    "        \n",
    "        return logloss,accuracy,precision[1],recall[1],f1_score[1]\n",
    "    \n",
    "    \n",
    "    # 検証\n",
    "    def __valid(self, df_train, df_test, stdsc_dict):\n",
    "        \n",
    "        # 訓練データとテストデータを目的変数と説明変数に分ける。\n",
    "        y_train = df_train[self.OBJ_VAR_NAME ].values\n",
    "        X_train = df_train.drop(self.OBJ_VAR_NAME , axis=1) \n",
    "        y_test = df_test[self.OBJ_VAR_NAME ].values\n",
    "        X_test = df_test.drop(self.OBJ_VAR_NAME , axis=1)        \n",
    "        \n",
    "        \n",
    "        # 訓練データの量的変数の標準化処理\n",
    "        X_train = self.__trans_stdsc(X_train, stdsc_dict, True)\n",
    "        \n",
    "        # モデルのアルゴリズムで訓練\n",
    "        clf = self.__train(X_train, y_train)\n",
    "        \n",
    "        # 　テストデータの量的変数の標準化\n",
    "        X_test = self.__trans_stdsc(X_test,stdsc_dict,False)\n",
    "        \n",
    "        # テストデータで検証\n",
    "        y_est = clf.predict(X_test)\n",
    "        logloss,accuracy,precision,recall,f1_score = self.__get_result(y_test,y_est)\n",
    "        \n",
    "        # 訓練結果を戻す。\n",
    "        return clf, logloss, accuracy,precision,recall,f1_score\n",
    "    \n"
   ]
  },
  {
   "cell_type": "code",
   "execution_count": 5,
   "metadata": {},
   "outputs": [],
   "source": [
    "# ホールドアウト用クラス\n",
    "class Valid_hold(Valid):\n",
    "    \n",
    "    #　コンストラクタ\n",
    "    # df : 検証対象のデータ（データフレーム）\n",
    "    # model_alg : モデルのアルゴリズム\n",
    "    # hold_sep_num: ホールドアウト法における分割数(1/分割数をテストに回す)\n",
    "    # cross_sep_num: 交差検証における分割数\n",
    "    # quant_var_list : 標準化する量的変数のリスト\n",
    "    def __init__(self,df, model_alg, hold_sep_num, quant_var_list):\n",
    "        self.df = df\n",
    "        self.model_alg = model_alg\n",
    "        self.hold_sep_num = hold_sep_num\n",
    "        self.quant_var_list = quant_var_list\n",
    "        return\n",
    "\n",
    "    \n",
    "    # ホールドアウト法\n",
    "    def __run_hold(self,df_test, clf, stdsc_dict):\n",
    "        # テストデータを訓練データとテストデータに分割\n",
    "        y_test = df_test[self.OBJ_VAR_NAME ].values\n",
    "        X_test = df_test.drop(self.OBJ_VAR_NAME , axis=1)     \n",
    "\n",
    "        # テストデータの標準化\n",
    "        X_test = self._Valid__trans_stdsc(X_test, stdsc_dict, False)\n",
    "        \n",
    "         # テストデータで検証\n",
    "        y_est = clf.predict(X_test)\n",
    "        logloss, accuracy,precision,recall,f1_score = self._Valid__get_result(y_test, y_est)                                \n",
    "        self._Valid__print_result('ホールドアウト検証結果',logloss, accuracy,precision,recall,f1_score)                                                 \n",
    "        return\n",
    "    \n",
    "    # 検証の実行\n",
    "    def run(self):\n",
    "        # ホールドアウトの分割\n",
    "        df_train, df_test= train_test_split(self.df, test_size=(1/self.hold_sep_num), random_state=1234)      \n",
    "            \n",
    "        stdsc_dict = self._Valid__make_stdsc_dict()\n",
    "        \n",
    "        # 訓練データによる訓練\n",
    "        clf, logloss, accuracy,precision,recall,f1_score = self._Valid__valid(df_train, df_test, stdsc_dict)\n",
    "        \n",
    "        # ホールドアウトのテスト\n",
    "        self.__run_hold(df_test,clf,stdsc_dict)\n",
    "        \n",
    "        # 内容を参照するため、モデルを返す。\n",
    "        return clf"
   ]
  },
  {
   "cell_type": "code",
   "execution_count": 6,
   "metadata": {},
   "outputs": [],
   "source": [
    "# ホールドアウト、交差検証用クラス\n",
    "# GridSearchCVを使用しない場合はこちらを使用\n",
    "class Valid_hold_cross(Valid_hold):\n",
    "    \n",
    "    #　コンストラクタ\n",
    "    # df : 検証対象のデータ（データフレーム）\n",
    "    # model_alg : モデルのアルゴリズム\n",
    "    # hold_sep_num: ホールドアウト法における分割数(1/分割数をテストに回す)\n",
    "    # cross_sep_num: 交差検証における分割数\n",
    "    # quant_var_list : 標準化する量的変数のリスト\n",
    "    def __init__(self,df, model_alg, hold_sep_num, cross_sep_num, quant_var_list):\n",
    "        self.df = df\n",
    "        self.model_alg = model_alg\n",
    "        self.hold_sep_num = hold_sep_num\n",
    "        self.cross_sep_num = cross_sep_num\n",
    "        self.quant_var_list = quant_var_list\n",
    "        return\n",
    "    \n",
    "    \n",
    "    # 交差検証\n",
    "    def __run_cross(self, df, stdsc_dict):\n",
    "        # モデル配列定義\n",
    "        clf_list = []\n",
    "        cross_valid_mae  = 0\n",
    "        \n",
    "        # 受け取ったデータフレームを分割\n",
    "        logloss_sum = 0\n",
    "        accuracy_sum = 0\n",
    "        precision_sum = 0\n",
    "        recall_sum = 0\n",
    "        f1_score_sum = 0\n",
    "        for i, [train_idx, test_idx] in enumerate(KFold(n_splits=self.cross_sep_num, shuffle=True, random_state=1234).split(df)):\n",
    "            df_train = df.iloc[train_idx] #学習用データ\n",
    "            df_test = df.iloc[test_idx] #テスト用データ\n",
    "            \n",
    "            # 学習用データでモデル作成してモデル配列に追加\n",
    "            stdsc_dict_tmp = self._Valid__make_stdsc_dict()\n",
    "\n",
    "            clf, logloss, accuracy,precision,recall,f1_score = self._Valid__valid(df_train, df_test, stdsc_dict_tmp)\n",
    "            # 結果表示\n",
    "            self._Valid__print_result('{0}回目'.format(i),logloss, accuracy,precision,recall,f1_score)\n",
    "            logloss_sum += logloss\n",
    "            accuracy_sum += accuracy\n",
    "            precision_sum += precision\n",
    "            recall_sum += recall\n",
    "            f1_score_sum += f1_score\n",
    "            \n",
    "            clf_list.append(clf)\n",
    "                                                 \n",
    "        # 交差検証した結果の平均化の表示\n",
    "        self._Valid__print_result(\\\n",
    "                            '交差検証平均結果',\\\n",
    "                            (logloss_sum/self.cross_sep_num),\\\n",
    "                            (accuracy_sum/self.cross_sep_num),\\\n",
    "                            (precision_sum/self.cross_sep_num),\\\n",
    "                            (recall_sum/self.cross_sep_num),\\\n",
    "                            (f1_score_sum/self.cross_sep_num)\\\n",
    "                           )\n",
    "\n",
    "        # 交差検証内の全データを使って、再度訓練（テスト結果は同じデータで表示\n",
    "        clf, logloss, accuracy,precision,recall,f1_score = self._Valid__valid(df,df,stdsc_dict)\n",
    "        self._Valid__print_result('交差検証全訓練データによる訓練結果',logloss, accuracy,precision,recall,f1_score)        \n",
    "        \n",
    "        # 訓練結果を戻す。\n",
    "        return clf\n",
    "    \n",
    "\n",
    "    \n",
    "    # 検証の実行\n",
    "    def run(self):\n",
    "        # ホールドアウトの分割\n",
    "        df_train, df_test= train_test_split(self.df, test_size=(1/self.hold_sep_num), random_state=1234)      \n",
    "            \n",
    "        stdsc_dict = self._Valid__make_stdsc_dict()\n",
    "\n",
    "        # ホールドアウトの訓練データを使用して交差検証\n",
    "        clf = self.__run_cross(df_train, stdsc_dict)\n",
    "        \n",
    "        # ホールドアウトのテスト\n",
    "        self._Valid_hold__run_hold(df_test,clf,stdsc_dict)\n",
    "        \n",
    "        # 内容を参照するため、モデルを返す。\n",
    "        return clf\n",
    "    "
   ]
  },
  {
   "cell_type": "markdown",
   "metadata": {},
   "source": [
    "### データの構成"
   ]
  },
  {
   "cell_type": "code",
   "execution_count": 5,
   "metadata": {},
   "outputs": [
    {
     "data": {
      "text/html": [
       "<div>\n",
       "<style scoped>\n",
       "    .dataframe tbody tr th:only-of-type {\n",
       "        vertical-align: middle;\n",
       "    }\n",
       "\n",
       "    .dataframe tbody tr th {\n",
       "        vertical-align: top;\n",
       "    }\n",
       "\n",
       "    .dataframe thead th {\n",
       "        text-align: right;\n",
       "    }\n",
       "</style>\n",
       "<table border=\"1\" class=\"dataframe\">\n",
       "  <thead>\n",
       "    <tr style=\"text-align: right;\">\n",
       "      <th></th>\n",
       "      <th>state_bool</th>\n",
       "      <th>log_usd_goal_real</th>\n",
       "      <th>days</th>\n",
       "      <th>name_len</th>\n",
       "      <th>category_Academic</th>\n",
       "      <th>category_Accessories</th>\n",
       "      <th>category_Action</th>\n",
       "      <th>category_Animals</th>\n",
       "      <th>category_Animation</th>\n",
       "      <th>category_Anthologies</th>\n",
       "      <th>...</th>\n",
       "      <th>deadline_month_3</th>\n",
       "      <th>deadline_month_4</th>\n",
       "      <th>deadline_month_5</th>\n",
       "      <th>deadline_month_6</th>\n",
       "      <th>deadline_month_7</th>\n",
       "      <th>deadline_month_8</th>\n",
       "      <th>deadline_month_9</th>\n",
       "      <th>deadline_month_10</th>\n",
       "      <th>deadline_month_11</th>\n",
       "      <th>deadline_month_12</th>\n",
       "    </tr>\n",
       "  </thead>\n",
       "  <tbody>\n",
       "    <tr>\n",
       "      <th>0</th>\n",
       "      <td>False</td>\n",
       "      <td>3.185811</td>\n",
       "      <td>58</td>\n",
       "      <td>31</td>\n",
       "      <td>0</td>\n",
       "      <td>0</td>\n",
       "      <td>0</td>\n",
       "      <td>0</td>\n",
       "      <td>0</td>\n",
       "      <td>0</td>\n",
       "      <td>...</td>\n",
       "      <td>0</td>\n",
       "      <td>0</td>\n",
       "      <td>0</td>\n",
       "      <td>0</td>\n",
       "      <td>0</td>\n",
       "      <td>0</td>\n",
       "      <td>0</td>\n",
       "      <td>1</td>\n",
       "      <td>0</td>\n",
       "      <td>0</td>\n",
       "    </tr>\n",
       "    <tr>\n",
       "      <th>1</th>\n",
       "      <td>False</td>\n",
       "      <td>4.477121</td>\n",
       "      <td>59</td>\n",
       "      <td>45</td>\n",
       "      <td>0</td>\n",
       "      <td>0</td>\n",
       "      <td>0</td>\n",
       "      <td>0</td>\n",
       "      <td>0</td>\n",
       "      <td>0</td>\n",
       "      <td>...</td>\n",
       "      <td>0</td>\n",
       "      <td>0</td>\n",
       "      <td>0</td>\n",
       "      <td>0</td>\n",
       "      <td>0</td>\n",
       "      <td>0</td>\n",
       "      <td>0</td>\n",
       "      <td>0</td>\n",
       "      <td>1</td>\n",
       "      <td>0</td>\n",
       "    </tr>\n",
       "    <tr>\n",
       "      <th>2</th>\n",
       "      <td>False</td>\n",
       "      <td>4.653213</td>\n",
       "      <td>44</td>\n",
       "      <td>14</td>\n",
       "      <td>0</td>\n",
       "      <td>0</td>\n",
       "      <td>0</td>\n",
       "      <td>0</td>\n",
       "      <td>0</td>\n",
       "      <td>0</td>\n",
       "      <td>...</td>\n",
       "      <td>0</td>\n",
       "      <td>0</td>\n",
       "      <td>0</td>\n",
       "      <td>0</td>\n",
       "      <td>0</td>\n",
       "      <td>0</td>\n",
       "      <td>0</td>\n",
       "      <td>0</td>\n",
       "      <td>0</td>\n",
       "      <td>0</td>\n",
       "    </tr>\n",
       "    <tr>\n",
       "      <th>3</th>\n",
       "      <td>False</td>\n",
       "      <td>3.698970</td>\n",
       "      <td>29</td>\n",
       "      <td>49</td>\n",
       "      <td>0</td>\n",
       "      <td>0</td>\n",
       "      <td>0</td>\n",
       "      <td>0</td>\n",
       "      <td>0</td>\n",
       "      <td>0</td>\n",
       "      <td>...</td>\n",
       "      <td>0</td>\n",
       "      <td>1</td>\n",
       "      <td>0</td>\n",
       "      <td>0</td>\n",
       "      <td>0</td>\n",
       "      <td>0</td>\n",
       "      <td>0</td>\n",
       "      <td>0</td>\n",
       "      <td>0</td>\n",
       "      <td>0</td>\n",
       "    </tr>\n",
       "    <tr>\n",
       "      <th>5</th>\n",
       "      <td>True</td>\n",
       "      <td>4.698970</td>\n",
       "      <td>34</td>\n",
       "      <td>20</td>\n",
       "      <td>0</td>\n",
       "      <td>0</td>\n",
       "      <td>0</td>\n",
       "      <td>0</td>\n",
       "      <td>0</td>\n",
       "      <td>0</td>\n",
       "      <td>...</td>\n",
       "      <td>0</td>\n",
       "      <td>1</td>\n",
       "      <td>0</td>\n",
       "      <td>0</td>\n",
       "      <td>0</td>\n",
       "      <td>0</td>\n",
       "      <td>0</td>\n",
       "      <td>0</td>\n",
       "      <td>0</td>\n",
       "      <td>0</td>\n",
       "    </tr>\n",
       "  </tbody>\n",
       "</table>\n",
       "<p>5 rows × 354 columns</p>\n",
       "</div>"
      ],
      "text/plain": [
       "   state_bool  log_usd_goal_real  days  name_len  category_Academic  \\\n",
       "0       False           3.185811    58        31                  0   \n",
       "1       False           4.477121    59        45                  0   \n",
       "2       False           4.653213    44        14                  0   \n",
       "3       False           3.698970    29        49                  0   \n",
       "5        True           4.698970    34        20                  0   \n",
       "\n",
       "   category_Accessories  category_Action  category_Animals  \\\n",
       "0                     0                0                 0   \n",
       "1                     0                0                 0   \n",
       "2                     0                0                 0   \n",
       "3                     0                0                 0   \n",
       "5                     0                0                 0   \n",
       "\n",
       "   category_Animation  category_Anthologies  ...  deadline_month_3  \\\n",
       "0                   0                     0  ...                 0   \n",
       "1                   0                     0  ...                 0   \n",
       "2                   0                     0  ...                 0   \n",
       "3                   0                     0  ...                 0   \n",
       "5                   0                     0  ...                 0   \n",
       "\n",
       "   deadline_month_4  deadline_month_5  deadline_month_6  deadline_month_7  \\\n",
       "0                 0                 0                 0                 0   \n",
       "1                 0                 0                 0                 0   \n",
       "2                 0                 0                 0                 0   \n",
       "3                 1                 0                 0                 0   \n",
       "5                 1                 0                 0                 0   \n",
       "\n",
       "   deadline_month_8  deadline_month_9  deadline_month_10  deadline_month_11  \\\n",
       "0                 0                 0                  1                  0   \n",
       "1                 0                 0                  0                  1   \n",
       "2                 0                 0                  0                  0   \n",
       "3                 0                 0                  0                  0   \n",
       "5                 0                 0                  0                  0   \n",
       "\n",
       "   deadline_month_12  \n",
       "0                  0  \n",
       "1                  0  \n",
       "2                  0  \n",
       "3                  0  \n",
       "5                  0  \n",
       "\n",
       "[5 rows x 354 columns]"
      ]
     },
     "execution_count": 5,
     "metadata": {},
     "output_type": "execute_result"
    }
   ],
   "source": [
    "ks_data = Ks_data()\n",
    "\n",
    "# 量的変数の設定\n",
    "ks_data.set_quant_var([\"log_usd_goal_real\",\"days\",\"name_len\"])\n",
    "\n",
    "# 質的変数の設定\n",
    "ks_data.set_quality_var([\"category\",\"main_category\",\"country\",\"name_init\",\"launched_month\",\"deadline_month\"])\n",
    "\n",
    "# 質的変数のダミー化\n",
    "ks_data.set_dummy()\n",
    "\n",
    "df_ks_result = ks_data.get_df()\n",
    "df_ks_result.head()"
   ]
  },
  {
   "cell_type": "markdown",
   "metadata": {},
   "source": [
    "### 交差検証およびホールドアウトの実行"
   ]
  },
  {
   "cell_type": "code",
   "execution_count": 7,
   "metadata": {},
   "outputs": [
    {
     "name": "stdout",
     "output_type": "stream",
     "text": [
      "0回目\n",
      "対数尤度 = -11.273\n",
      "正答率（Accuracy） = 67.363%\n",
      "適合率（Precision） = 61.679%\n",
      "再現率（Recall） = 51.485%\n",
      "F1値（F1-score） = 56.123%\n",
      "\n",
      "\n",
      "1回目\n",
      "対数尤度 = -11.220\n",
      "正答率（Accuracy） = 67.515%\n",
      "適合率（Precision） = 61.769%\n",
      "再現率（Recall） = 53.255%\n",
      "F1値（F1-score） = 57.197%\n",
      "\n",
      "\n",
      "2回目\n",
      "対数尤度 = -11.135\n",
      "正答率（Accuracy） = 67.760%\n",
      "適合率（Precision） = 62.611%\n",
      "再現率（Recall） = 50.126%\n",
      "F1値（F1-score） = 55.677%\n",
      "\n",
      "\n",
      "3回目\n",
      "対数尤度 = -11.215\n",
      "正答率（Accuracy） = 67.530%\n",
      "適合率（Precision） = 62.001%\n",
      "再現率（Recall） = 50.732%\n",
      "F1値（F1-score） = 55.803%\n",
      "\n",
      "\n",
      "4回目\n",
      "対数尤度 = -11.265\n",
      "正答率（Accuracy） = 67.385%\n",
      "適合率（Precision） = 62.063%\n",
      "再現率（Recall） = 48.467%\n",
      "F1値（F1-score） = 54.429%\n",
      "\n",
      "\n",
      "交差検証平均結果\n",
      "対数尤度 = -11.221\n",
      "正答率（Accuracy） = 67.511%\n",
      "適合率（Precision） = 62.025%\n",
      "再現率（Recall） = 50.813%\n",
      "F1値（F1-score） = 55.846%\n",
      "\n",
      "\n",
      "交差検証全訓練データによる訓練結果\n",
      "対数尤度 = -11.204\n",
      "正答率（Accuracy） = 67.563%\n",
      "適合率（Precision） = 62.179%\n",
      "再現率（Recall） = 50.601%\n",
      "F1値（F1-score） = 55.796%\n",
      "\n",
      "\n",
      "ホールドアウト検証結果\n",
      "対数尤度 = -11.198\n",
      "正答率（Accuracy） = 67.580%\n",
      "適合率（Precision） = 61.677%\n",
      "再現率（Recall） = 50.633%\n",
      "F1値（F1-score） = 55.612%\n",
      "\n",
      "\n"
     ]
    },
    {
     "data": {
      "text/plain": [
       "SGDClassifier(alpha=0.0001, average=False, class_weight=None,\n",
       "       early_stopping=False, epsilon=0.1, eta0=0.0, fit_intercept=True,\n",
       "       l1_ratio=0.15, learning_rate='optimal', loss='log', max_iter=10000,\n",
       "       n_iter=None, n_iter_no_change=5, n_jobs=None, penalty='none',\n",
       "       power_t=0.5, random_state=1234, shuffle=True, tol=0.001,\n",
       "       validation_fraction=0.1, verbose=0, warm_start=False)"
      ]
     },
     "execution_count": 7,
     "metadata": {},
     "output_type": "execute_result"
    }
   ],
   "source": [
    "# ロジスティック回帰で全データを使用\n",
    "quant_var_list = ks_data.get_quant_var_list()\n",
    "model_alg =SGDClassifier(loss='log', penalty='none', max_iter=10000, fit_intercept=True, random_state=1234, tol=1e-3)\n",
    "valid_hold_cross = Valid_hold_cross(df_ks_result, model_alg, 5, 5, quant_var_list)\n",
    "\n",
    "valid_hold_cross.run()"
   ]
  },
  {
   "cell_type": "markdown",
   "metadata": {},
   "source": [
    "#### グリッドサーチの実行"
   ]
  },
  {
   "cell_type": "code",
   "execution_count": 8,
   "metadata": {},
   "outputs": [
    {
     "name": "stdout",
     "output_type": "stream",
     "text": [
      "ホールドアウト検証結果\n",
      "対数尤度 = -11.229\n",
      "正答率（Accuracy） = 67.488%\n",
      "適合率（Precision） = 61.537%\n",
      "再現率（Recall） = 50.517%\n",
      "F1値（F1-score） = 55.485%\n",
      "\n",
      "\n",
      "{'fit_intercept': False, 'max_iter': 1000, 'penalty': 'elasticnet'} 0.6752053968493253\n"
     ]
    }
   ],
   "source": [
    "parameters = { \\\n",
    "              'penalty':['none', 'l2','l1','elasticnet'], \\\n",
    "              'max_iter':[1000, 5000, 10000,50000], \\\n",
    "              'fit_intercept':[True, False] \\\n",
    "             }\n",
    "model =  SGDClassifier(loss='log', random_state=1234, tol=1e-3)\n",
    "model_alg= GridSearchCV(model, parameters, cv=3,)\n",
    "\n",
    "quant_var_list = ks_data.get_quant_var_list()\n",
    "valid_hold = Valid_hold(df_ks_result, model_alg, 5, quant_var_list)\n",
    "clf = valid_hold.run()\n",
    "\n",
    "print(clf.best_params_, clf.best_score_)"
   ]
  },
  {
   "cell_type": "markdown",
   "metadata": {},
   "source": [
    "（考察）　上記を参考にする。"
   ]
  },
  {
   "cell_type": "markdown",
   "metadata": {},
   "source": [
    "## 3. 特徴量選択"
   ]
  },
  {
   "cell_type": "markdown",
   "metadata": {},
   "source": [
    "### フィルター法"
   ]
  },
  {
   "cell_type": "markdown",
   "metadata": {},
   "source": [
    "#### 量的変数の検討\n",
    "とりあえず量的変数での相関関係を検討してみる"
   ]
  },
  {
   "cell_type": "code",
   "execution_count": 9,
   "metadata": {},
   "outputs": [],
   "source": [
    "# 説明変数の相関係数を確認\n",
    "\n",
    "ks_data = Ks_data()\n",
    "\n",
    "# 量的変数の設定\n",
    "ks_data.set_quant_var([\"log_usd_goal_real\",\"days\",\"name_len\"])\n",
    "\n",
    "# 質的変数の設定\n",
    "ks_data.set_quality_var([\"category\",\"main_category\",\"country\",\"name_init\",\"launched_month\",\"deadline_month\"])\n",
    "\n",
    "# 質的変数のダミー化\n",
    "ks_data.set_dummy()\n",
    "\n",
    "df_ks_result = ks_data.get_df()"
   ]
  },
  {
   "cell_type": "code",
   "execution_count": 10,
   "metadata": {},
   "outputs": [
    {
     "data": {
      "text/html": [
       "<div>\n",
       "<style scoped>\n",
       "    .dataframe tbody tr th:only-of-type {\n",
       "        vertical-align: middle;\n",
       "    }\n",
       "\n",
       "    .dataframe tbody tr th {\n",
       "        vertical-align: top;\n",
       "    }\n",
       "\n",
       "    .dataframe thead th {\n",
       "        text-align: right;\n",
       "    }\n",
       "</style>\n",
       "<table border=\"1\" class=\"dataframe\">\n",
       "  <thead>\n",
       "    <tr style=\"text-align: right;\">\n",
       "      <th></th>\n",
       "      <th>state_bool</th>\n",
       "      <th>log_usd_goal_real</th>\n",
       "      <th>days</th>\n",
       "      <th>name_len</th>\n",
       "    </tr>\n",
       "  </thead>\n",
       "  <tbody>\n",
       "    <tr>\n",
       "      <th>state_bool</th>\n",
       "      <td>1.000000</td>\n",
       "      <td>-0.224391</td>\n",
       "      <td>-0.116437</td>\n",
       "      <td>0.104378</td>\n",
       "    </tr>\n",
       "    <tr>\n",
       "      <th>log_usd_goal_real</th>\n",
       "      <td>-0.224391</td>\n",
       "      <td>1.000000</td>\n",
       "      <td>0.185500</td>\n",
       "      <td>0.042964</td>\n",
       "    </tr>\n",
       "    <tr>\n",
       "      <th>days</th>\n",
       "      <td>-0.116437</td>\n",
       "      <td>0.185500</td>\n",
       "      <td>1.000000</td>\n",
       "      <td>0.014485</td>\n",
       "    </tr>\n",
       "    <tr>\n",
       "      <th>name_len</th>\n",
       "      <td>0.104378</td>\n",
       "      <td>0.042964</td>\n",
       "      <td>0.014485</td>\n",
       "      <td>1.000000</td>\n",
       "    </tr>\n",
       "  </tbody>\n",
       "</table>\n",
       "</div>"
      ],
      "text/plain": [
       "                   state_bool  log_usd_goal_real      days  name_len\n",
       "state_bool           1.000000          -0.224391 -0.116437  0.104378\n",
       "log_usd_goal_real   -0.224391           1.000000  0.185500  0.042964\n",
       "days                -0.116437           0.185500  1.000000  0.014485\n",
       "name_len             0.104378           0.042964  0.014485  1.000000"
      ]
     },
     "execution_count": 10,
     "metadata": {},
     "output_type": "execute_result"
    }
   ],
   "source": [
    "df_ks_result[[\"state_bool\",\"log_usd_goal_real\",\"days\",\"name_len\"]].corr()"
   ]
  },
  {
   "cell_type": "code",
   "execution_count": 11,
   "metadata": {},
   "outputs": [
    {
     "data": {
      "image/png": "[encoded data removed]",
      "text/plain": [
       "<Figure size 432x288 with 2 Axes>"
      ]
     },
     "metadata": {
      "needs_background": "light"
     },
     "output_type": "display_data"
    }
   ],
   "source": [
    "# 相関係数をヒートマップにして可視化\n",
    "sns.heatmap(df_ks_result[[\"state_bool\",\"log_usd_goal_real\",\"days\",\"name_len\"]].corr())\n",
    "plt.show()"
   ]
  },
  {
   "cell_type": "markdown",
   "metadata": {},
   "source": [
    "（考察）　量的変数で相関係数の高いもの（絶対値0.5を超えるようなもの）はない。"
   ]
  },
  {
   "cell_type": "markdown",
   "metadata": {},
   "source": [
    "### ラッパー法"
   ]
  },
  {
   "cell_type": "markdown",
   "metadata": {},
   "source": [
    "一度やろうとしたが、全部の変数を使用すると、計算が終わらない。\n",
    "\n",
    "よって、countryはダミー変数としてcountry_USのみ採用する。\n",
    "\n",
    "また、categoryとname_initは数が多すぎるため使用しない。"
   ]
  },
  {
   "cell_type": "code",
   "execution_count": 12,
   "metadata": {},
   "outputs": [],
   "source": [
    "# estimatorにモデルをセット\n",
    "estimator = SGDClassifier(loss='log', random_state=1234, tol=1e-3, fit_intercept=False, max_iter=1000, penalty='elasticnet')\n",
    "\n",
    "# RFECVは交差検証によってステップワイズ法による特徴選択を行う\n",
    "# cvにはFold（=グループ）の数，scoringには評価指標を指定する\n",
    "rfecv = RFECV(estimator, cv=5, scoring='accuracy')"
   ]
  },
  {
   "cell_type": "code",
   "execution_count": 25,
   "metadata": {},
   "outputs": [],
   "source": [
    "ks_data = Ks_data()\n",
    "\n",
    "# 量的変数の設定\n",
    "ks_data.set_quant_var([\"log_usd_goal_real\",\"days\",\"name_len\"])\n",
    "\n",
    "# 質的変数の設定\n",
    "ks_data.set_quality_var([\"main_category\",\"country\",\"launched_month\",\"deadline_month\"])\n",
    "\n",
    "# 質的変数のダミー化(countryはcountry_USのみとする。)\n",
    "ks_data.set_dummy_country()\n",
    "\n",
    "df_ks_result = ks_data.get_df()\n",
    "\n",
    "df_label = df_ks_result[\"state_bool\"]\n",
    "df_data = df_ks_result.drop(\"state_bool\", axis=1)\n",
    "\n",
    "y = df_label.values\n",
    "X = df_data.values\n",
    "\n"
   ]
  },
  {
   "cell_type": "code",
   "execution_count": 26,
   "metadata": {},
   "outputs": [
    {
     "data": {
      "text/plain": [
       "RFECV(cv=5,\n",
       "   estimator=SGDClassifier(alpha=0.0001, average=False, class_weight=None,\n",
       "       early_stopping=False, epsilon=0.1, eta0=0.0, fit_intercept=False,\n",
       "       l1_ratio=0.15, learning_rate='optimal', loss='log', max_iter=1000,\n",
       "       n_iter=None, n_iter_no_change=5, n_jobs=None, penalty='elasticnet',\n",
       "       power_t=0.5, random_state=1234, shuffle=True, tol=0.001,\n",
       "       validation_fraction=0.1, verbose=0, warm_start=False),\n",
       "   min_features_to_select=1, n_jobs=None, scoring='accuracy', step=1,\n",
       "   verbose=0)"
      ]
     },
     "execution_count": 26,
     "metadata": {},
     "output_type": "execute_result"
    }
   ],
   "source": [
    "# fitで特徴選択を実行\n",
    "rfecv.fit(X, y)"
   ]
  },
  {
   "cell_type": "code",
   "execution_count": 27,
   "metadata": {},
   "outputs": [
    {
     "name": "stdout",
     "output_type": "stream",
     "text": [
      "Feature ranking: \n",
      "[1 8 9 1 1 1 1 1 1 1 1 1 1 1 6 7 1 1 5 4 1 1 1 1 1 1 1 1 1 1 1 1 1 1 1 1 1\n",
      " 1 2 3]\n"
     ]
    }
   ],
   "source": [
    "# 特徴のランキングを表示（1が最も重要な特徴）\n",
    "print('Feature ranking: \\n{}'.format(rfecv.ranking_))"
   ]
  },
  {
   "cell_type": "code",
   "execution_count": 28,
   "metadata": {},
   "outputs": [
    {
     "data": {
      "image/png": "[encoded data removed]",
      "text/plain": [
       "<Figure size 432x288 with 1 Axes>"
      ]
     },
     "metadata": {
      "needs_background": "light"
     },
     "output_type": "display_data"
    }
   ],
   "source": [
    "# 特徴数とスコアの変化をプロット\n",
    "plt.plot(range(1, len(rfecv.grid_scores_) + 1), rfecv.grid_scores_)\n",
    "plt.show()"
   ]
  },
  {
   "cell_type": "code",
   "execution_count": 29,
   "metadata": {},
   "outputs": [
    {
     "data": {
      "text/plain": [
       "array([ True, False, False,  True,  True,  True,  True,  True,  True,\n",
       "        True,  True,  True,  True,  True, False, False,  True,  True,\n",
       "       False, False,  True,  True,  True,  True,  True,  True,  True,\n",
       "        True,  True,  True,  True,  True,  True,  True,  True,  True,\n",
       "        True,  True, False, False])"
      ]
     },
     "execution_count": 29,
     "metadata": {},
     "output_type": "execute_result"
    }
   ],
   "source": [
    "# rfecv.support_でランキング1位以外はFalseとするindexを取得できる\n",
    "# Trueになっている特徴を使用すれば汎化誤差は最小となる\n",
    "rfecv.support_"
   ]
  },
  {
   "cell_type": "code",
   "execution_count": 30,
   "metadata": {},
   "outputs": [
    {
     "data": {
      "text/plain": [
       "array([False,  True,  True, False, False, False, False, False, False,\n",
       "       False, False, False, False, False,  True,  True, False, False,\n",
       "        True,  True, False, False, False, False, False, False, False,\n",
       "       False, False, False, False, False, False, False, False, False,\n",
       "       False, False,  True,  True])"
      ]
     },
     "execution_count": 30,
     "metadata": {},
     "output_type": "execute_result"
    }
   ],
   "source": [
    "# bool型の配列に ~ をつけるとTrueとFalseを反転させることができる\n",
    "# ここでTrueになっている特徴が削除してもよい特徴\n",
    "remove_idx = ~rfecv.support_\n",
    "remove_idx"
   ]
  },
  {
   "cell_type": "code",
   "execution_count": 31,
   "metadata": {},
   "outputs": [
    {
     "data": {
      "text/plain": [
       "Index(['days', 'name_len', 'main_category_Photography',\n",
       "       'main_category_Publishing', 'launched_month_2', 'launched_month_3',\n",
       "       'deadline_month_11', 'deadline_month_12'],\n",
       "      dtype='object')"
      ]
     },
     "execution_count": 31,
     "metadata": {},
     "output_type": "execute_result"
    }
   ],
   "source": [
    "# 削除してもよい特徴の名前を取得する\n",
    "remove_feature = df_data.columns[remove_idx]\n",
    "remove_feature"
   ]
  },
  {
   "cell_type": "code",
   "execution_count": 41,
   "metadata": {},
   "outputs": [
    {
     "data": {
      "text/html": [
       "<div>\n",
       "<style scoped>\n",
       "    .dataframe tbody tr th:only-of-type {\n",
       "        vertical-align: middle;\n",
       "    }\n",
       "\n",
       "    .dataframe tbody tr th {\n",
       "        vertical-align: top;\n",
       "    }\n",
       "\n",
       "    .dataframe thead th {\n",
       "        text-align: right;\n",
       "    }\n",
       "</style>\n",
       "<table border=\"1\" class=\"dataframe\">\n",
       "  <thead>\n",
       "    <tr style=\"text-align: right;\">\n",
       "      <th></th>\n",
       "      <th>state_bool</th>\n",
       "      <th>log_usd_goal_real</th>\n",
       "      <th>country_US</th>\n",
       "      <th>main_category_Comics</th>\n",
       "      <th>main_category_Crafts</th>\n",
       "      <th>main_category_Dance</th>\n",
       "      <th>main_category_Design</th>\n",
       "      <th>main_category_Fashion</th>\n",
       "      <th>main_category_Film &amp; Video</th>\n",
       "      <th>main_category_Food</th>\n",
       "      <th>...</th>\n",
       "      <th>launched_month_12</th>\n",
       "      <th>deadline_month_2</th>\n",
       "      <th>deadline_month_3</th>\n",
       "      <th>deadline_month_4</th>\n",
       "      <th>deadline_month_5</th>\n",
       "      <th>deadline_month_6</th>\n",
       "      <th>deadline_month_7</th>\n",
       "      <th>deadline_month_8</th>\n",
       "      <th>deadline_month_9</th>\n",
       "      <th>deadline_month_10</th>\n",
       "    </tr>\n",
       "  </thead>\n",
       "  <tbody>\n",
       "    <tr>\n",
       "      <th>0</th>\n",
       "      <td>False</td>\n",
       "      <td>3.185811</td>\n",
       "      <td>0</td>\n",
       "      <td>0</td>\n",
       "      <td>0</td>\n",
       "      <td>0</td>\n",
       "      <td>0</td>\n",
       "      <td>0</td>\n",
       "      <td>0</td>\n",
       "      <td>0</td>\n",
       "      <td>...</td>\n",
       "      <td>0</td>\n",
       "      <td>0</td>\n",
       "      <td>0</td>\n",
       "      <td>0</td>\n",
       "      <td>0</td>\n",
       "      <td>0</td>\n",
       "      <td>0</td>\n",
       "      <td>0</td>\n",
       "      <td>0</td>\n",
       "      <td>1</td>\n",
       "    </tr>\n",
       "    <tr>\n",
       "      <th>1</th>\n",
       "      <td>False</td>\n",
       "      <td>4.477121</td>\n",
       "      <td>1</td>\n",
       "      <td>0</td>\n",
       "      <td>0</td>\n",
       "      <td>0</td>\n",
       "      <td>0</td>\n",
       "      <td>0</td>\n",
       "      <td>1</td>\n",
       "      <td>0</td>\n",
       "      <td>...</td>\n",
       "      <td>0</td>\n",
       "      <td>0</td>\n",
       "      <td>0</td>\n",
       "      <td>0</td>\n",
       "      <td>0</td>\n",
       "      <td>0</td>\n",
       "      <td>0</td>\n",
       "      <td>0</td>\n",
       "      <td>0</td>\n",
       "      <td>0</td>\n",
       "    </tr>\n",
       "    <tr>\n",
       "      <th>2</th>\n",
       "      <td>False</td>\n",
       "      <td>4.653213</td>\n",
       "      <td>1</td>\n",
       "      <td>0</td>\n",
       "      <td>0</td>\n",
       "      <td>0</td>\n",
       "      <td>0</td>\n",
       "      <td>0</td>\n",
       "      <td>1</td>\n",
       "      <td>0</td>\n",
       "      <td>...</td>\n",
       "      <td>0</td>\n",
       "      <td>1</td>\n",
       "      <td>0</td>\n",
       "      <td>0</td>\n",
       "      <td>0</td>\n",
       "      <td>0</td>\n",
       "      <td>0</td>\n",
       "      <td>0</td>\n",
       "      <td>0</td>\n",
       "      <td>0</td>\n",
       "    </tr>\n",
       "    <tr>\n",
       "      <th>3</th>\n",
       "      <td>False</td>\n",
       "      <td>3.698970</td>\n",
       "      <td>1</td>\n",
       "      <td>0</td>\n",
       "      <td>0</td>\n",
       "      <td>0</td>\n",
       "      <td>0</td>\n",
       "      <td>0</td>\n",
       "      <td>0</td>\n",
       "      <td>0</td>\n",
       "      <td>...</td>\n",
       "      <td>0</td>\n",
       "      <td>0</td>\n",
       "      <td>0</td>\n",
       "      <td>1</td>\n",
       "      <td>0</td>\n",
       "      <td>0</td>\n",
       "      <td>0</td>\n",
       "      <td>0</td>\n",
       "      <td>0</td>\n",
       "      <td>0</td>\n",
       "    </tr>\n",
       "    <tr>\n",
       "      <th>5</th>\n",
       "      <td>True</td>\n",
       "      <td>4.698970</td>\n",
       "      <td>1</td>\n",
       "      <td>0</td>\n",
       "      <td>0</td>\n",
       "      <td>0</td>\n",
       "      <td>0</td>\n",
       "      <td>0</td>\n",
       "      <td>0</td>\n",
       "      <td>1</td>\n",
       "      <td>...</td>\n",
       "      <td>0</td>\n",
       "      <td>0</td>\n",
       "      <td>0</td>\n",
       "      <td>1</td>\n",
       "      <td>0</td>\n",
       "      <td>0</td>\n",
       "      <td>0</td>\n",
       "      <td>0</td>\n",
       "      <td>0</td>\n",
       "      <td>0</td>\n",
       "    </tr>\n",
       "  </tbody>\n",
       "</table>\n",
       "<p>5 rows × 33 columns</p>\n",
       "</div>"
      ],
      "text/plain": [
       "   state_bool  log_usd_goal_real  country_US  main_category_Comics  \\\n",
       "0       False           3.185811           0                     0   \n",
       "1       False           4.477121           1                     0   \n",
       "2       False           4.653213           1                     0   \n",
       "3       False           3.698970           1                     0   \n",
       "5        True           4.698970           1                     0   \n",
       "\n",
       "   main_category_Crafts  main_category_Dance  main_category_Design  \\\n",
       "0                     0                    0                     0   \n",
       "1                     0                    0                     0   \n",
       "2                     0                    0                     0   \n",
       "3                     0                    0                     0   \n",
       "5                     0                    0                     0   \n",
       "\n",
       "   main_category_Fashion  main_category_Film & Video  main_category_Food  ...  \\\n",
       "0                      0                           0                   0  ...   \n",
       "1                      0                           1                   0  ...   \n",
       "2                      0                           1                   0  ...   \n",
       "3                      0                           0                   0  ...   \n",
       "5                      0                           0                   1  ...   \n",
       "\n",
       "   launched_month_12  deadline_month_2  deadline_month_3  deadline_month_4  \\\n",
       "0                  0                 0                 0                 0   \n",
       "1                  0                 0                 0                 0   \n",
       "2                  0                 1                 0                 0   \n",
       "3                  0                 0                 0                 1   \n",
       "5                  0                 0                 0                 1   \n",
       "\n",
       "   deadline_month_5  deadline_month_6  deadline_month_7  deadline_month_8  \\\n",
       "0                 0                 0                 0                 0   \n",
       "1                 0                 0                 0                 0   \n",
       "2                 0                 0                 0                 0   \n",
       "3                 0                 0                 0                 0   \n",
       "5                 0                 0                 0                 0   \n",
       "\n",
       "   deadline_month_9  deadline_month_10  \n",
       "0                 0                  1  \n",
       "1                 0                  0  \n",
       "2                 0                  0  \n",
       "3                 0                  0  \n",
       "5                 0                  0  \n",
       "\n",
       "[5 rows x 33 columns]"
      ]
     },
     "execution_count": 41,
     "metadata": {},
     "output_type": "execute_result"
    }
   ],
   "source": [
    "# drop関数で特徴を削除\n",
    "selected_df_data = df_ks_result.drop(remove_feature, axis=1)\n",
    "selected_df_data.head()"
   ]
  },
  {
   "cell_type": "code",
   "execution_count": 39,
   "metadata": {},
   "outputs": [],
   "source": [
    "# グリッドサーチで計算してみる。\n",
    "parameters = { \\\n",
    "    'penalty':['none', 'l2','l1','elasticnet'], \\\n",
    "    'max_iter':[1000, 5000, 10000,50000], \\\n",
    "    'fit_intercept':[True, False] \\\n",
    "    }\n",
    "\n",
    "model =  SGDClassifier(loss='log', random_state=1234, tol=1e-3)\n",
    "model_alg= GridSearchCV(model, parameters, cv=3,)\n",
    "\n",
    "quant_var_list = ks_data.get_quant_var_list()\n",
    "\n",
    "# 量的変数の中から削除対象があれば削除しておく。\n",
    "for item in remove_feature:\n",
    "    if item in quant_var_list:\n",
    "        quant_var_list.remove(item)\n",
    "        \n",
    "valid_hold = Valid_hold(selected_df_data, model_alg, 5, quant_var_list)\n"
   ]
  },
  {
   "cell_type": "code",
   "execution_count": 40,
   "metadata": {},
   "outputs": [
    {
     "name": "stdout",
     "output_type": "stream",
     "text": [
      "ホールドアウト検証結果\n",
      "対数尤度 = -12.228\n",
      "正答率（Accuracy） = 64.598%\n",
      "適合率（Precision） = 58.446%\n",
      "再現率（Recall） = 40.610%\n",
      "F1値（F1-score） = 47.922%\n",
      "\n",
      "\n",
      "{'fit_intercept': True, 'max_iter': 1000, 'penalty': 'l2'} 0.6397716137785483\n"
     ]
    }
   ],
   "source": [
    "clf = valid_hold.run()\n",
    "\n",
    "print(clf.best_params_, clf.best_score_)"
   ]
  },
  {
   "cell_type": "markdown",
   "metadata": {},
   "source": [
    "（考察）\n",
    "特徴量選択を行わない場合のグリッドサーチの結果は以下。\n",
    "\n",
    "- ホールドアウト検証結果\n",
    "    - 対数尤度 = -11.229\n",
    "    - 正答率（Accuracy） = 67.488%\n",
    "    - 適合率（Precision） = 61.537%\n",
    "    - 再現率（Recall） = 50.517%\n",
    "    - F1値（F1-score） = 55.485%\n",
    "\n",
    "- 最適パラメータ\n",
    "    - {'fit_intercept': False, 'max_iter': 1000, 'penalty': 'elasticnet'} 0.6752053968493253\n",
    "\n",
    "　特にダミー変数が多くなると、計算量が多くなるので、変数を減らしたが、あまり良くなったとは言えない。"
   ]
  },
  {
   "cell_type": "markdown",
   "metadata": {},
   "source": [
    "### 埋め込み法"
   ]
  },
  {
   "cell_type": "code",
   "execution_count": 136,
   "metadata": {},
   "outputs": [],
   "source": [
    "# estimatorにモデルをセット\n",
    "# LassoCVを使って、正則化の強さは自動決定\n",
    "estimator = LassoCV(normalize=True, cv=10)\n",
    "\n",
    "# モデルの情報を使って特徴選択を行う場合は、SelectFromModelを使う\n",
    "# 今回は係数が1e-5以下である特徴を削除する\n",
    "# 係数のしきい値はthresholdで指定する\n",
    "sfm = SelectFromModel(estimator, threshold=1e-5)"
   ]
  },
  {
   "cell_type": "code",
   "execution_count": 151,
   "metadata": {},
   "outputs": [
    {
     "data": {
      "text/plain": [
       "SelectFromModel(estimator=LassoCV(alphas=None, copy_X=True, cv=10, eps=0.001, fit_intercept=True,\n",
       "    max_iter=1000, n_alphas=100, n_jobs=None, normalize=True,\n",
       "    positive=False, precompute='auto', random_state=None,\n",
       "    selection='cyclic', tol=0.0001, verbose=False),\n",
       "        max_features=None, norm_order=1, prefit=False, threshold=1e-05)"
      ]
     },
     "execution_count": 151,
     "metadata": {},
     "output_type": "execute_result"
    }
   ],
   "source": [
    "ks_data = Ks_data()\n",
    "\n",
    "# 量的変数の設定\n",
    "ks_data.set_quant_var([\"log_usd_goal_real\",\"days\",\"name_len\"])\n",
    "\n",
    "# 質的変数の設定\n",
    "ks_data.set_quality_var([\"category\",\"main_category\",\"country\",\"name_init\",\"launched_month\",\"deadline_month\"])\n",
    "\n",
    "# 質的変数のダミー化\n",
    "ks_data.set_dummy()\n",
    "\n",
    "df_ks_result = ks_data.get_df()\n",
    "\n",
    "\n",
    "df_label = df_ks_result[\"state_bool\"]\n",
    "df_data = df_ks_result.drop(\"state_bool\", axis=1)\n",
    "\n",
    "y = df_label.values\n",
    "X = df_data.values\n",
    "\n",
    "# fitで特徴選択を実行\n",
    "sfm.fit(X, y)"
   ]
  },
  {
   "cell_type": "code",
   "execution_count": 152,
   "metadata": {},
   "outputs": [
    {
     "data": {
      "text/plain": [
       "array([ True,  True,  True,  True,  True, False, False,  True, False,\n",
       "        True, False,  True,  True,  True,  True,  True,  True,  True,\n",
       "        True,  True,  True,  True,  True,  True,  True,  True,  True,\n",
       "        True,  True,  True, False,  True,  True,  True,  True, False,\n",
       "        True,  True,  True,  True,  True,  True, False,  True,  True,\n",
       "        True,  True,  True,  True,  True,  True,  True,  True, False,\n",
       "        True,  True,  True, False,  True,  True,  True,  True,  True,\n",
       "        True,  True, False,  True,  True, False,  True,  True,  True,\n",
       "        True,  True,  True,  True,  True,  True,  True,  True,  True,\n",
       "        True,  True,  True,  True,  True,  True,  True,  True,  True,\n",
       "        True,  True,  True,  True, False,  True,  True,  True,  True,\n",
       "        True,  True, False,  True,  True,  True,  True,  True,  True,\n",
       "        True,  True,  True,  True,  True,  True,  True,  True,  True,\n",
       "       False,  True,  True, False,  True,  True, False,  True,  True,\n",
       "        True,  True,  True,  True,  True,  True, False, False, False,\n",
       "        True,  True,  True,  True,  True,  True,  True,  True,  True,\n",
       "        True,  True,  True,  True,  True,  True,  True,  True,  True,\n",
       "        True,  True,  True,  True,  True,  True,  True,  True,  True,\n",
       "        True,  True,  True,  True,  True,  True,  True,  True, False,\n",
       "        True,  True,  True,  True,  True, False, False,  True,  True,\n",
       "        True,  True,  True,  True,  True,  True,  True,  True,  True,\n",
       "        True,  True,  True,  True,  True,  True,  True,  True,  True,\n",
       "        True,  True,  True,  True,  True, False,  True,  True,  True,\n",
       "        True,  True,  True,  True,  True,  True, False, False,  True,\n",
       "       False, False,  True,  True,  True,  True, False,  True,  True,\n",
       "        True,  True,  True, False,  True,  True,  True,  True,  True,\n",
       "       False,  True,  True,  True, False,  True,  True,  True,  True,\n",
       "        True,  True,  True, False,  True,  True,  True,  True,  True,\n",
       "        True,  True,  True, False,  True,  True,  True,  True,  True,\n",
       "        True,  True,  True,  True,  True,  True,  True,  True,  True,\n",
       "        True,  True,  True,  True,  True,  True,  True, False,  True,\n",
       "        True,  True,  True,  True,  True,  True,  True,  True,  True,\n",
       "       False,  True,  True,  True, False,  True,  True,  True, False,\n",
       "        True,  True,  True,  True,  True,  True,  True,  True, False,\n",
       "        True,  True,  True,  True,  True,  True,  True,  True,  True,\n",
       "        True,  True,  True,  True,  True,  True, False,  True,  True,\n",
       "        True,  True,  True,  True,  True,  True,  True,  True,  True,\n",
       "        True,  True,  True,  True,  True,  True,  True,  True, False,\n",
       "        True,  True, False,  True,  True,  True,  True,  True, False,\n",
       "        True,  True])"
      ]
     },
     "execution_count": 152,
     "metadata": {},
     "output_type": "execute_result"
    }
   ],
   "source": [
    "# get_support関数で使用する特徴のインデックスを使用\n",
    "# Trueになっている特徴が使用する特徴\n",
    "sfm.get_support()"
   ]
  },
  {
   "cell_type": "code",
   "execution_count": 153,
   "metadata": {},
   "outputs": [
    {
     "data": {
      "text/plain": [
       "Index(['main_category_Dance', 'main_category_Design',\n",
       "       'main_category_Film & Video', 'main_category_Games', 'category_Blues',\n",
       "       'category_Children's Books', 'category_Comics', 'category_Design',\n",
       "       'category_Drinks', 'category_Fantasy', 'category_Fashion',\n",
       "       'category_Kids', 'category_Makerspaces', 'category_Pet Fashion',\n",
       "       'category_Photography', 'category_Plays', 'category_Punk',\n",
       "       'category_Puzzles', 'category_Quilts', 'category_Woodworking',\n",
       "       'country_BE', 'country_CA', 'launched_month_8', 'deadline_month_7',\n",
       "       'deadline_month_8', 'deadline_month_10', 'deadline_month_11',\n",
       "       'name_init_$', 'name_init_*', 'name_init_1', 'name_init_5',\n",
       "       'name_init_>', 'name_init_G', 'name_init__', 'name_init_j',\n",
       "       'name_init_n', 'name_init_r', 'name_init_{', 'name_init_À',\n",
       "       'name_init_í', 'name_init_—', 'name_init_•'],\n",
       "      dtype='object')"
      ]
     },
     "execution_count": 153,
     "metadata": {},
     "output_type": "execute_result"
    }
   ],
   "source": [
    "# 削除すべき特徴の名前を取得 \n",
    "removed_idx  = ~sfm.get_support()\n",
    "df_data.columns[removed_idx]"
   ]
  },
  {
   "cell_type": "code",
   "execution_count": 154,
   "metadata": {},
   "outputs": [
    {
     "data": {
      "image/png": "[encoded data removed]",
      "text/plain": [
       "<Figure size 432x288 with 1 Axes>"
      ]
     },
     "metadata": {
      "needs_background": "light"
     },
     "output_type": "display_data"
    }
   ],
   "source": [
    "# 係数を棒グラフで表示\n",
    "plt.barh(np.arange(0, len(abs_coef)), abs_coef, tick_label=df_data.columns.values)\n",
    "plt.show()"
   ]
  },
  {
   "cell_type": "code",
   "execution_count": 155,
   "metadata": {},
   "outputs": [
    {
     "name": "stdout",
     "output_type": "stream",
     "text": [
      "ホールドアウト検証結果\n",
      "対数尤度 = -11.179\n",
      "正答率（Accuracy） = 67.634%\n",
      "適合率（Precision） = 61.360%\n",
      "再現率（Recall） = 52.144%\n",
      "F1値（F1-score） = 56.378%\n",
      "\n",
      "\n",
      "{'fit_intercept': True, 'max_iter': 1000, 'penalty': 'elasticnet'} 0.6752770030903746\n"
     ]
    }
   ],
   "source": [
    "# 削除すべき特徴を削除して計算してみる。\n",
    "delete_item = df_data.columns[removed_idx]\n",
    "df_ks_result = df_ks_result.drop(delete_item,axis=1)\n",
    "\n",
    "parameters = { \\\n",
    "    'penalty':['none', 'l2','l1','elasticnet'], \\\n",
    "    'max_iter':[1000, 5000, 10000,50000], \\\n",
    "    'fit_intercept':[True, False] \\\n",
    "    }\n",
    "\n",
    "model =  SGDClassifier(loss='log', random_state=1234, tol=1e-3)\n",
    "model_alg= GridSearchCV(model, parameters, cv=3,)\n",
    "\n",
    "quant_var_list = ks_data.get_quant_var_list()\n",
    "valid_hold = Valid_hold(df_ks_result, model_alg, 5, quant_var_list)\n",
    "clf = valid_hold.run()\n",
    "\n",
    "print(clf.best_params_, clf.best_score_)"
   ]
  },
  {
   "cell_type": "markdown",
   "metadata": {},
   "source": [
    "（考察）　\n",
    "\n",
    "特徴量選択を行わない場合のグリッドサーチの結果は以下。\n",
    "\n",
    "- ホールドアウト検証結果\n",
    "    - 対数尤度 = -11.229\n",
    "    - 正答率（Accuracy） = 67.488%\n",
    "    - 適合率（Precision） = 61.537%\n",
    "    - 再現率（Recall） = 50.517%\n",
    "    - F1値（F1-score） = 55.485%\n",
    "\n",
    "- 最適パラメータ\n",
    "    - {'fit_intercept': False, 'max_iter': 1000, 'penalty': 'elasticnet'} 0.6752053968493253\n",
    "    \n",
    "少しだけ改善されたと言えるかもしれない。"
   ]
  },
  {
   "cell_type": "markdown",
   "metadata": {},
   "source": [
    "## 4. 木モデル\n",
    "木モデルを試す。\n",
    "\n",
    "\n",
    "最初、質的変数はダミー化していたが、ネットで調べているとラベル化する方が良いのではないかと思い、ラベル化している。\n",
    "\n",
    "(preprocessing.LabelEncoder()を使用）"
   ]
  },
  {
   "cell_type": "code",
   "execution_count": 130,
   "metadata": {},
   "outputs": [],
   "source": [
    "from sklearn.tree import DecisionTreeClassifier, export_graphviz\n",
    "\n",
    "ks_data = Ks_data()\n",
    "\n",
    "# 量的変数の設定\n",
    "ks_data.set_quant_var([\"log_usd_goal_real\",\"days\",\"name_len\"])\n",
    "\n",
    "# 質的変数の設定\n",
    "ks_data.set_quality_var([\"category\",\"main_category\",\"country\",\"name_init\",\"launched_month\",\"deadline_month\"])\n",
    "\n",
    "\n",
    "#ks_data.set_dummy()\n",
    "# 質的変数のラベル化\n",
    "ks_data.set_label()\n",
    "\n",
    "df_ks_result = ks_data.get_df()\n",
    "\n",
    "\n",
    "y_train = df_ks_result[\"state_bool\"]\n",
    "X_train  = df_ks_result.drop(\"state_bool\", axis=1)"
   ]
  },
  {
   "cell_type": "code",
   "execution_count": 131,
   "metadata": {},
   "outputs": [
    {
     "name": "stdout",
     "output_type": "stream",
     "text": [
      "score= 0.8938026682746665\n"
     ]
    }
   ],
   "source": [
    "model_alg = DecisionTreeClassifier(criterion=\"entropy\", max_depth=None, min_samples_leaf=3, random_state=1234)\n",
    "clf = model_alg.fit(X_train, y_train)\n",
    "print(\"score=\", clf.score(X_train, y_train))"
   ]
  },
  {
   "cell_type": "code",
   "execution_count": 132,
   "metadata": {},
   "outputs": [
    {
     "name": "stdout",
     "output_type": "stream",
     "text": [
      "0回目\n",
      "対数尤度 = -13.480\n",
      "正答率（Accuracy） = 60.971%\n",
      "適合率（Precision） = 51.942%\n",
      "再現率（Recall） = 49.905%\n",
      "F1値（F1-score） = 50.903%\n",
      "\n",
      "\n",
      "1回目\n",
      "対数尤度 = -13.534\n",
      "正答率（Accuracy） = 60.814%\n",
      "適合率（Precision） = 51.991%\n",
      "再現率（Recall） = 50.282%\n",
      "F1値（F1-score） = 51.122%\n",
      "\n",
      "\n",
      "2回目\n",
      "対数尤度 = -13.445\n",
      "正答率（Accuracy） = 61.074%\n",
      "適合率（Precision） = 51.885%\n",
      "再現率（Recall） = 50.126%\n",
      "F1値（F1-score） = 50.991%\n",
      "\n",
      "\n",
      "3回目\n",
      "対数尤度 = -13.599\n",
      "正答率（Accuracy） = 60.628%\n",
      "適合率（Precision） = 51.329%\n",
      "再現率（Recall） = 49.352%\n",
      "F1値（F1-score） = 50.321%\n",
      "\n",
      "\n",
      "4回目\n",
      "対数尤度 = -13.518\n",
      "正答率（Accuracy） = 60.862%\n",
      "適合率（Precision） = 51.332%\n",
      "再現率（Recall） = 50.225%\n",
      "F1値（F1-score） = 50.773%\n",
      "\n",
      "\n",
      "交差検証平均結果\n",
      "対数尤度 = -13.515\n",
      "正答率（Accuracy） = 60.870%\n",
      "適合率（Precision） = 51.696%\n",
      "再現率（Recall） = 49.978%\n",
      "F1値（F1-score） = 50.822%\n",
      "\n",
      "\n",
      "交差検証全訓練データによる訓練結果\n",
      "対数尤度 = -3.619\n",
      "正答率（Accuracy） = 89.521%\n",
      "適合率（Precision） = 88.627%\n",
      "再現率（Recall） = 85.008%\n",
      "F1値（F1-score） = 86.780%\n",
      "\n",
      "\n",
      "ホールドアウト検証結果\n",
      "対数尤度 = -13.534\n",
      "正答率（Accuracy） = 60.816%\n",
      "適合率（Precision） = 51.173%\n",
      "再現率（Recall） = 50.318%\n",
      "F1値（F1-score） = 50.742%\n",
      "\n",
      "\n"
     ]
    }
   ],
   "source": [
    "quant_var_list = ks_data.get_quant_var_list()\n",
    "valid_hold_cross = Valid_hold_cross(df_ks_result, model_alg, 5, 5, quant_var_list)\n",
    "clf = valid_hold_cross.run()"
   ]
  },
  {
   "cell_type": "markdown",
   "metadata": {},
   "source": [
    "(考察）　交差検証での全訓練データの結果は89.5%だが、ホールドアウトでの検証では60.8%に落ちる。\n",
    "\n",
    "交差検証の平均では60%程度なので、全訓練データを使うと過学習を起こしているのではないかと思われる。"
   ]
  },
  {
   "cell_type": "code",
   "execution_count": 137,
   "metadata": {},
   "outputs": [
    {
     "name": "stdout",
     "output_type": "stream",
     "text": [
      "score= 0.6700957262380343\n",
      "0回目\n",
      "対数尤度 = -11.702\n",
      "正答率（Accuracy） = 66.119%\n",
      "適合率（Precision） = 61.529%\n",
      "再現率（Recall） = 43.844%\n",
      "F1値（F1-score） = 51.202%\n",
      "\n",
      "\n",
      "1回目\n",
      "対数尤度 = -11.775\n",
      "正答率（Accuracy） = 65.908%\n",
      "適合率（Precision） = 60.586%\n",
      "再現率（Recall） = 46.787%\n",
      "F1値（F1-score） = 52.799%\n",
      "\n",
      "\n",
      "2回目\n",
      "対数尤度 = -11.707\n",
      "正答率（Accuracy） = 66.104%\n",
      "適合率（Precision） = 60.009%\n",
      "再現率（Recall） = 48.241%\n",
      "F1値（F1-score） = 53.486%\n",
      "\n",
      "\n",
      "3回目\n",
      "対数尤度 = -11.680\n",
      "正答率（Accuracy） = 66.183%\n",
      "適合率（Precision） = 60.618%\n",
      "再現率（Recall） = 46.540%\n",
      "F1値（F1-score） = 52.654%\n",
      "\n",
      "\n",
      "4回目\n",
      "対数尤度 = -11.563\n",
      "正答率（Accuracy） = 66.522%\n",
      "適合率（Precision） = 60.854%\n",
      "再現率（Recall） = 46.797%\n",
      "F1値（F1-score） = 52.908%\n",
      "\n",
      "\n",
      "交差検証平均結果\n",
      "対数尤度 = -11.686\n",
      "正答率（Accuracy） = 66.167%\n",
      "適合率（Precision） = 60.719%\n",
      "再現率（Recall） = 46.442%\n",
      "F1値（F1-score） = 52.610%\n",
      "\n",
      "\n",
      "交差検証全訓練データによる訓練結果\n",
      "対数尤度 = -11.438\n",
      "正答率（Accuracy） = 66.885%\n",
      "適合率（Precision） = 62.000%\n",
      "再現率（Recall） = 46.884%\n",
      "F1値（F1-score） = 53.393%\n",
      "\n",
      "\n",
      "ホールドアウト検証結果\n",
      "対数尤度 = -11.591\n",
      "正答率（Accuracy） = 66.440%\n",
      "適合率（Precision） = 60.699%\n",
      "再現率（Recall） = 46.322%\n",
      "F1値（F1-score） = 52.545%\n",
      "\n",
      "\n"
     ]
    }
   ],
   "source": [
    "model_alg = DecisionTreeClassifier(criterion=\"entropy\", max_depth=10, min_samples_leaf=3, random_state=1234)\n",
    "clf = model_alg.fit(X_train, y_train)\n",
    "print(\"score=\", clf.score(X_train, y_train))\n",
    "quant_var_list = ks_data.get_quant_var_list()\n",
    "valid_hold_cross = Valid_hold_cross(df_ks_result, model_alg, 5, 5, quant_var_list)\n",
    "clf = valid_hold_cross.run()"
   ]
  },
  {
   "cell_type": "markdown",
   "metadata": {},
   "source": [
    "（考察）　深さを10程度に抑えると、過学習は抑えられたように思われる。"
   ]
  },
  {
   "cell_type": "code",
   "execution_count": 138,
   "metadata": {},
   "outputs": [
    {
     "name": "stdout",
     "output_type": "stream",
     "text": [
      "score= 0.6196879475390066\n"
     ]
    }
   ],
   "source": [
    "model_alg = DecisionTreeClassifier(criterion=\"entropy\", max_depth=3, min_samples_leaf=3, random_state=1234)\n",
    "clf = model_alg.fit(X_train, y_train)\n",
    "print(\"score=\", clf.score(X_train, y_train))"
   ]
  },
  {
   "cell_type": "code",
   "execution_count": 139,
   "metadata": {},
   "outputs": [
    {
     "data": {
      "image/png": "[encoded data removed]",
      "text/plain": [
       "<IPython.core.display.Image object>"
      ]
     },
     "execution_count": 139,
     "metadata": {},
     "output_type": "execute_result"
    }
   ],
   "source": [
    "# 決定木の描画\n",
    "\n",
    "dot_data = StringIO() #dotファイル情報の格納先\n",
    "export_graphviz(clf, out_file=dot_data,  \n",
    "                     feature_names=X_train.columns,  \n",
    "                     class_names=[\"Failed\",\"Successful\"],  \n",
    "                     filled=True, rounded=True,  \n",
    "                     special_characters=True) \n",
    "graph = pydotplus.graph_from_dot_data(dot_data.getvalue()) \n",
    "Image(graph.create_png())\n"
   ]
  },
  {
   "cell_type": "markdown",
   "metadata": {},
   "source": [
    "（考察）　決定木を表示するのに、深さがNoneだと表示が終わらないので、深さは3にした。\n",
    "\n",
    "以下の順序はどうすべきか？\n",
    "\n",
    "- featture_namesはデータフレームX_train.columnsで取得したがこの順序であっているのか？\n",
    "- class_namesはstate_boolがFalse(0),True(1)として、0,1の順で\"Failed\",Successful\"の順で並べたがあっているのか？"
   ]
  },
  {
   "cell_type": "markdown",
   "metadata": {},
   "source": [
    "### グリッドサーチ"
   ]
  },
  {
   "cell_type": "code",
   "execution_count": 141,
   "metadata": {},
   "outputs": [
    {
     "name": "stdout",
     "output_type": "stream",
     "text": [
      "ホールドアウト検証結果\n",
      "対数尤度 = -11.589\n",
      "正答率（Accuracy） = 66.448%\n",
      "適合率（Precision） = 60.719%\n",
      "再現率（Recall） = 46.307%\n",
      "F1値（F1-score） = 52.543%\n",
      "\n",
      "\n",
      "{'criterion': 'entropy', 'max_depth': 10, 'min_samples_leaf': 8, 'min_samples_split': 2} 0.6611404236074471\n"
     ]
    }
   ],
   "source": [
    "from sklearn.tree import DecisionTreeClassifier, export_graphviz\n",
    "\n",
    "ks_data = Ks_data()\n",
    "\n",
    "# 量的変数の設定\n",
    "ks_data.set_quant_var([\"log_usd_goal_real\",\"days\",\"name_len\"])\n",
    "\n",
    "# 質的変数の設定\n",
    "ks_data.set_quality_var([\"category\",\"main_category\",\"country\",\"name_init\",\"launched_month\",\"deadline_month\"])\n",
    "\n",
    "\n",
    "#ks_data.set_dummy()\n",
    "# 質的変数のラベル化\n",
    "ks_data.set_label()\n",
    "\n",
    "df_ks_result = ks_data.get_df()\n",
    "\n",
    "parameters = {\n",
    "                'criterion':[\"gini\",\"entropy\"], \n",
    "                'max_depth':[3,10,20,30], \n",
    "                'min_samples_leaf':[2,4,8],\n",
    "                'min_samples_split':[2,4,8]\n",
    "             }\n",
    "model =  model_alg = DecisionTreeClassifier(random_state=1234)\n",
    "model_alg= GridSearchCV(model, parameters, cv=5)\n",
    "\n",
    "quant_var_list = ks_data.get_quant_var_list()\n",
    "valid_hold = Valid_hold(df_ks_result, model_alg, 5, quant_var_list)\n",
    "clf = valid_hold.run()\n",
    "\n",
    "print(clf.best_params_, clf.best_score_)"
   ]
  },
  {
   "cell_type": "markdown",
   "metadata": {},
   "source": [
    "## 5. ランダムフォレスト"
   ]
  },
  {
   "cell_type": "code",
   "execution_count": 145,
   "metadata": {},
   "outputs": [],
   "source": [
    "from sklearn.ensemble import RandomForestClassifier\n",
    "\n",
    "ks_data = Ks_data()\n",
    "\n",
    "# 量的変数の設定\n",
    "ks_data.set_quant_var([\"log_usd_goal_real\",\"days\",\"name_len\"])\n",
    "\n",
    "# 質的変数の設定\n",
    "ks_data.set_quality_var([\"category\",\"main_category\",\"country\",\"name_init\",\"launched_month\",\"deadline_month\"])\n",
    "\n",
    "\n",
    "#ks_data.set_dummy()\n",
    "# 質的変数のラベル化\n",
    "ks_data.set_label()\n",
    "\n",
    "df_ks_result = ks_data.get_df()\n",
    "y_train = df_ks_result[\"state_bool\"]\n",
    "X_train  = df_ks_result.drop(\"state_bool\", axis=1)\n"
   ]
  },
  {
   "cell_type": "code",
   "execution_count": 146,
   "metadata": {},
   "outputs": [
    {
     "name": "stdout",
     "output_type": "stream",
     "text": [
      "score= 0.671295696088038\n",
      "[0.12238462 0.14208239 0.02149077 0.39250117 0.18326755 0.0083417\n",
      " 0.00909338 0.1076368  0.01320163]\n"
     ]
    },
    {
     "data": {
      "image/png": "[encoded data removed]",
      "text/plain": [
       "<Figure size 504x144 with 1 Axes>"
      ]
     },
     "metadata": {
      "needs_background": "light"
     },
     "output_type": "display_data"
    }
   ],
   "source": [
    "clf = RandomForestClassifier(n_estimators=10, max_depth=10, criterion=\"entropy\",\n",
    "                                                 min_samples_leaf=8, min_samples_split=2, random_state=1234)\n",
    "clf.fit(X_train, y_train)\n",
    "print(\"score=\", clf.score(X_train, y_train))\n",
    "\n",
    "# 説明変数の重要度を出力する\n",
    "print(clf.feature_importances_)\n",
    "pd.DataFrame(clf.feature_importances_, index=X_train.columns).plot.bar(figsize=(7,2))\n",
    "plt.ylabel(\"Importance\")\n",
    "plt.xlabel(\"Features\")\n",
    "plt.show()"
   ]
  },
  {
   "cell_type": "code",
   "execution_count": 147,
   "metadata": {},
   "outputs": [
    {
     "name": "stdout",
     "output_type": "stream",
     "text": [
      "0回目\n",
      "対数尤度 = -11.517\n",
      "正答率（Accuracy） = 66.656%\n",
      "適合率（Precision） = 63.585%\n",
      "再現率（Recall） = 41.552%\n",
      "F1値（F1-score） = 50.260%\n",
      "\n",
      "\n",
      "1回目\n",
      "対数尤度 = -11.502\n",
      "正答率（Accuracy） = 66.697%\n",
      "適合率（Precision） = 63.957%\n",
      "再現率（Recall） = 41.899%\n",
      "F1値（F1-score） = 50.630%\n",
      "\n",
      "\n",
      "2回目\n",
      "対数尤度 = -11.555\n",
      "正答率（Accuracy） = 66.545%\n",
      "適合率（Precision） = 62.827%\n",
      "再現率（Recall） = 42.084%\n",
      "F1値（F1-score） = 50.405%\n",
      "\n",
      "\n",
      "3回目\n",
      "対数尤度 = -11.342\n",
      "正答率（Accuracy） = 67.161%\n",
      "適合率（Precision） = 63.926%\n",
      "再現率（Recall） = 42.976%\n",
      "F1値（F1-score） = 51.399%\n",
      "\n",
      "\n",
      "4回目\n",
      "対数尤度 = -11.635\n",
      "正答率（Accuracy） = 66.313%\n",
      "適合率（Precision） = 62.379%\n",
      "再現率（Recall） = 40.748%\n",
      "F1値（F1-score） = 49.295%\n",
      "\n",
      "\n",
      "交差検証平均結果\n",
      "対数尤度 = -11.510\n",
      "正答率（Accuracy） = 66.674%\n",
      "適合率（Precision） = 63.335%\n",
      "再現率（Recall） = 41.852%\n",
      "F1値（F1-score） = 50.398%\n",
      "\n",
      "\n",
      "交差検証全訓練データによる訓練結果\n",
      "対数尤度 = -11.266\n",
      "正答率（Accuracy） = 67.381%\n",
      "適合率（Precision） = 64.539%\n",
      "再現率（Recall） = 43.001%\n",
      "F1値（F1-score） = 51.613%\n",
      "\n",
      "\n",
      "ホールドアウト検証結果\n",
      "対数尤度 = -11.441\n",
      "正答率（Accuracy） = 66.876%\n",
      "適合率（Precision） = 62.933%\n",
      "再現率（Recall） = 42.376%\n",
      "F1値（F1-score） = 50.648%\n",
      "\n",
      "\n"
     ]
    }
   ],
   "source": [
    "model_alg = RandomForestClassifier(n_estimators=10, max_depth=10, criterion=\"entropy\",\n",
    "                                                 min_samples_leaf=2, min_samples_split=2, random_state=1234)\n",
    "quant_var_list = ks_data.get_quant_var_list()\n",
    "valid_hold_cross = Valid_hold_cross(df_ks_result, model_alg, 5, 5, quant_var_list)\n",
    "clf = valid_hold_cross.run()"
   ]
  },
  {
   "cell_type": "markdown",
   "metadata": {},
   "source": [
    "（考察）　ランダムフォレストを使用すると、単なる木モデルに比べて、正答率はわずかに上がる。"
   ]
  },
  {
   "cell_type": "markdown",
   "metadata": {},
   "source": [
    "### グリッドサーチ"
   ]
  },
  {
   "cell_type": "code",
   "execution_count": 129,
   "metadata": {},
   "outputs": [
    {
     "name": "stdout",
     "output_type": "stream",
     "text": [
      "ホールドアウト検証結果\n",
      "対数尤度 = -11.007\n",
      "正答率（Accuracy） = 68.133%\n",
      "適合率（Precision） = 62.855%\n",
      "再現率（Recall） = 50.242%\n",
      "F1値（F1-score） = 55.845%\n",
      "\n",
      "\n",
      "{'criterion': 'entropy', 'max_depth': 20, 'min_samples_leaf': 8, 'min_samples_split': 2, 'n_estimators': 20} 0.6795432275570965\n"
     ]
    }
   ],
   "source": [
    "parameters = {\n",
    "                'criterion':[\"gini\",\"entropy\"], \n",
    "                'max_depth':[3,10,20,30], \n",
    "                'n_estimators':[5,10,20],\n",
    "                'min_samples_leaf':[2,4,8],\n",
    "                'min_samples_split':[2,4,8]\n",
    "             }\n",
    "model =  model_alg = RandomForestClassifier(random_state=1234)\n",
    "model_alg= GridSearchCV(model, parameters, cv=5,)\n",
    "\n",
    "quant_var_list = ks_data.get_quant_var_list()\n",
    "valid_hold = Valid_hold(df_ks_result, model_alg, 5, quant_var_list)\n",
    "clf = valid_hold.run()\n",
    "\n",
    "print(clf.best_params_, clf.best_score_)"
   ]
  },
  {
   "cell_type": "markdown",
   "metadata": {},
   "source": [
    "（考察）　グリッドサーチでは時間がかかるが、上記のような結果が出ており、正答率他が少し上がった。"
   ]
  },
  {
   "cell_type": "markdown",
   "metadata": {},
   "source": [
    "## 6. アダブースト\n",
    "アダブーストを試してみる。"
   ]
  },
  {
   "cell_type": "code",
   "execution_count": 119,
   "metadata": {},
   "outputs": [],
   "source": [
    "from sklearn.ensemble import AdaBoostClassifier\n",
    "from sklearn.tree import DecisionTreeClassifier\n",
    "\n",
    "ks_data = Ks_data()\n",
    "\n",
    "# 量的変数の設定\n",
    "ks_data.set_quant_var([\"log_usd_goal_real\",\"days\",\"name_len\"])\n",
    "\n",
    "# 質的変数の設定\n",
    "ks_data.set_quality_var([\"category\",\"main_category\",\"country\",\"name_init\",\"launched_month\",\"deadline_month\"])\n",
    "\n",
    "\n",
    "#ks_data.set_dummy()\n",
    "# 質的変数のラベル化\n",
    "ks_data.set_label()\n",
    "\n",
    "df_ks_result = ks_data.get_df()\n",
    "y_train = df_ks_result[\"state_bool\"]\n",
    "X_train  = df_ks_result.drop(\"state_bool\", axis=1)\n",
    "\n"
   ]
  },
  {
   "cell_type": "code",
   "execution_count": 123,
   "metadata": {},
   "outputs": [
    {
     "name": "stdout",
     "output_type": "stream",
     "text": [
      "score= 0.7078555815180523\n",
      "[0.20753916 0.09504878 0.03891252 0.23571352 0.11909434 0.05287987\n",
      " 0.04093673 0.12093861 0.08893645]\n"
     ]
    },
    {
     "data": {
      "image/png": "[encoded data removed]",
      "text/plain": [
       "<Figure size 504x144 with 1 Axes>"
      ]
     },
     "metadata": {
      "needs_background": "light"
     },
     "output_type": "display_data"
    }
   ],
   "source": [
    "clf = AdaBoostClassifier(DecisionTreeClassifier(max_depth=10,\n",
    "                                                                                 min_samples_leaf=2,\n",
    "                                                                                 min_samples_split=2, \n",
    "                                                                                 random_state=1234,\n",
    "                                                                                 criterion=\"entropy\"),\n",
    "                                           n_estimators=10, random_state=1234)\n",
    "clf.fit(X_train, y_train)\n",
    "print(\"score=\", clf.score(X_train, y_train))\n",
    "\n",
    "# 説明変数の重要度を出力する\n",
    "# scikit-learnで算出される重要度は、ある説明変数による不純度の減少量合計である。\n",
    "print(clf.feature_importances_)\n",
    "pd.DataFrame(clf.feature_importances_, index=X_train.columns).plot.bar(figsize=(7,2))\n",
    "plt.ylabel(\"Importance\")\n",
    "plt.xlabel(\"Features\")\n",
    "plt.show()"
   ]
  },
  {
   "cell_type": "markdown",
   "metadata": {},
   "source": [
    "（考察）　これをみる限り、ドル換算の目標金額と分類が効いていそう。"
   ]
  },
  {
   "cell_type": "code",
   "execution_count": 124,
   "metadata": {},
   "outputs": [
    {
     "name": "stdout",
     "output_type": "stream",
     "text": [
      "0回目\n",
      "対数尤度 = -11.311\n",
      "正答率（Accuracy） = 67.251%\n",
      "適合率（Precision） = 60.745%\n",
      "再現率（Recall） = 54.339%\n",
      "F1値（F1-score） = 57.364%\n",
      "\n",
      "\n",
      "1回目\n",
      "対数尤度 = -11.435\n",
      "正答率（Accuracy） = 66.893%\n",
      "適合率（Precision） = 60.575%\n",
      "再現率（Recall） = 53.750%\n",
      "F1値（F1-score） = 56.959%\n",
      "\n",
      "\n",
      "2回目\n",
      "対数尤度 = -11.284\n",
      "正答率（Accuracy） = 67.331%\n",
      "適合率（Precision） = 60.676%\n",
      "再現率（Recall） = 54.361%\n",
      "F1値（F1-score） = 57.345%\n",
      "\n",
      "\n",
      "3回目\n",
      "対数尤度 = -11.424\n",
      "正答率（Accuracy） = 66.924%\n",
      "適合率（Precision） = 60.163%\n",
      "再現率（Recall） = 53.684%\n",
      "F1値（F1-score） = 56.739%\n",
      "\n",
      "\n",
      "4回目\n",
      "対数尤度 = -11.398\n",
      "正答率（Accuracy） = 67.001%\n",
      "適合率（Precision） = 60.111%\n",
      "再現率（Recall） = 53.160%\n",
      "F1値（F1-score） = 56.423%\n",
      "\n",
      "\n",
      "交差検証平均結果\n",
      "対数尤度 = -11.370\n",
      "正答率（Accuracy） = 67.080%\n",
      "適合率（Precision） = 60.454%\n",
      "再現率（Recall） = 53.859%\n",
      "F1値（F1-score） = 56.966%\n",
      "\n",
      "\n",
      "交差検証全訓練データによる訓練結果\n",
      "対数尤度 = -9.752\n",
      "正答率（Accuracy） = 71.767%\n",
      "適合率（Precision） = 66.749%\n",
      "再現率（Recall） = 60.206%\n",
      "F1値（F1-score） = 63.309%\n",
      "\n",
      "\n",
      "ホールドアウト検証結果\n",
      "対数尤度 = -11.367\n",
      "正答率（Accuracy） = 67.088%\n",
      "適合率（Precision） = 59.843%\n",
      "再現率（Recall） = 54.553%\n",
      "F1値（F1-score） = 57.076%\n",
      "\n",
      "\n"
     ]
    }
   ],
   "source": [
    "model_alg = AdaBoostClassifier(DecisionTreeClassifier(max_depth=10,\n",
    "                                                                                 min_samples_leaf=2,\n",
    "                                                                                 min_samples_split=2, \n",
    "                                                                                 random_state=1234,\n",
    "                                                                                 criterion=\"entropy\"),\n",
    "                                           n_estimators=10, random_state=1234)\n",
    "quant_var_list = ks_data.get_quant_var_list()\n",
    "valid_hold_cross = Valid_hold_cross(df_ks_result, model_alg, 5, 5, quant_var_list)\n",
    "clf = valid_hold_cross.run()"
   ]
  },
  {
   "cell_type": "markdown",
   "metadata": {},
   "source": [
    "（考察）　深さ10で交差検証の全訓練データに対して上記の通り。"
   ]
  },
  {
   "cell_type": "code",
   "execution_count": 126,
   "metadata": {},
   "outputs": [
    {
     "name": "stdout",
     "output_type": "stream",
     "text": [
      "0回目\n",
      "対数尤度 = -13.120\n",
      "正答率（Accuracy） = 62.015%\n",
      "適合率（Precision） = 53.317%\n",
      "再現率（Recall） = 50.695%\n",
      "F1値（F1-score） = 51.973%\n",
      "\n",
      "\n",
      "1回目\n",
      "対数尤度 = -13.170\n",
      "正答率（Accuracy） = 61.870%\n",
      "適合率（Precision） = 53.390%\n",
      "再現率（Recall） = 50.717%\n",
      "F1値（F1-score） = 52.019%\n",
      "\n",
      "\n",
      "2回目\n",
      "対数尤度 = -13.152\n",
      "正答率（Accuracy） = 61.922%\n",
      "適合率（Precision） = 53.023%\n",
      "再現率（Recall） = 50.364%\n",
      "F1値（F1-score） = 51.659%\n",
      "\n",
      "\n",
      "3回目\n",
      "対数尤度 = -13.122\n",
      "正答率（Accuracy） = 62.009%\n",
      "適合率（Precision） = 53.145%\n",
      "再現率（Recall） = 50.476%\n",
      "F1値（F1-score） = 51.776%\n",
      "\n",
      "\n",
      "4回目\n",
      "対数尤度 = -13.055\n",
      "正答率（Accuracy） = 62.203%\n",
      "適合率（Precision） = 53.104%\n",
      "再現率（Recall） = 50.863%\n",
      "F1値（F1-score） = 51.959%\n",
      "\n",
      "\n",
      "交差検証平均結果\n",
      "対数尤度 = -13.124\n",
      "正答率（Accuracy） = 62.004%\n",
      "適合率（Precision） = 53.196%\n",
      "再現率（Recall） = 50.623%\n",
      "F1値（F1-score） = 51.877%\n",
      "\n",
      "\n",
      "交差検証全訓練データによる訓練結果\n",
      "対数尤度 = -2.679\n",
      "正答率（Accuracy） = 92.243%\n",
      "適合率（Precision） = 91.408%\n",
      "再現率（Recall） = 89.213%\n",
      "F1値（F1-score） = 90.297%\n",
      "\n",
      "\n",
      "ホールドアウト検証結果\n",
      "対数尤度 = -13.074\n",
      "正答率（Accuracy） = 62.148%\n",
      "適合率（Precision） = 52.914%\n",
      "再現率（Recall） = 51.118%\n",
      "F1値（F1-score） = 52.001%\n",
      "\n",
      "\n"
     ]
    }
   ],
   "source": [
    "model_alg = AdaBoostClassifier(DecisionTreeClassifier(max_depth=20,\n",
    "                                                                                 min_samples_leaf=2,\n",
    "                                                                                 min_samples_split=2, \n",
    "                                                                                 random_state=1234,\n",
    "                                                                                 criterion=\"entropy\"),\n",
    "                                           n_estimators=10, random_state=1234)\n",
    "quant_var_list = ks_data.get_quant_var_list()\n",
    "valid_hold_cross = Valid_hold_cross(df_ks_result, model_alg, 5, 5, quant_var_list)\n",
    "clf = valid_hold_cross.run()"
   ]
  },
  {
   "cell_type": "markdown",
   "metadata": {},
   "source": [
    "（考察）　深さを20にすると、さらに過学習になっているように思われる。\n",
    "\n",
    "アダブーストは直列な計算のため、ランダムフォレストに比べて、計算がかかった。（よって、グリッドサーチは行わなかった。）"
   ]
  },
  {
   "cell_type": "markdown",
   "metadata": {},
   "source": [
    "## 7. ニューラルネットワーク"
   ]
  },
  {
   "cell_type": "code",
   "execution_count": 31,
   "metadata": {},
   "outputs": [],
   "source": [
    "from tensorflow.keras.utils import to_categorical\n",
    "# テストデータ、訓練データの標準化\n",
    "def trans_stdsc(X_train,X_test,quant_var_list):\n",
    "    for item in quant_var_list:\n",
    "        stdsc = StandardScaler()\n",
    "        X_train.loc[:,item]  = stdsc.fit_transform(X_train[item].to_numpy().reshape(-1,1).astype('float64'))       \n",
    "        X_test.loc[:,item]  = stdsc.transform(X_test[item].to_numpy().reshape(-1,1).astype('float64')) \n",
    "    return X_train, X_test\n",
    "\n",
    "# one-hotベクトルへの変換\n",
    "def trans_onehot(y_train,y_test):\n",
    "    y_train = to_categorical(y_train)\n",
    "    y_test = to_categorical(y_test)\n",
    "    return y_train, y_test\n",
    "    \n",
    "# ------ 最適化手法 ------\n",
    "sgd = SGD(lr=0.01, momentum=0.9, nesterov=False)\n",
    "rms = RMSprop(lr=0.01)\n",
    "adag = Adagrad(lr=0.01)\n",
    "adad = Adadelta(lr=0.01)\n",
    "adam = Adam(lr=0.01)\n",
    "# -----------------------------"
   ]
  },
  {
   "cell_type": "code",
   "execution_count": 32,
   "metadata": {},
   "outputs": [
    {
     "name": "stderr",
     "output_type": "stream",
     "text": [
      "C:\\Users\\fumit\\Anaconda3\\lib\\site-packages\\pandas\\core\\indexing.py:543: SettingWithCopyWarning: \n",
      "A value is trying to be set on a copy of a slice from a DataFrame.\n",
      "Try using .loc[row_indexer,col_indexer] = value instead\n",
      "\n",
      "See the caveats in the documentation: http://pandas.pydata.org/pandas-docs/stable/indexing.html#indexing-view-versus-copy\n",
      "  self.obj[item] = s\n",
      "C:\\Users\\fumit\\Anaconda3\\lib\\site-packages\\pandas\\core\\indexing.py:543: SettingWithCopyWarning: \n",
      "A value is trying to be set on a copy of a slice from a DataFrame.\n",
      "Try using .loc[row_indexer,col_indexer] = value instead\n",
      "\n",
      "See the caveats in the documentation: http://pandas.pydata.org/pandas-docs/stable/indexing.html#indexing-view-versus-copy\n",
      "  self.obj[item] = s\n",
      "C:\\Users\\fumit\\Anaconda3\\lib\\site-packages\\pandas\\core\\indexing.py:543: SettingWithCopyWarning: \n",
      "A value is trying to be set on a copy of a slice from a DataFrame.\n",
      "Try using .loc[row_indexer,col_indexer] = value instead\n",
      "\n",
      "See the caveats in the documentation: http://pandas.pydata.org/pandas-docs/stable/indexing.html#indexing-view-versus-copy\n",
      "  self.obj[item] = s\n",
      "C:\\Users\\fumit\\Anaconda3\\lib\\site-packages\\pandas\\core\\indexing.py:543: SettingWithCopyWarning: \n",
      "A value is trying to be set on a copy of a slice from a DataFrame.\n",
      "Try using .loc[row_indexer,col_indexer] = value instead\n",
      "\n",
      "See the caveats in the documentation: http://pandas.pydata.org/pandas-docs/stable/indexing.html#indexing-view-versus-copy\n",
      "  self.obj[item] = s\n",
      "C:\\Users\\fumit\\Anaconda3\\lib\\site-packages\\pandas\\core\\indexing.py:543: SettingWithCopyWarning: \n",
      "A value is trying to be set on a copy of a slice from a DataFrame.\n",
      "Try using .loc[row_indexer,col_indexer] = value instead\n",
      "\n",
      "See the caveats in the documentation: http://pandas.pydata.org/pandas-docs/stable/indexing.html#indexing-view-versus-copy\n",
      "  self.obj[item] = s\n",
      "C:\\Users\\fumit\\Anaconda3\\lib\\site-packages\\pandas\\core\\indexing.py:543: SettingWithCopyWarning: \n",
      "A value is trying to be set on a copy of a slice from a DataFrame.\n",
      "Try using .loc[row_indexer,col_indexer] = value instead\n",
      "\n",
      "See the caveats in the documentation: http://pandas.pydata.org/pandas-docs/stable/indexing.html#indexing-view-versus-copy\n",
      "  self.obj[item] = s\n"
     ]
    }
   ],
   "source": [
    "ks_data = Ks_data()\n",
    "\n",
    "# 量的変数の設定\n",
    "ks_data.set_quant_var([\"log_usd_goal_real\",\"days\",\"name_len\"])\n",
    "\n",
    "# 質的変数の設定\n",
    "ks_data.set_quality_var([\"category\",\"main_category\",\"country\",\"name_init\",\"launched_month\",\"deadline_month\"])\n",
    "\n",
    "# 質的変数のダミー化\n",
    "ks_data.set_dummy()\n",
    "# 質的変数のラベル化\n",
    "# ks_data.set_label()\n",
    "\n",
    "df_ks_result = ks_data.get_df()\n",
    "y = df_ks_result[\"state_bool\"]\n",
    "X  = df_ks_result.drop(\"state_bool\", axis=1)\n",
    "\n",
    "X_train, X_test, y_train, y_test = train_test_split(X, y, test_size=0.3, random_state=1234)\n",
    "\n",
    "quant_var_list = ks_data.get_quant_var_list()\n",
    "\n",
    "# 量的変数の標準化\n",
    "X_train, X_test = trans_stdsc(X_train, X_test, quant_var_list)\n",
    "\n",
    "    \n",
    "# one-hotベクトルに変換\n",
    "y_train, y_test = trans_onehot(y_train,y_test)\n"
   ]
  },
  {
   "cell_type": "code",
   "execution_count": 37,
   "metadata": {},
   "outputs": [],
   "source": [
    "model = Sequential()\n",
    "model.add(Dense(400, activation='relu', input_dim=353))\n",
    "model.add(Dense(300, activation='relu', input_dim=400))\n",
    "model.add(Dense(100, activation='relu', input_dim=300))\n",
    "model.add(Dense(50, activation='relu', input_dim=100))\n",
    "model.add(Dense(2, activation='softmax'))#最終層のactivationは変更しないこと\n",
    "\n",
    "\n",
    "model.compile(loss='categorical_crossentropy',\n",
    "              optimizer=adam,\n",
    "              metrics=['accuracy'])"
   ]
  },
  {
   "cell_type": "markdown",
   "metadata": {},
   "source": [
    "最初のDenseのinput_dimは説明変数の数に合わせる必要がある。"
   ]
  },
  {
   "cell_type": "code",
   "execution_count": 38,
   "metadata": {},
   "outputs": [
    {
     "name": "stdout",
     "output_type": "stream",
     "text": [
      "Train on 232172 samples, validate on 99503 samples\n",
      "Epoch 1/50\n",
      "232172/232172 [==============================] - 31s 133us/sample - loss: 0.6037 - acc: 0.6688 - val_loss: 0.5983 - val_acc: 0.6700\n",
      "Epoch 2/50\n",
      "232172/232172 [==============================] - 31s 132us/sample - loss: 0.6223 - acc: 0.6455 - val_loss: 0.6744 - val_acc: 0.5975\n",
      "Epoch 3/50\n",
      "232172/232172 [==============================] - 31s 133us/sample - loss: 0.6753 - acc: 0.5955 - val_loss: 0.6748 - val_acc: 0.5975\n",
      "Epoch 4/50\n",
      "232172/232172 [==============================] - 31s 132us/sample - loss: 0.6753 - acc: 0.5955 - val_loss: 0.6748 - val_acc: 0.5975\n",
      "Epoch 5/50\n",
      "232172/232172 [==============================] - 31s 134us/sample - loss: 0.6753 - acc: 0.5955 - val_loss: 0.6766 - val_acc: 0.5975\n",
      "Epoch 6/50\n",
      "232172/232172 [==============================] - 31s 132us/sample - loss: 0.6753 - acc: 0.5955 - val_loss: 0.6740 - val_acc: 0.5975\n",
      "Epoch 7/50\n",
      "232172/232172 [==============================] - 31s 133us/sample - loss: 0.6754 - acc: 0.5955 - val_loss: 0.6742 - val_acc: 0.5975\n",
      "Epoch 8/50\n",
      "232172/232172 [==============================] - 31s 131us/sample - loss: 0.6754 - acc: 0.5955 - val_loss: 0.6745 - val_acc: 0.5975\n",
      "Epoch 9/50\n",
      "232172/232172 [==============================] - 31s 133us/sample - loss: 0.6753 - acc: 0.5955 - val_loss: 0.6742 - val_acc: 0.5975\n",
      "Epoch 10/50\n",
      "232172/232172 [==============================] - 31s 132us/sample - loss: 0.6753 - acc: 0.5955 - val_loss: 0.6743 - val_acc: 0.5975\n",
      "Epoch 11/50\n",
      "232172/232172 [==============================] - 31s 133us/sample - loss: 0.6753 - acc: 0.5955 - val_loss: 0.6754 - val_acc: 0.5975\n",
      "Epoch 12/50\n",
      "232172/232172 [==============================] - 31s 131us/sample - loss: 0.6753 - acc: 0.5955 - val_loss: 0.6743 - val_acc: 0.5975\n",
      "Epoch 13/50\n",
      "232172/232172 [==============================] - 31s 133us/sample - loss: 0.6753 - acc: 0.5955 - val_loss: 0.6761 - val_acc: 0.5975\n",
      "Epoch 14/50\n",
      "232172/232172 [==============================] - 31s 132us/sample - loss: 0.6753 - acc: 0.5955 - val_loss: 0.6741 - val_acc: 0.5975\n",
      "Epoch 15/50\n",
      "232172/232172 [==============================] - 31s 133us/sample - loss: 0.6753 - acc: 0.5955 - val_loss: 0.6741 - val_acc: 0.5975\n",
      "Epoch 16/50\n",
      "232172/232172 [==============================] - 31s 131us/sample - loss: 0.6753 - acc: 0.5955 - val_loss: 0.6755 - val_acc: 0.5975\n",
      "Epoch 17/50\n",
      "232172/232172 [==============================] - 31s 133us/sample - loss: 0.6753 - acc: 0.5955 - val_loss: 0.6742 - val_acc: 0.5975\n",
      "Epoch 18/50\n",
      "232172/232172 [==============================] - 31s 132us/sample - loss: 0.6753 - acc: 0.5955 - val_loss: 0.6752 - val_acc: 0.5975\n",
      "Epoch 19/50\n",
      "232172/232172 [==============================] - 31s 133us/sample - loss: 0.6753 - acc: 0.5955 - val_loss: 0.6743 - val_acc: 0.5975\n",
      "Epoch 20/50\n",
      "232172/232172 [==============================] - 31s 131us/sample - loss: 0.6753 - acc: 0.5955 - val_loss: 0.6741 - val_acc: 0.5975\n",
      "Epoch 21/50\n",
      "232172/232172 [==============================] - 31s 134us/sample - loss: 0.6754 - acc: 0.5955 - val_loss: 0.6766 - val_acc: 0.5975\n",
      "Epoch 22/50\n",
      "232172/232172 [==============================] - 30s 131us/sample - loss: 0.6753 - acc: 0.5955 - val_loss: 0.6745 - val_acc: 0.5975\n",
      "Epoch 23/50\n",
      "232172/232172 [==============================] - 31s 133us/sample - loss: 0.6753 - acc: 0.5955 - val_loss: 0.6747 - val_acc: 0.5975\n",
      "Epoch 24/50\n",
      "232172/232172 [==============================] - 30s 131us/sample - loss: 0.6754 - acc: 0.5955 - val_loss: 0.6745 - val_acc: 0.5975\n",
      "Epoch 25/50\n",
      "232172/232172 [==============================] - 129s 557us/sample - loss: 0.6753 - acc: 0.5955 - val_loss: 0.6743 - val_acc: 0.5975\n",
      "Epoch 26/50\n",
      "232172/232172 [==============================] - 35s 153us/sample - loss: 0.6754 - acc: 0.5955 - val_loss: 0.6741 - val_acc: 0.5975\n",
      "Epoch 27/50\n",
      "232172/232172 [==============================] - 31s 133us/sample - loss: 0.6753 - acc: 0.5955 - val_loss: 0.6740 - val_acc: 0.5975\n",
      "Epoch 28/50\n",
      "232172/232172 [==============================] - 30s 131us/sample - loss: 0.6754 - acc: 0.5955 - val_loss: 0.6745 - val_acc: 0.5975\n",
      "Epoch 29/50\n",
      "232172/232172 [==============================] - 31s 133us/sample - loss: 0.6753 - acc: 0.5955 - val_loss: 0.6745 - val_acc: 0.5975\n",
      "Epoch 30/50\n",
      "232172/232172 [==============================] - 30s 131us/sample - loss: 0.6753 - acc: 0.5955 - val_loss: 0.6740 - val_acc: 0.5975\n",
      "Epoch 31/50\n",
      "232172/232172 [==============================] - 31s 133us/sample - loss: 0.6753 - acc: 0.5955 - val_loss: 0.6752 - val_acc: 0.5975\n",
      "Epoch 32/50\n",
      "232172/232172 [==============================] - 31s 132us/sample - loss: 0.6754 - acc: 0.5955 - val_loss: 0.6744 - val_acc: 0.5975\n",
      "Epoch 33/50\n",
      "232172/232172 [==============================] - 31s 133us/sample - loss: 0.6753 - acc: 0.5955 - val_loss: 0.6741 - val_acc: 0.5975\n",
      "Epoch 34/50\n",
      "232172/232172 [==============================] - 30s 131us/sample - loss: 0.6753 - acc: 0.5955 - val_loss: 0.6741 - val_acc: 0.5975\n",
      "Epoch 35/50\n",
      "232172/232172 [==============================] - 31s 134us/sample - loss: 0.6753 - acc: 0.5955 - val_loss: 0.6745 - val_acc: 0.5975\n",
      "Epoch 36/50\n",
      "232172/232172 [==============================] - 31s 132us/sample - loss: 0.6754 - acc: 0.5955 - val_loss: 0.6753 - val_acc: 0.5975\n",
      "Epoch 37/50\n",
      "232172/232172 [==============================] - 31s 133us/sample - loss: 0.6753 - acc: 0.5955 - val_loss: 0.6741 - val_acc: 0.5975\n",
      "Epoch 38/50\n",
      "232172/232172 [==============================] - 30s 131us/sample - loss: 0.6753 - acc: 0.5955 - val_loss: 0.6741 - val_acc: 0.5975\n",
      "Epoch 39/50\n",
      "232172/232172 [==============================] - 31s 133us/sample - loss: 0.6753 - acc: 0.5955 - val_loss: 0.6741 - val_acc: 0.5975\n",
      "Epoch 40/50\n",
      "232172/232172 [==============================] - 31s 131us/sample - loss: 0.6754 - acc: 0.5955 - val_loss: 0.6741 - val_acc: 0.5975\n",
      "Epoch 41/50\n",
      "232172/232172 [==============================] - 35s 149us/sample - loss: 0.6754 - acc: 0.5955 - val_loss: 0.6741 - val_acc: 0.5975\n",
      "Epoch 42/50\n",
      "232172/232172 [==============================] - 31s 132us/sample - loss: 0.6753 - acc: 0.5955 - val_loss: 0.6741 - val_acc: 0.5975\n",
      "Epoch 43/50\n",
      "232172/232172 [==============================] - 31s 133us/sample - loss: 0.6753 - acc: 0.5955 - val_loss: 0.6741 - val_acc: 0.5975\n",
      "Epoch 44/50\n",
      "232172/232172 [==============================] - 30s 131us/sample - loss: 0.6754 - acc: 0.5955 - val_loss: 0.6743 - val_acc: 0.5975\n",
      "Epoch 45/50\n",
      "232172/232172 [==============================] - 32s 136us/sample - loss: 0.6753 - acc: 0.5955 - val_loss: 0.6749 - val_acc: 0.5975\n",
      "Epoch 46/50\n",
      "232172/232172 [==============================] - 31s 132us/sample - loss: 0.6753 - acc: 0.5955 - val_loss: 0.6741 - val_acc: 0.5975\n",
      "Epoch 47/50\n",
      "232172/232172 [==============================] - 31s 133us/sample - loss: 0.6754 - acc: 0.5955 - val_loss: 0.6743 - val_acc: 0.5975\n",
      "Epoch 48/50\n",
      "232172/232172 [==============================] - 31s 131us/sample - loss: 0.6753 - acc: 0.5955 - val_loss: 0.6757 - val_acc: 0.5975\n",
      "Epoch 49/50\n",
      "232172/232172 [==============================] - 31s 134us/sample - loss: 0.6753 - acc: 0.5955 - val_loss: 0.6750 - val_acc: 0.5975\n",
      "Epoch 50/50\n",
      "232172/232172 [==============================] - 31s 132us/sample - loss: 0.6754 - acc: 0.5955 - val_loss: 0.6740 - val_acc: 0.5975\n"
     ]
    },
    {
     "data": {
      "image/png": "[encoded data removed]",
      "text/plain": [
       "<Figure size 432x288 with 1 Axes>"
      ]
     },
     "metadata": {
      "needs_background": "light"
     },
     "output_type": "display_data"
    },
    {
     "data": {
      "image/png": "[encoded data removed]",
      "text/plain": [
       "<Figure size 432x288 with 1 Axes>"
      ]
     },
     "metadata": {
      "needs_background": "light"
     },
     "output_type": "display_data"
    }
   ],
   "source": [
    "# 計算の実行\n",
    "fit = model.fit(X_train, y_train,\n",
    "          epochs=50,\n",
    "          batch_size=20,validation_data=(X_test, y_test))\n",
    "\n",
    "# 各epochにおける損失と精度をdfに入れる\n",
    "df = pd.DataFrame(fit.history)\n",
    "\n",
    "# グラフ化\n",
    "df[[\"loss\", \"val_loss\"]].plot()\n",
    "plt.ylabel(\"loss\")\n",
    "plt.xlabel(\"epoch\")\n",
    "plt.show()\n",
    "\n",
    "df[[\"acc\", \"val_acc\"]].plot()\n",
    "plt.ylabel(\"acc\")\n",
    "plt.xlabel(\"epoch\")\n",
    "plt.ylim([0,1.0])\n",
    "plt.show()"
   ]
  },
  {
   "cell_type": "markdown",
   "metadata": {},
   "source": [
    "（考察）\n",
    "\n",
    "途中で学習が止まっているように思われる。\n",
    "\n",
    "epoc数は10以下で十分？"
   ]
  },
  {
   "cell_type": "markdown",
   "metadata": {},
   "source": [
    "#### モデルの簡素化とepoc数を減らす"
   ]
  },
  {
   "cell_type": "code",
   "execution_count": 39,
   "metadata": {},
   "outputs": [],
   "source": [
    "model = Sequential()\n",
    "model.add(Dense(200, activation='relu', input_dim=353))\n",
    "model.add(Dense(50, activation='relu', input_dim=200))\n",
    "model.add(Dense(2, activation='softmax'))#最終層のactivationは変更しないこと\n",
    "\n",
    "model.compile(loss='categorical_crossentropy',\n",
    "              optimizer=adad,\n",
    "              metrics=['accuracy'])\n"
   ]
  },
  {
   "cell_type": "code",
   "execution_count": 40,
   "metadata": {},
   "outputs": [
    {
     "name": "stdout",
     "output_type": "stream",
     "text": [
      "Train on 232172 samples, validate on 99503 samples\n",
      "Epoch 1/10\n",
      "232172/232172 [==============================] - 19s 83us/sample - loss: 0.6314 - acc: 0.6340 - val_loss: 0.6122 - val_acc: 0.6568\n",
      "Epoch 2/10\n",
      "232172/232172 [==============================] - 19s 82us/sample - loss: 0.6070 - acc: 0.6633 - val_loss: 0.6017 - val_acc: 0.6688\n",
      "Epoch 3/10\n",
      "232172/232172 [==============================] - 19s 82us/sample - loss: 0.5994 - acc: 0.6708 - val_loss: 0.5968 - val_acc: 0.6734\n",
      "Epoch 4/10\n",
      "232172/232172 [==============================] - 19s 83us/sample - loss: 0.5952 - acc: 0.6740 - val_loss: 0.5939 - val_acc: 0.6761\n",
      "Epoch 5/10\n",
      "232172/232172 [==============================] - 19s 82us/sample - loss: 0.5925 - acc: 0.6765 - val_loss: 0.5920 - val_acc: 0.6772\n",
      "Epoch 6/10\n",
      "232172/232172 [==============================] - 19s 82us/sample - loss: 0.5906 - acc: 0.6777 - val_loss: 0.5907 - val_acc: 0.6781\n",
      "Epoch 7/10\n",
      "232172/232172 [==============================] - 19s 82us/sample - loss: 0.5891 - acc: 0.6783 - val_loss: 0.5897 - val_acc: 0.6781\n",
      "Epoch 8/10\n",
      "232172/232172 [==============================] - 19s 83us/sample - loss: 0.5880 - acc: 0.6796 - val_loss: 0.5890 - val_acc: 0.6786\n",
      "Epoch 9/10\n",
      "232172/232172 [==============================] - 19s 82us/sample - loss: 0.5870 - acc: 0.6802 - val_loss: 0.5885 - val_acc: 0.6786\n",
      "Epoch 10/10\n",
      "232172/232172 [==============================] - 19s 82us/sample - loss: 0.5863 - acc: 0.6809 - val_loss: 0.5878 - val_acc: 0.6787\n"
     ]
    },
    {
     "data": {
      "image/png": "[encoded data removed]",
      "text/plain": [
       "<Figure size 432x288 with 1 Axes>"
      ]
     },
     "metadata": {
      "needs_background": "light"
     },
     "output_type": "display_data"
    },
    {
     "data": {
      "image/png": "[encoded data removed]",
      "text/plain": [
       "<Figure size 432x288 with 1 Axes>"
      ]
     },
     "metadata": {
      "needs_background": "light"
     },
     "output_type": "display_data"
    }
   ],
   "source": [
    "\n",
    "# 計算の実行\n",
    "fit = model.fit(X_train, y_train,\n",
    "          epochs=10,\n",
    "          batch_size=20,validation_data=(X_test, y_test))\n",
    "\n",
    "# 各epochにおける損失と精度をdfに入れる\n",
    "df = pd.DataFrame(fit.history)\n",
    "\n",
    "# グラフ化\n",
    "df[[\"loss\", \"val_loss\"]].plot()\n",
    "plt.ylabel(\"loss\")\n",
    "plt.xlabel(\"epoch\")\n",
    "plt.show()\n",
    "\n",
    "df[[\"acc\", \"val_acc\"]].plot()\n",
    "plt.ylabel(\"acc\")\n",
    "plt.xlabel(\"epoch\")\n",
    "plt.ylim([0,1.0])\n",
    "plt.show()"
   ]
  },
  {
   "cell_type": "markdown",
   "metadata": {},
   "source": [
    "(考察）　とりあえずニューラルネットワークを使用してみたが、他の手法と明確な正答率の差異は感じられない。\n",
    "\n",
    "おそらくグリッドサーチをすべきだが、計算時間がかかりすぎて、数が試せない。"
   ]
  },
  {
   "cell_type": "markdown",
   "metadata": {},
   "source": [
    "#### 特徴量選択との組み合わせ\n",
    "埋め込み法で説明変数を減らして、同じモデルで計算してみる。"
   ]
  },
  {
   "cell_type": "code",
   "execution_count": 41,
   "metadata": {},
   "outputs": [],
   "source": [
    "# estimatorにモデルをセット\n",
    "# LassoCVを使って、正則化の強さは自動決定\n",
    "estimator = LassoCV(normalize=True, cv=10)\n",
    "\n",
    "# モデルの情報を使って特徴選択を行う場合は、SelectFromModelを使う\n",
    "# 今回は係数が1e-5以下である特徴を削除する\n",
    "# 係数のしきい値はthresholdで指定する\n",
    "sfm = SelectFromModel(estimator, threshold=1e-5)\n",
    "\n",
    "ks_data = Ks_data()\n",
    "\n",
    "# 量的変数の設定\n",
    "ks_data.set_quant_var([\"log_usd_goal_real\",\"days\",\"name_len\"])\n",
    "\n",
    "# 質的変数の設定\n",
    "ks_data.set_quality_var([\"category\",\"main_category\",\"country\",\"name_init\",\"launched_month\",\"deadline_month\"])\n",
    "\n",
    "# 質的変数のダミー化\n",
    "ks_data.set_dummy()\n",
    "\n",
    "df_ks_result = ks_data.get_df()\n",
    "\n",
    "\n",
    "df_label = df_ks_result[\"state_bool\"]\n",
    "df_data = df_ks_result.drop(\"state_bool\", axis=1)\n",
    "\n",
    "y = df_label.values\n",
    "X = df_data.values\n",
    "\n",
    "# fitで特徴選択を実行\n",
    "sfm.fit(X, y)\n",
    "\n",
    "# 削除すべき特徴の名前を取得 \n",
    "removed_idx  = ~sfm.get_support()\n",
    "\n",
    "# 削除すべき特徴を削除して計算してみる。\n",
    "delete_item = df_data.columns[removed_idx]"
   ]
  },
  {
   "cell_type": "code",
   "execution_count": 42,
   "metadata": {},
   "outputs": [
    {
     "name": "stderr",
     "output_type": "stream",
     "text": [
      "C:\\Users\\fumit\\Anaconda3\\lib\\site-packages\\pandas\\core\\indexing.py:543: SettingWithCopyWarning: \n",
      "A value is trying to be set on a copy of a slice from a DataFrame.\n",
      "Try using .loc[row_indexer,col_indexer] = value instead\n",
      "\n",
      "See the caveats in the documentation: http://pandas.pydata.org/pandas-docs/stable/indexing.html#indexing-view-versus-copy\n",
      "  self.obj[item] = s\n",
      "C:\\Users\\fumit\\Anaconda3\\lib\\site-packages\\pandas\\core\\indexing.py:543: SettingWithCopyWarning: \n",
      "A value is trying to be set on a copy of a slice from a DataFrame.\n",
      "Try using .loc[row_indexer,col_indexer] = value instead\n",
      "\n",
      "See the caveats in the documentation: http://pandas.pydata.org/pandas-docs/stable/indexing.html#indexing-view-versus-copy\n",
      "  self.obj[item] = s\n",
      "C:\\Users\\fumit\\Anaconda3\\lib\\site-packages\\pandas\\core\\indexing.py:543: SettingWithCopyWarning: \n",
      "A value is trying to be set on a copy of a slice from a DataFrame.\n",
      "Try using .loc[row_indexer,col_indexer] = value instead\n",
      "\n",
      "See the caveats in the documentation: http://pandas.pydata.org/pandas-docs/stable/indexing.html#indexing-view-versus-copy\n",
      "  self.obj[item] = s\n",
      "C:\\Users\\fumit\\Anaconda3\\lib\\site-packages\\pandas\\core\\indexing.py:543: SettingWithCopyWarning: \n",
      "A value is trying to be set on a copy of a slice from a DataFrame.\n",
      "Try using .loc[row_indexer,col_indexer] = value instead\n",
      "\n",
      "See the caveats in the documentation: http://pandas.pydata.org/pandas-docs/stable/indexing.html#indexing-view-versus-copy\n",
      "  self.obj[item] = s\n",
      "C:\\Users\\fumit\\Anaconda3\\lib\\site-packages\\pandas\\core\\indexing.py:543: SettingWithCopyWarning: \n",
      "A value is trying to be set on a copy of a slice from a DataFrame.\n",
      "Try using .loc[row_indexer,col_indexer] = value instead\n",
      "\n",
      "See the caveats in the documentation: http://pandas.pydata.org/pandas-docs/stable/indexing.html#indexing-view-versus-copy\n",
      "  self.obj[item] = s\n",
      "C:\\Users\\fumit\\Anaconda3\\lib\\site-packages\\pandas\\core\\indexing.py:543: SettingWithCopyWarning: \n",
      "A value is trying to be set on a copy of a slice from a DataFrame.\n",
      "Try using .loc[row_indexer,col_indexer] = value instead\n",
      "\n",
      "See the caveats in the documentation: http://pandas.pydata.org/pandas-docs/stable/indexing.html#indexing-view-versus-copy\n",
      "  self.obj[item] = s\n"
     ]
    }
   ],
   "source": [
    "y = df_ks_result[\"state_bool\"]\n",
    "X  = df_ks_result.drop(\"state_bool\", axis=1)\n",
    "\n",
    "X_train, X_test, y_train, y_test = train_test_split(X, y, test_size=0.3, random_state=1234)\n",
    "\n",
    "quant_var_list = ks_data.get_quant_var_list()\n",
    "\n",
    "# 量的変数の標準化\n",
    "X_train, X_test = trans_stdsc(X_train, X_test, quant_var_list)\n",
    "\n",
    "# 削除対象の特徴量を削除    \n",
    "X_train = X_train.drop(delete_item,axis=1)\n",
    "X_test = X_test.drop(delete_item,axis=1)\n",
    "\n",
    "# one-hotベクトルに変換\n",
    "y_train, y_test = trans_onehot(y_train,y_test)"
   ]
  },
  {
   "cell_type": "code",
   "execution_count": 43,
   "metadata": {},
   "outputs": [],
   "source": [
    "model = Sequential()\n",
    "model.add(Dense(200, activation='relu', input_dim=311))\n",
    "model.add(Dense(50, activation='relu', input_dim=200))\n",
    "model.add(Dense(2, activation='softmax'))#最終層のactivationは変更しないこと\n",
    "\n",
    "model.compile(loss='categorical_crossentropy',\n",
    "              optimizer=adad,\n",
    "              metrics=['accuracy'])"
   ]
  },
  {
   "cell_type": "code",
   "execution_count": 44,
   "metadata": {},
   "outputs": [
    {
     "name": "stdout",
     "output_type": "stream",
     "text": [
      "Train on 232172 samples, validate on 99503 samples\n",
      "Epoch 1/10\n",
      "232172/232172 [==============================] - 18s 79us/sample - loss: 0.6296 - acc: 0.6372 - val_loss: 0.6117 - val_acc: 0.6593\n",
      "Epoch 2/10\n",
      "232172/232172 [==============================] - 18s 78us/sample - loss: 0.6065 - acc: 0.6644 - val_loss: 0.6009 - val_acc: 0.6701\n",
      "Epoch 3/10\n",
      "232172/232172 [==============================] - 18s 78us/sample - loss: 0.5988 - acc: 0.6721 - val_loss: 0.5962 - val_acc: 0.6749\n",
      "Epoch 4/10\n",
      "232172/232172 [==============================] - 18s 78us/sample - loss: 0.5948 - acc: 0.6752 - val_loss: 0.5936 - val_acc: 0.6764\n",
      "Epoch 5/10\n",
      "232172/232172 [==============================] - 18s 78us/sample - loss: 0.5923 - acc: 0.6770 - val_loss: 0.5919 - val_acc: 0.6774\n",
      "Epoch 6/10\n",
      "232172/232172 [==============================] - 18s 78us/sample - loss: 0.5905 - acc: 0.6781 - val_loss: 0.5908 - val_acc: 0.6781\n",
      "Epoch 7/10\n",
      "232172/232172 [==============================] - 18s 78us/sample - loss: 0.5892 - acc: 0.6790 - val_loss: 0.5899 - val_acc: 0.6785\n",
      "Epoch 8/10\n",
      "232172/232172 [==============================] - 18s 78us/sample - loss: 0.5882 - acc: 0.6795 - val_loss: 0.5894 - val_acc: 0.6790\n",
      "Epoch 9/10\n",
      "232172/232172 [==============================] - 18s 78us/sample - loss: 0.5874 - acc: 0.6803 - val_loss: 0.5888 - val_acc: 0.6785\n",
      "Epoch 10/10\n",
      "232172/232172 [==============================] - 18s 78us/sample - loss: 0.5867 - acc: 0.6804 - val_loss: 0.5885 - val_acc: 0.6784\n"
     ]
    },
    {
     "data": {
      "image/png": "[encoded data removed]",
      "text/plain": [
       "<Figure size 432x288 with 1 Axes>"
      ]
     },
     "metadata": {
      "needs_background": "light"
     },
     "output_type": "display_data"
    },
    {
     "data": {
      "image/png": "[encoded data removed]",
      "text/plain": [
       "<Figure size 432x288 with 1 Axes>"
      ]
     },
     "metadata": {
      "needs_background": "light"
     },
     "output_type": "display_data"
    }
   ],
   "source": [
    "\n",
    "# 計算の実行\n",
    "fit = model.fit(X_train, y_train,\n",
    "          epochs=10,\n",
    "          batch_size=20,validation_data=(X_test, y_test))\n",
    "\n",
    "# 各epochにおける損失と精度をdfに入れる\n",
    "df = pd.DataFrame(fit.history)\n",
    "\n",
    "# グラフ化\n",
    "df[[\"loss\", \"val_loss\"]].plot()\n",
    "plt.ylabel(\"loss\")\n",
    "plt.xlabel(\"epoch\")\n",
    "plt.show()\n",
    "\n",
    "df[[\"acc\", \"val_acc\"]].plot()\n",
    "plt.ylabel(\"acc\")\n",
    "plt.xlabel(\"epoch\")\n",
    "plt.ylim([0,1.0])\n",
    "plt.show()"
   ]
  },
  {
   "cell_type": "markdown",
   "metadata": {},
   "source": [
    "（考察）　特徴量を減らしてもあまり結果は変わらなかった。"
   ]
  },
  {
   "cell_type": "markdown",
   "metadata": {},
   "source": [
    "### ニューラルネットワークまとめ\n",
    "\n",
    "- 層の数やDenseを変えて何度かやってみたが、改善するパラメータが明確にはわからない。\n",
    "- 同じモデルを使用しても、過学習を起こしたり、起こさなかったりし、結果が安定していないこともある。\n",
    "- 計算に時間が結構かかるため、複数のモデルを試すのに時間がかかる。\n",
    "    - いくつかモデルを用意して、バッチ処理させた方が良さそう。\n",
    "- ロジスティック回帰に比べて、明確に結果がよくなったわけではなかった。\n",
    "- 特徴量を減らしてもあまり結果は変わらなかった。"
   ]
  },
  {
   "cell_type": "code",
   "execution_count": null,
   "metadata": {},
   "outputs": [],
   "source": []
  }
 ],
 "metadata": {
  "kernelspec": {
   "display_name": "Python 3",
   "language": "python",
   "name": "python3"
  },
  "language_info": {
   "codemirror_mode": {
    "name": "ipython",
    "version": 3
   },
   "file_extension": ".py",
   "mimetype": "text/x-python",
   "name": "python",
   "nbconvert_exporter": "python",
   "pygments_lexer": "ipython3",
   "version": "3.7.3"
  }
 },
 "nbformat": 4,
 "nbformat_minor": 2
}
